{
 "cells": [
  {
   "cell_type": "markdown",
   "metadata": {},
   "source": [
    "# BASELINE"
   ]
  },
  {
   "cell_type": "code",
   "execution_count": 49,
   "metadata": {},
   "outputs": [],
   "source": [
    "import pandas as pd\n",
    "import numpy as np\n",
    "from imblearn.under_sampling import RandomUnderSampler\n",
    "from sklearn.model_selection import StratifiedKFold\n",
    "from sklearn.preprocessing import StandardScaler\n",
    "from sklearn.metrics import accuracy_score, precision_score, recall_score, roc_auc_score\n",
    "import os\n",
    "from pathlib import Path\n",
    "import xgboost as xgb"
   ]
  },
  {
   "cell_type": "code",
   "execution_count": 120,
   "metadata": {},
   "outputs": [],
   "source": [
    "CITY = \"torino\"\n",
    "\n",
    "data_dir = \"../../preprocessed/\" \n",
    "features_dir = data_dir + \"features/features_all/\"\n",
    "separate_features_dir = data_dir + \"features/features_separate_cities/\"\n",
    "\n",
    "labels_dir = data_dir + \"labels/\" \n",
    "\n",
    "standardize_features = True\n",
    "\n",
    "PCA_components = 64\n",
    "\n",
    "\n",
    "USE_GEO = \"GEO\"\n",
    "\n",
    "network_type = \"vgg16_4096\"\n",
    "\n",
    "standardize_features = True\n",
    "\n",
    "# feature_size = 2048\n",
    "\n",
    "cities = ['milano', 'bologna', 'firenze', 'palermo', 'torino', 'all']"
   ]
  },
  {
   "cell_type": "code",
   "execution_count": 121,
   "metadata": {},
   "outputs": [],
   "source": [
    "label_columns = [\"hType_mix\", \"num_intersect\", \"bld_avg_age\", \"emp_rat_num\",\\\n",
    "\t\t\t\t\"LUM5_single\",\t\"RNR_nres\", \"mdist_smallparks\", \"nig_rat_daily\",\\\n",
    "\t\t\t\t\"nig_rat_daily3\", \"mdist_nres_daily\", \"num_community_places\", \\\n",
    "\t\t\t\t\"num_community_places_poi\", \"avg_block_area\", \"sphi\", \\\n",
    "\t\t\t\t\"enterprises_empl_size\", \"pop_rat_num\",  \\\n",
    "\t\t\t\t\"emp_rat_pop\", \"bld_rat_area\", \"den_nres_daily\",\\\n",
    "\t\t\t\t\"mdist_parks\", \"den_nres_non-daily\", \"mdist_railways\",\\\n",
    "\t\t\t\t\"mdist_highways\", \"mdist_water\", \"activity_density\"]"
   ]
  },
  {
   "cell_type": "code",
   "execution_count": 122,
   "metadata": {},
   "outputs": [],
   "source": [
    "land_use = [\n",
    "\"LUM5_single\",\"RNR_nres\",\"mdist_smallparks\",\n",
    "\"hType_mix\", \"nig_rat_daily\", \"mdist_nres_daily\",\n",
    "\"num_community_places\", \"num_community_places_poi\"]\n",
    "\n",
    "\n",
    "small_blocks = [\n",
    "\"avg_block_area\",\"num_intersect\", \"sphi\"]\n",
    "\n",
    "\n",
    "age_buildings = [\n",
    "\"bld_avg_age\",\"enterprises_empl_size\"]\n",
    "\n",
    "concentration = [\n",
    "\"pop_rat_num\",\"emp_rat_num\",\"emp_rat_pop\",\n",
    "\"bld_rat_area\",\"den_nres_daily\",\"den_nres_non-daily\"]\n",
    "\n",
    "vacuums = [\n",
    "\"mdist_parks\", \"mdist_railways\",\n",
    "\"mdist_highways\", \"mdist_water\"]"
   ]
  },
  {
   "cell_type": "markdown",
   "metadata": {},
   "source": [
    "## Functions"
   ]
  },
  {
   "cell_type": "code",
   "execution_count": 118,
   "metadata": {},
   "outputs": [],
   "source": [
    "if network_type == \"vgg19\":\n",
    "\tfeatures_file = \"Italy_6_cities_vgg19_pca\"+str(PCA_components)+\"_linear_fc_thirdlast_layer.csv\"\n",
    "elif network_type == \"resnet50\":\n",
    "\tfeatures_file = \"Italy_6_cities_resnet_pca\"+str(PCA_components)+\"_second_last_layer.csv\"\n",
    "elif network_type == \"vgg16_4096\":\n",
    "\tfeatures_file = \"Italy_6_cities_resnet_pca\" + str(PCA_components) + \"_vgg16_4096.csv\""
   ]
  },
  {
   "cell_type": "code",
   "execution_count": 124,
   "metadata": {},
   "outputs": [],
   "source": [
    "def get_normalized_labels_features(city_name=CITY):\n",
    "    \n",
    "    if city_name == \"all\":\n",
    "        df = pd.read_csv(features_dir + \"Italy_6_cities_resnet_pca\" + str(PCA_components) + \"_vgg16_4096_labels_features.csv\")\n",
    "    else:\n",
    "\n",
    "        df = pd.read_csv(separate_features_dir + \\\n",
    "            features_file.replace(\".csv\", \"_\" + city_name + \"_labels_features.csv\"))\n",
    "\n",
    "    df[\"city_image\"] = df.\\\n",
    "        apply(lambda x: x.city + \"_\" + x.imageName, axis = 1)\n",
    "\n",
    "    del df['imageName']\n",
    "    del df['city']\n",
    "    del df['index']\n",
    "    return df"
   ]
  },
  {
   "cell_type": "code",
   "execution_count": null,
   "metadata": {},
   "outputs": [],
   "source": []
  },
  {
   "cell_type": "code",
   "execution_count": null,
   "metadata": {},
   "outputs": [],
   "source": []
  },
  {
   "cell_type": "code",
   "execution_count": null,
   "metadata": {},
   "outputs": [],
   "source": []
  },
  {
   "cell_type": "code",
   "execution_count": 125,
   "metadata": {},
   "outputs": [],
   "source": [
    "def baseline(city_name=CITY, label=\"label_activity_density\"):\n",
    "    \n",
    "    data = get_normalized_labels_features(city_name)\n",
    "    \n",
    "    kf = StratifiedKFold(n_splits=5)\n",
    "    \n",
    "    data2 = data.copy()\n",
    "    data3 = data2[data2[label] != 1 ].copy()\n",
    "\n",
    "    target = data3[label].apply(lambda x: int(x) if x == 0 else 1)\n",
    "    \n",
    "    features = data3[\"label_pop_rat_num\"].apply(lambda x: int(x) if x == 0 else 1)\n",
    "    \n",
    "    X = np.array(features.values).reshape(-1, 1)\n",
    "    y = target\n",
    "    \n",
    "    rus = RandomUnderSampler(random_state=1)\n",
    "    X_resampled, y_resampled = rus.fit_sample(X, y)\n",
    "    \n",
    "    acc = []\n",
    "    auc = []\n",
    "    P = []\n",
    "    R = []\n",
    "    \n",
    "#     print (y_resampled)\n",
    "#     print (sum(y_resampled),len(y_resampled))\n",
    "    \n",
    "\n",
    "    kf.get_n_splits(X_resampled, y_resampled)\n",
    "    for train_index, test_index in kf.split(X_resampled, y_resampled):\n",
    "        \n",
    "        X_train, X_test = X_resampled[train_index], X_resampled[test_index]\n",
    "        y_train, y_test = y_resampled[train_index], y_resampled[test_index]\n",
    "\n",
    "        predictions = X_test\n",
    "        accuracy = accuracy_score(y_test, predictions.round())\n",
    "        precision=precision_score(y_test, predictions.round())\n",
    "        recall=recall_score(y_test, predictions.round())\n",
    "        roc=roc_auc_score(y_test,predictions)\n",
    "        \n",
    "#         print (predictions)\n",
    "#         print (predictions.round())\n",
    "#         print (y_test)\n",
    "#         print (sum(y_test), len(y_test))\n",
    "        \n",
    "        acc.append(accuracy)\n",
    "        auc.append(roc)\n",
    "        P.append(precision)\n",
    "        R.append(recall)\n",
    "        \n",
    "    return  ( {\"Accuracy\": (np.mean(acc), np.std(acc)),\n",
    "            \"Precision\" : (np.mean(P), np.std(P)),\n",
    "            \"Recall\": (np.mean(R), np.std(R)),\n",
    "            \"AUC\": (np.mean(auc), np.std(auc))  },\n",
    "            {\"Accuracy\": np.mean(acc),\n",
    "            \"Precision\" : np.mean(P),\n",
    "            \"Recall\": np.mean(R),\n",
    "            \"AUC\": np.mean(auc) })"
   ]
  },
  {
   "cell_type": "code",
   "execution_count": 126,
   "metadata": {},
   "outputs": [
    {
     "data": {
      "text/plain": [
       "({'Accuracy': (0.8918128654970762, 0.05935024307071474),\n",
       "  'Precision': (0.9127777777777778, 0.07737195714912747),\n",
       "  'Recall': (0.8711111111111111, 0.07875575620741931),\n",
       "  'AUC': (0.8933333333333333, 0.05904591224705078)},\n",
       " {'Accuracy': 0.8918128654970762,\n",
       "  'Precision': 0.9127777777777778,\n",
       "  'Recall': 0.8711111111111111,\n",
       "  'AUC': 0.8933333333333333})"
      ]
     },
     "execution_count": 126,
     "metadata": {},
     "output_type": "execute_result"
    }
   ],
   "source": [
    "baseline(CITY, label=\"label_activity_density\")"
   ]
  },
  {
   "cell_type": "markdown",
   "metadata": {},
   "source": [
    "## Calculated Baselines"
   ]
  },
  {
   "cell_type": "code",
   "execution_count": null,
   "metadata": {},
   "outputs": [],
   "source": []
  },
  {
   "cell_type": "code",
   "execution_count": 133,
   "metadata": {},
   "outputs": [
    {
     "data": {
      "text/plain": [
       "({'Accuracy': (0.9346153846153846, 0.03278644064754981),\n",
       "  'Precision': (0.8892857142857142, 0.05578749768504755),\n",
       "  'Recall': (1.0, 0.0),\n",
       "  'AUC': (0.9333333333333333, 0.033333333333333305)},\n",
       " {'Accuracy': 0.9346153846153846,\n",
       "  'Precision': 0.8892857142857142,\n",
       "  'Recall': 1.0,\n",
       "  'AUC': 0.9333333333333333})"
      ]
     },
     "execution_count": 133,
     "metadata": {},
     "output_type": "execute_result"
    }
   ],
   "source": [
    "baseline(\"palermo\", label=\"label_activity_density\")"
   ]
  },
  {
   "cell_type": "code",
   "execution_count": null,
   "metadata": {},
   "outputs": [],
   "source": []
  },
  {
   "cell_type": "code",
   "execution_count": null,
   "metadata": {},
   "outputs": [],
   "source": []
  },
  {
   "cell_type": "code",
   "execution_count": 128,
   "metadata": {
    "scrolled": true
   },
   "outputs": [],
   "source": [
    "kfold_SCORES = {}\n",
    "kfold_SCORES2 = {}\n",
    "for city in cities:\n",
    "\n",
    "    (res1, res2) = baseline(city, label=\"label_activity_density\")\n",
    "    kfold_SCORES[city] = res1\n",
    "    kfold_SCORES2[city] = res2"
   ]
  },
  {
   "cell_type": "code",
   "execution_count": 129,
   "metadata": {
    "scrolled": false
   },
   "outputs": [
    {
     "data": {
      "text/plain": [
       "{'milano': {'Accuracy': 0.8529100529100528,\n",
       "  'Precision': 0.8183823529411764,\n",
       "  'Recall': 0.9274725274725274,\n",
       "  'AUC': 0.8521978021978022},\n",
       " 'bologna': {'Accuracy': 0.7833333333333333,\n",
       "  'Precision': 0.8666666666666666,\n",
       "  'Recall': 0.6666666666666667,\n",
       "  'AUC': 0.7833333333333334},\n",
       " 'firenze': {'Accuracy': 0.6904411764705882,\n",
       "  'Precision': 0.6783116883116883,\n",
       "  'Recall': 0.7305555555555555,\n",
       "  'AUC': 0.6888888888888889},\n",
       " 'palermo': {'Accuracy': 0.9346153846153846,\n",
       "  'Precision': 0.8892857142857142,\n",
       "  'Recall': 1.0,\n",
       "  'AUC': 0.9333333333333333},\n",
       " 'torino': {'Accuracy': 0.8918128654970762,\n",
       "  'Precision': 0.9127777777777778,\n",
       "  'Recall': 0.8711111111111111,\n",
       "  'AUC': 0.8933333333333333},\n",
       " 'all': {'Accuracy': 0.8269981288425555,\n",
       "  'Precision': 0.8095988897231134,\n",
       "  'Recall': 0.8526427061310782,\n",
       "  'AUC': 0.827061310782241}}"
      ]
     },
     "execution_count": 129,
     "metadata": {},
     "output_type": "execute_result"
    }
   ],
   "source": [
    "kfold_SCORES2"
   ]
  },
  {
   "cell_type": "code",
   "execution_count": null,
   "metadata": {},
   "outputs": [],
   "source": []
  },
  {
   "cell_type": "code",
   "execution_count": 130,
   "metadata": {},
   "outputs": [],
   "source": [
    "res = pd.DataFrame(kfold_SCORES2)"
   ]
  },
  {
   "cell_type": "code",
   "execution_count": 131,
   "metadata": {},
   "outputs": [
    {
     "data": {
      "text/html": [
       "<div>\n",
       "<style scoped>\n",
       "    .dataframe tbody tr th:only-of-type {\n",
       "        vertical-align: middle;\n",
       "    }\n",
       "\n",
       "    .dataframe tbody tr th {\n",
       "        vertical-align: top;\n",
       "    }\n",
       "\n",
       "    .dataframe thead th {\n",
       "        text-align: right;\n",
       "    }\n",
       "</style>\n",
       "<table border=\"1\" class=\"dataframe\">\n",
       "  <thead>\n",
       "    <tr style=\"text-align: right;\">\n",
       "      <th></th>\n",
       "      <th>milano</th>\n",
       "      <th>bologna</th>\n",
       "      <th>firenze</th>\n",
       "      <th>palermo</th>\n",
       "      <th>torino</th>\n",
       "      <th>all</th>\n",
       "    </tr>\n",
       "  </thead>\n",
       "  <tbody>\n",
       "    <tr>\n",
       "      <th>AUC</th>\n",
       "      <td>0.852198</td>\n",
       "      <td>0.783333</td>\n",
       "      <td>0.688889</td>\n",
       "      <td>0.933333</td>\n",
       "      <td>0.893333</td>\n",
       "      <td>0.827061</td>\n",
       "    </tr>\n",
       "    <tr>\n",
       "      <th>Accuracy</th>\n",
       "      <td>0.852910</td>\n",
       "      <td>0.783333</td>\n",
       "      <td>0.690441</td>\n",
       "      <td>0.934615</td>\n",
       "      <td>0.891813</td>\n",
       "      <td>0.826998</td>\n",
       "    </tr>\n",
       "    <tr>\n",
       "      <th>Precision</th>\n",
       "      <td>0.818382</td>\n",
       "      <td>0.866667</td>\n",
       "      <td>0.678312</td>\n",
       "      <td>0.889286</td>\n",
       "      <td>0.912778</td>\n",
       "      <td>0.809599</td>\n",
       "    </tr>\n",
       "    <tr>\n",
       "      <th>Recall</th>\n",
       "      <td>0.927473</td>\n",
       "      <td>0.666667</td>\n",
       "      <td>0.730556</td>\n",
       "      <td>1.000000</td>\n",
       "      <td>0.871111</td>\n",
       "      <td>0.852643</td>\n",
       "    </tr>\n",
       "  </tbody>\n",
       "</table>\n",
       "</div>"
      ],
      "text/plain": [
       "             milano   bologna   firenze   palermo    torino       all\n",
       "AUC        0.852198  0.783333  0.688889  0.933333  0.893333  0.827061\n",
       "Accuracy   0.852910  0.783333  0.690441  0.934615  0.891813  0.826998\n",
       "Precision  0.818382  0.866667  0.678312  0.889286  0.912778  0.809599\n",
       "Recall     0.927473  0.666667  0.730556  1.000000  0.871111  0.852643"
      ]
     },
     "execution_count": 131,
     "metadata": {},
     "output_type": "execute_result"
    }
   ],
   "source": [
    "res"
   ]
  },
  {
   "cell_type": "code",
   "execution_count": null,
   "metadata": {},
   "outputs": [],
   "source": []
  },
  {
   "cell_type": "code",
   "execution_count": 132,
   "metadata": {},
   "outputs": [],
   "source": [
    "out_name = '../../results/baseline/vitality_pop_density.csv'\n",
    "\n",
    "res.to_csv(out_name, float_format='%.3f')"
   ]
  },
  {
   "cell_type": "code",
   "execution_count": null,
   "metadata": {},
   "outputs": [],
   "source": []
  },
  {
   "cell_type": "code",
   "execution_count": null,
   "metadata": {},
   "outputs": [],
   "source": []
  },
  {
   "cell_type": "code",
   "execution_count": null,
   "metadata": {},
   "outputs": [],
   "source": []
  }
 ],
 "metadata": {
  "kernelspec": {
   "display_name": "Python 3",
   "language": "python",
   "name": "python3"
  },
  "language_info": {
   "codemirror_mode": {
    "name": "ipython",
    "version": 3
   },
   "file_extension": ".py",
   "mimetype": "text/x-python",
   "name": "python",
   "nbconvert_exporter": "python",
   "pygments_lexer": "ipython3",
   "version": "3.7.2"
  }
 },
 "nbformat": 4,
 "nbformat_minor": 2
}
