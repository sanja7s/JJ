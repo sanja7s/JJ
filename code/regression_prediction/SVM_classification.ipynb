{
 "cells": [
  {
   "cell_type": "code",
   "execution_count": 65,
   "metadata": {},
   "outputs": [],
   "source": [
    "import pandas as pd\n",
    "import numpy as np\n",
    "from sklearn.svm import SVC\n",
    "from imblearn.under_sampling import RandomUnderSampler\n",
    "from sklearn.model_selection import StratifiedKFold\n",
    "import matplotlib.pyplot as plt\n",
    "from sklearn.preprocessing import StandardScaler"
   ]
  },
  {
   "cell_type": "code",
   "execution_count": 66,
   "metadata": {},
   "outputs": [],
   "source": [
    "CITY = \"milano\"\n",
    "data_dir = \"../../preprocessed/\" \n",
    "features_dir = data_dir + \"features/\" + CITY + \"/\"\n",
    "labels_dir = data_dir + \"labels/\" + CITY + \"/\""
   ]
  },
  {
   "cell_type": "code",
   "execution_count": 67,
   "metadata": {},
   "outputs": [],
   "source": [
    "label_columns = [\"hType_mix\", \"num_intersect\", \"bld_avg_age\", \"emp_rat_num\",\\\n",
    "\t\t\t\t\"LUM5_single\",\t\"RNR_nres\", \"mdist_smallparks\", \"nig_rat_daily\",\\\n",
    "\t\t\t\t\"nig_rat_daily3\", \"mdist_nres_daily\", \"num_community_places\", \\\n",
    "\t\t\t\t\"num_community_places_poi\", \"avg_block_area\", \"sphi\", \\\n",
    "\t\t\t\t\"enterprises_empl_size\", \"pop_rat_num\",  \\\n",
    "\t\t\t\t\"emp_rat_pop\", \"bld_rat_area\", \"den_nres_daily\",\\\n",
    "\t\t\t\t\"mdist_parks\", \"den_nres_non-daily\", \"mdist_railways\",\\\n",
    "\t\t\t\t\"mdist_highways\", \"mdist_water\"]"
   ]
  },
  {
   "cell_type": "code",
   "execution_count": 68,
   "metadata": {},
   "outputs": [],
   "source": [
    "def create_labels_features():\n",
    "    \n",
    "    labels = pd.read_csv(labels_dir + \"imagelet_labels_clean.csv\")\n",
    "    features = pd.read_csv(features_dir + \"Resnet50/df_ResNet50_feat8192_pca32.csv\")\n",
    "    \n",
    "    \n",
    "    data = pd.merge(features,labels, on=\"name\", how=\"inner\")\n",
    "    \n",
    "    return data"
   ]
  },
  {
   "cell_type": "code",
   "execution_count": 69,
   "metadata": {},
   "outputs": [],
   "source": [
    "def create_normalized_labels_features():\n",
    "    \n",
    "    labels = pd.read_csv(labels_dir + \"imagelet_labels_clean.csv\")\n",
    "    features = pd.read_csv(features_dir + \"Resnet50/df_ResNet50_feat8192_pca32.csv\")\n",
    "    features2 = features.set_index(\"name\")\n",
    "    standardized_features = StandardScaler().fit_transform(features2)\n",
    "    standardized_features_df = pd.DataFrame(standardized_features,columns=\\\n",
    "                                            ['PCA%i' % i for i in range(len(features2.columns))])\n",
    "    features = pd.concat([features[\"name\"], standardized_features_df], axis = 1)\n",
    "    data = pd.merge(features,labels, on=\"name\", how=\"inner\")\n",
    "    return data"
   ]
  },
  {
   "cell_type": "code",
   "execution_count": 70,
   "metadata": {},
   "outputs": [],
   "source": [
    "data = create_labels_features()"
   ]
  },
  {
   "cell_type": "code",
   "execution_count": 71,
   "metadata": {},
   "outputs": [
    {
     "data": {
      "text/html": [
       "<div>\n",
       "<style scoped>\n",
       "    .dataframe tbody tr th:only-of-type {\n",
       "        vertical-align: middle;\n",
       "    }\n",
       "\n",
       "    .dataframe tbody tr th {\n",
       "        vertical-align: top;\n",
       "    }\n",
       "\n",
       "    .dataframe thead th {\n",
       "        text-align: right;\n",
       "    }\n",
       "</style>\n",
       "<table border=\"1\" class=\"dataframe\">\n",
       "  <thead>\n",
       "    <tr style=\"text-align: right;\">\n",
       "      <th></th>\n",
       "      <th>name</th>\n",
       "      <th>PCA0</th>\n",
       "      <th>PCA1</th>\n",
       "      <th>PCA2</th>\n",
       "      <th>PCA3</th>\n",
       "      <th>PCA4</th>\n",
       "      <th>PCA5</th>\n",
       "      <th>PCA6</th>\n",
       "      <th>PCA7</th>\n",
       "      <th>PCA8</th>\n",
       "      <th>...</th>\n",
       "      <th>label_pop_rat_num</th>\n",
       "      <th>label_emp_rat_num</th>\n",
       "      <th>label_emp_rat_pop</th>\n",
       "      <th>label_bld_rat_area</th>\n",
       "      <th>label_den_nres_daily</th>\n",
       "      <th>label_mdist_parks</th>\n",
       "      <th>label_den_nres_non-daily</th>\n",
       "      <th>label_mdist_railways</th>\n",
       "      <th>label_mdist_highways</th>\n",
       "      <th>label_mdist_water</th>\n",
       "    </tr>\n",
       "  </thead>\n",
       "  <tbody>\n",
       "    <tr>\n",
       "      <th>0</th>\n",
       "      <td>S2B_MSIL2A_20181024T102059_N0209_R065_T32TNR_2...</td>\n",
       "      <td>-4.071120</td>\n",
       "      <td>-0.424936</td>\n",
       "      <td>-5.247612</td>\n",
       "      <td>-0.838083</td>\n",
       "      <td>1.208517</td>\n",
       "      <td>-4.789422</td>\n",
       "      <td>-0.859758</td>\n",
       "      <td>-1.787850</td>\n",
       "      <td>1.068934</td>\n",
       "      <td>...</td>\n",
       "      <td>1.0</td>\n",
       "      <td>0.0</td>\n",
       "      <td>2.0</td>\n",
       "      <td>1.0</td>\n",
       "      <td>1.0</td>\n",
       "      <td>2.0</td>\n",
       "      <td>1.0</td>\n",
       "      <td>2.0</td>\n",
       "      <td>2.0</td>\n",
       "      <td>0.0</td>\n",
       "    </tr>\n",
       "    <tr>\n",
       "      <th>1</th>\n",
       "      <td>S2B_MSIL2A_20181024T102059_N0209_R065_T32TNR_2...</td>\n",
       "      <td>-3.412396</td>\n",
       "      <td>-2.291054</td>\n",
       "      <td>5.429623</td>\n",
       "      <td>3.404654</td>\n",
       "      <td>4.283522</td>\n",
       "      <td>-2.127759</td>\n",
       "      <td>-0.095113</td>\n",
       "      <td>0.226035</td>\n",
       "      <td>-1.662767</td>\n",
       "      <td>...</td>\n",
       "      <td>1.0</td>\n",
       "      <td>2.0</td>\n",
       "      <td>0.0</td>\n",
       "      <td>2.0</td>\n",
       "      <td>1.0</td>\n",
       "      <td>1.0</td>\n",
       "      <td>1.0</td>\n",
       "      <td>1.0</td>\n",
       "      <td>2.0</td>\n",
       "      <td>0.0</td>\n",
       "    </tr>\n",
       "    <tr>\n",
       "      <th>2</th>\n",
       "      <td>S2B_MSIL2A_20181024T102059_N0209_R065_T32TNR_2...</td>\n",
       "      <td>-2.962552</td>\n",
       "      <td>-2.288686</td>\n",
       "      <td>-0.662143</td>\n",
       "      <td>-1.822410</td>\n",
       "      <td>0.184249</td>\n",
       "      <td>-2.590495</td>\n",
       "      <td>1.456764</td>\n",
       "      <td>-1.762665</td>\n",
       "      <td>-1.093223</td>\n",
       "      <td>...</td>\n",
       "      <td>0.0</td>\n",
       "      <td>0.0</td>\n",
       "      <td>2.0</td>\n",
       "      <td>0.0</td>\n",
       "      <td>0.0</td>\n",
       "      <td>2.0</td>\n",
       "      <td>1.0</td>\n",
       "      <td>1.0</td>\n",
       "      <td>2.0</td>\n",
       "      <td>1.0</td>\n",
       "    </tr>\n",
       "    <tr>\n",
       "      <th>3</th>\n",
       "      <td>S2B_MSIL2A_20181024T102059_N0209_R065_T32TNR_2...</td>\n",
       "      <td>-0.820459</td>\n",
       "      <td>-2.467551</td>\n",
       "      <td>-1.155593</td>\n",
       "      <td>-2.351451</td>\n",
       "      <td>5.578507</td>\n",
       "      <td>1.944743</td>\n",
       "      <td>2.922524</td>\n",
       "      <td>-0.117414</td>\n",
       "      <td>-0.900532</td>\n",
       "      <td>...</td>\n",
       "      <td>1.0</td>\n",
       "      <td>0.0</td>\n",
       "      <td>2.0</td>\n",
       "      <td>1.0</td>\n",
       "      <td>1.0</td>\n",
       "      <td>2.0</td>\n",
       "      <td>1.0</td>\n",
       "      <td>2.0</td>\n",
       "      <td>2.0</td>\n",
       "      <td>0.0</td>\n",
       "    </tr>\n",
       "    <tr>\n",
       "      <th>4</th>\n",
       "      <td>S2B_MSIL2A_20181024T102059_N0209_R065_T32TNR_2...</td>\n",
       "      <td>-1.636376</td>\n",
       "      <td>1.795233</td>\n",
       "      <td>-3.637547</td>\n",
       "      <td>1.518884</td>\n",
       "      <td>2.062779</td>\n",
       "      <td>-0.810377</td>\n",
       "      <td>-1.976423</td>\n",
       "      <td>1.428190</td>\n",
       "      <td>2.538521</td>\n",
       "      <td>...</td>\n",
       "      <td>0.0</td>\n",
       "      <td>1.0</td>\n",
       "      <td>1.0</td>\n",
       "      <td>1.0</td>\n",
       "      <td>1.0</td>\n",
       "      <td>1.0</td>\n",
       "      <td>0.0</td>\n",
       "      <td>2.0</td>\n",
       "      <td>1.0</td>\n",
       "      <td>0.0</td>\n",
       "    </tr>\n",
       "  </tbody>\n",
       "</table>\n",
       "<p>5 rows × 57 columns</p>\n",
       "</div>"
      ],
      "text/plain": [
       "                                                name      PCA0      PCA1  \\\n",
       "0  S2B_MSIL2A_20181024T102059_N0209_R065_T32TNR_2... -4.071120 -0.424936   \n",
       "1  S2B_MSIL2A_20181024T102059_N0209_R065_T32TNR_2... -3.412396 -2.291054   \n",
       "2  S2B_MSIL2A_20181024T102059_N0209_R065_T32TNR_2... -2.962552 -2.288686   \n",
       "3  S2B_MSIL2A_20181024T102059_N0209_R065_T32TNR_2... -0.820459 -2.467551   \n",
       "4  S2B_MSIL2A_20181024T102059_N0209_R065_T32TNR_2... -1.636376  1.795233   \n",
       "\n",
       "       PCA2      PCA3      PCA4      PCA5      PCA6      PCA7      PCA8  ...  \\\n",
       "0 -5.247612 -0.838083  1.208517 -4.789422 -0.859758 -1.787850  1.068934  ...   \n",
       "1  5.429623  3.404654  4.283522 -2.127759 -0.095113  0.226035 -1.662767  ...   \n",
       "2 -0.662143 -1.822410  0.184249 -2.590495  1.456764 -1.762665 -1.093223  ...   \n",
       "3 -1.155593 -2.351451  5.578507  1.944743  2.922524 -0.117414 -0.900532  ...   \n",
       "4 -3.637547  1.518884  2.062779 -0.810377 -1.976423  1.428190  2.538521  ...   \n",
       "\n",
       "   label_pop_rat_num  label_emp_rat_num  label_emp_rat_pop  \\\n",
       "0                1.0                0.0                2.0   \n",
       "1                1.0                2.0                0.0   \n",
       "2                0.0                0.0                2.0   \n",
       "3                1.0                0.0                2.0   \n",
       "4                0.0                1.0                1.0   \n",
       "\n",
       "   label_bld_rat_area  label_den_nres_daily  label_mdist_parks  \\\n",
       "0                 1.0                   1.0                2.0   \n",
       "1                 2.0                   1.0                1.0   \n",
       "2                 0.0                   0.0                2.0   \n",
       "3                 1.0                   1.0                2.0   \n",
       "4                 1.0                   1.0                1.0   \n",
       "\n",
       "   label_den_nres_non-daily  label_mdist_railways  label_mdist_highways  \\\n",
       "0                       1.0                   2.0                   2.0   \n",
       "1                       1.0                   1.0                   2.0   \n",
       "2                       1.0                   1.0                   2.0   \n",
       "3                       1.0                   2.0                   2.0   \n",
       "4                       0.0                   2.0                   1.0   \n",
       "\n",
       "   label_mdist_water  \n",
       "0                0.0  \n",
       "1                0.0  \n",
       "2                1.0  \n",
       "3                0.0  \n",
       "4                0.0  \n",
       "\n",
       "[5 rows x 57 columns]"
      ]
     },
     "execution_count": 71,
     "metadata": {},
     "output_type": "execute_result"
    }
   ],
   "source": [
    "data.head()"
   ]
  },
  {
   "cell_type": "code",
   "execution_count": null,
   "metadata": {},
   "outputs": [],
   "source": []
  },
  {
   "cell_type": "code",
   "execution_count": null,
   "metadata": {},
   "outputs": [],
   "source": []
  },
  {
   "cell_type": "code",
   "execution_count": 72,
   "metadata": {},
   "outputs": [],
   "source": [
    "def predict_label_i(label=\"label_hType_mix\"):\n",
    "    \n",
    "    data2 = data.copy()\n",
    "    data2 = data2[data2[label] != 1 ]\n",
    "    \n",
    "    target = data2[[\"name\", label]]\n",
    "    features = data2[[c for c in data.columns if \"PCA\" in c]]\n",
    "    \n",
    "    X_orig = features.values\n",
    "    y_orig = target[label].values\n",
    "    \n",
    "    high = target[target[label] == 2]\n",
    "    low = target[target[label] == 0]\n",
    "    \n",
    "    rus = RandomUnderSampler(random_state=0)\n",
    "    X, y = rus.fit_sample(X_orig, y_orig)\n",
    "    \n",
    "    clf = SVC(gamma='auto', kernel = 'poly', degree = 2)\n",
    "    clf.fit(X, y)\n",
    "    \n",
    "    print(clf.score(X, y), \"Low\", len(low), \"High\", len(high), \"NOW\", len(X)/2)"
   ]
  },
  {
   "cell_type": "code",
   "execution_count": 73,
   "metadata": {
    "scrolled": false
   },
   "outputs": [
    {
     "name": "stdout",
     "output_type": "stream",
     "text": [
      "1.0 Low 71 High 152 NOW 71.0\n"
     ]
    }
   ],
   "source": [
    "predict_label_i()"
   ]
  },
  {
   "cell_type": "code",
   "execution_count": 74,
   "metadata": {
    "scrolled": false
   },
   "outputs": [
    {
     "name": "stdout",
     "output_type": "stream",
     "text": [
      "label_hType_mix\n",
      "1.0 Low 71 High 152 NOW 71.0\n",
      "label_num_intersect\n",
      "1.0 Low 181 High 65 NOW 65.0\n",
      "label_bld_avg_age\n",
      "1.0 Low 160 High 71 NOW 71.0\n",
      "label_emp_rat_num\n",
      "1.0 Low 161 High 70 NOW 70.0\n",
      "label_LUM5_single\n",
      "1.0 Low 61 High 165 NOW 61.0\n",
      "label_RNR_nres\n",
      "1.0 Low 67 High 141 NOW 67.0\n",
      "label_mdist_smallparks\n",
      "1.0 Low 132 High 87 NOW 87.0\n",
      "label_nig_rat_daily\n",
      "0.9954545454545455 Low 110 High 114 NOW 110.0\n",
      "label_nig_rat_daily3\n",
      "1.0 Low 167 High 70 NOW 70.0\n",
      "label_mdist_nres_daily\n",
      "1.0 Low 174 High 60 NOW 60.0\n",
      "label_num_community_places\n",
      "1.0 Low 177 High 61 NOW 61.0\n",
      "label_num_community_places_poi\n",
      "1.0 Low 142 High 67 NOW 67.0\n",
      "label_avg_block_area\n",
      "1.0 Low 74 High 171 NOW 74.0\n",
      "label_sphi\n",
      "1.0 Low 137 High 91 NOW 91.0\n",
      "label_enterprises_empl_size\n",
      "0.9882352941176471 Low 85 High 158 NOW 85.0\n",
      "label_pop_rat_num\n",
      "1.0 Low 181 High 45 NOW 45.0\n",
      "label_emp_rat_pop\n",
      "0.9848484848484849 Low 128 High 99 NOW 99.0\n",
      "label_bld_rat_area\n",
      "1.0 Low 177 High 66 NOW 66.0\n",
      "label_den_nres_daily\n",
      "1.0 Low 177 High 60 NOW 60.0\n",
      "label_mdist_parks\n",
      "1.0 Low 85 High 119 NOW 85.0\n",
      "label_den_nres_non-daily\n",
      "1.0 Low 176 High 65 NOW 65.0\n",
      "label_mdist_railways\n",
      "0.9836956521739131 Low 136 High 92 NOW 92.0\n",
      "label_mdist_highways\n",
      "1.0 Low 81 High 136 NOW 81.0\n",
      "label_mdist_water\n",
      "0.9908256880733946 Low 109 High 121 NOW 109.0\n"
     ]
    }
   ],
   "source": [
    "for col in label_columns:\n",
    "    label = \"label_\" + col\n",
    "    print (label)\n",
    "    predict_label_i(label)"
   ]
  },
  {
   "cell_type": "code",
   "execution_count": null,
   "metadata": {},
   "outputs": [],
   "source": []
  },
  {
   "cell_type": "code",
   "execution_count": null,
   "metadata": {},
   "outputs": [],
   "source": []
  },
  {
   "cell_type": "code",
   "execution_count": 75,
   "metadata": {},
   "outputs": [],
   "source": [
    "def predict_label_i_KFold(label=\"label_hType_mix\"):\n",
    "    \n",
    "    kf = StratifiedKFold(n_splits=5)\n",
    "    \n",
    "    data2 = data.copy()\n",
    "    data2 = data2[data2[label] != 1 ]\n",
    "    \n",
    "    target = data2[[\"name\", label]]\n",
    "    features = data2[[c for c in data.columns if \"PCA\" in c]]\n",
    "\n",
    "    \n",
    "    X = features.values\n",
    "    y = target[label].values\n",
    "    \n",
    "    rus = RandomUnderSampler(random_state=0)\n",
    "    X_resampled, y_resampled = rus.fit_sample(X, y)\n",
    "    \n",
    "    res = []\n",
    "    \n",
    "    kf.get_n_splits(X_resampled, y_resampled)\n",
    "    for train_index, test_index in kf.split(X_resampled, y_resampled):\n",
    "        \n",
    "        X_train, X_test = X_resampled[train_index], X_resampled[test_index]\n",
    "        y_train, y_test = y_resampled[train_index], y_resampled[test_index]\n",
    "    \n",
    "        clf = SVC(gamma='auto', kernel = 'poly', degree = 2)\n",
    "        clf.fit(X_train, y_train)\n",
    "        res.append(clf.score(X_test, y_test))\n",
    "    return np.mean(res), np.std(res)"
   ]
  },
  {
   "cell_type": "code",
   "execution_count": 76,
   "metadata": {},
   "outputs": [
    {
     "data": {
      "text/plain": [
       "(0.5700000000000001, 0.058970764115857985)"
      ]
     },
     "execution_count": 76,
     "metadata": {},
     "output_type": "execute_result"
    }
   ],
   "source": [
    "predict_label_i_KFold(label=\"label_hType_mix\")"
   ]
  },
  {
   "cell_type": "code",
   "execution_count": 77,
   "metadata": {
    "scrolled": false
   },
   "outputs": [],
   "source": [
    "kfold_SCORES = {}\n",
    "for col in label_columns:\n",
    "    label = \"label_\" + col\n",
    "    kfold_SCORES[label] = predict_label_i_KFold(label)"
   ]
  },
  {
   "cell_type": "code",
   "execution_count": 78,
   "metadata": {
    "scrolled": false
   },
   "outputs": [
    {
     "data": {
      "text/plain": [
       "{'label_hType_mix': (0.5700000000000001, 0.058970764115857985),\n",
       " 'label_num_intersect': (0.5923076923076923, 0.1076923076923077),\n",
       " 'label_bld_avg_age': (0.5495238095238095, 0.05815375663214579),\n",
       " 'label_emp_rat_num': (0.6214285714285714, 0.07693092581620722),\n",
       " 'label_LUM5_single': (0.5711538461538461, 0.13319457770216123),\n",
       " 'label_RNR_nres': (0.5164835164835164, 0.06816287844440218),\n",
       " 'label_mdist_smallparks': (0.44803921568627453, 0.050694691319386455),\n",
       " 'label_nig_rat_daily': (0.5909090909090909, 0.04767312946227959),\n",
       " 'label_nig_rat_daily3': (0.5928571428571429, 0.06624013211068362),\n",
       " 'label_mdist_nres_daily': (0.5166666666666666, 0.02041241452319313),\n",
       " 'label_num_community_places': (0.6397435897435897, 0.09396220231300906),\n",
       " 'label_num_community_places_poi': (0.44010989010989016, 0.07602299145682627),\n",
       " 'label_avg_block_area': (0.6276190476190475, 0.04784707309363988),\n",
       " 'label_sphi': (0.5824561403508772, 0.03518019004139187),\n",
       " 'label_enterprises_empl_size': (0.488235294117647, 0.0823529411764706),\n",
       " 'label_pop_rat_num': (0.5111111111111111, 0.08164965809277262),\n",
       " 'label_emp_rat_pop': (0.4597368421052631, 0.053780872728769885),\n",
       " 'label_bld_rat_area': (0.6675824175824177, 0.04155531956305283),\n",
       " 'label_den_nres_daily': (0.5833333333333333, 0.07453559924999299),\n",
       " 'label_mdist_parks': (0.5588235294117647, 0.09665692191267639),\n",
       " 'label_den_nres_non-daily': (0.49230769230769234, 0.07844645405527358),\n",
       " 'label_mdist_railways': (0.538888888888889, 0.04710779502490371),\n",
       " 'label_mdist_highways': (0.5426470588235295, 0.079868309105101),\n",
       " 'label_mdist_water': (0.5367965367965368, 0.046890331335245956)}"
      ]
     },
     "execution_count": 78,
     "metadata": {},
     "output_type": "execute_result"
    }
   ],
   "source": [
    "kfold_SCORES"
   ]
  },
  {
   "cell_type": "code",
   "execution_count": null,
   "metadata": {},
   "outputs": [],
   "source": []
  },
  {
   "cell_type": "code",
   "execution_count": null,
   "metadata": {},
   "outputs": [],
   "source": []
  },
  {
   "cell_type": "code",
   "execution_count": null,
   "metadata": {},
   "outputs": [],
   "source": []
  }
 ],
 "metadata": {
  "kernelspec": {
   "display_name": "Python 3",
   "language": "python",
   "name": "python3"
  },
  "language_info": {
   "codemirror_mode": {
    "name": "ipython",
    "version": 3
   },
   "file_extension": ".py",
   "mimetype": "text/x-python",
   "name": "python",
   "nbconvert_exporter": "python",
   "pygments_lexer": "ipython3",
   "version": "3.6.7"
  }
 },
 "nbformat": 4,
 "nbformat_minor": 2
}
