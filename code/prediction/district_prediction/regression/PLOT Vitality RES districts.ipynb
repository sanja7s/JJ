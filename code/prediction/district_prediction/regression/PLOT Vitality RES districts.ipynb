{
 "cells": [
  {
   "cell_type": "code",
   "execution_count": 166,
   "metadata": {},
   "outputs": [],
   "source": [
    "import pandas as pd\n",
    "import numpy as np\n",
    "from imblearn.under_sampling import RandomUnderSampler\n",
    "from sklearn.model_selection import StratifiedKFold\n",
    "from sklearn.preprocessing import StandardScaler\n",
    "from sklearn.metrics import accuracy_score, precision_score, recall_score, roc_auc_score\n",
    "from pathlib import Path\n",
    "\n",
    "import matplotlib as plt\n",
    "import seaborn as sns"
   ]
  },
  {
   "cell_type": "code",
   "execution_count": 271,
   "metadata": {},
   "outputs": [],
   "source": [
    "PCA_components = 64\n",
    "\n",
    "USE_GEO = \"GEO\"\n",
    "\n",
    "network_type = \"vgg16_4096\"\n",
    "\n",
    "standardize_features = True\n",
    "\n",
    "CITY = \"milano\"\n",
    "\n",
    "cities = ['milano', 'bologna', 'firenze', 'palermo', 'torino', 'roma']"
   ]
  },
  {
   "cell_type": "code",
   "execution_count": 272,
   "metadata": {},
   "outputs": [],
   "source": [
    "def read_res(city):\n",
    "    if city==None:\n",
    "        res_name = '../../results/districts/regression/unseen_city/'\\\n",
    "        + str(PCA_components) +  '_' + 'inference.csv'\n",
    "    else:\n",
    "        res_name = '../../results/districts/regression/unseen_city/'\\\n",
    "        + city + '_' + str(PCA_components) +  '_' + 'inference.csv'\n",
    "    \n",
    "    return pd.read_csv(res_name).rename(columns={\"Unnamed: 0\":\"metric\"})"
   ]
  },
  {
   "cell_type": "code",
   "execution_count": null,
   "metadata": {},
   "outputs": [],
   "source": []
  },
  {
   "cell_type": "code",
   "execution_count": 273,
   "metadata": {},
   "outputs": [],
   "source": [
    "def get_city_vitality_res(city):\n",
    "    tmp = read_res(city)[\"label_activity_density\"]\n",
    "    res = {}\n",
    "#     res[\"SAT MAE\"] = tmp.iloc[0]\n",
    "#     res[\"SAT RMSE\"] = tmp.iloc[2]\n",
    "    res[\"SAT R2\"] = tmp.iloc[1]\n",
    "    return res"
   ]
  },
  {
   "cell_type": "code",
   "execution_count": 274,
   "metadata": {},
   "outputs": [],
   "source": [
    "def get_all_vitality_res():\n",
    "    all_res = {}\n",
    "    for city in cities:\n",
    "        all_res[city] = get_city_vitality_res(city)\n",
    "    all_res['all'] = get_city_vitality_res(city=None)\n",
    "    return pd.DataFrame.from_dict(all_res, orient='index')"
   ]
  },
  {
   "cell_type": "code",
   "execution_count": null,
   "metadata": {},
   "outputs": [],
   "source": []
  },
  {
   "cell_type": "code",
   "execution_count": 275,
   "metadata": {},
   "outputs": [],
   "source": [
    "def get_baseline():\n",
    "    res = {'milano': [0.31836817997278966],\n",
    "             'roma': [0.3577524019400592],\n",
    "             'bologna': [0.6194773064285527],\n",
    "             'firenze': [0.1193522875706634],\n",
    "             'torino': [0.4092227693431335],\n",
    "             'palermo': [0.4770672249276323],\n",
    "             'all': [0.38194846785674175]}\n",
    "    return pd.DataFrame.from_dict(res).T.rename(columns={0:\"Pop. Dens. R2\"})"
   ]
  },
  {
   "cell_type": "code",
   "execution_count": 276,
   "metadata": {},
   "outputs": [],
   "source": [
    "def get_baseline_plus_sat(city=None):\n",
    "    if city==None:\n",
    "        res_name = '../../results/districts/regression/unseen_city/'\\\n",
    "        + str(PCA_components) +  '_' + 'pop_dens_baseline_inference.csv'\n",
    "    else:\n",
    "        res_name = (\"../../results/districts/regression/unseen_city/\" \\\n",
    "            + city + \"_\" + str(PCA_components) + \"_baseline_inference.csv\")\n",
    "    \n",
    "    tmp = pd.read_csv(res_name).rename(columns={\"Unnamed: 0\":\"metric\"})\n",
    "    \n",
    "    tmp = tmp[\"label_activity_density\"]\n",
    "    res = {}\n",
    "#     res[\"Pop. Dens. + SAT MAE\"] = tmp.iloc[0]\n",
    "#     res[\"Pop. Dens. + SAT RMSE\"] = tmp.iloc[2]\n",
    "    res[\"Pop. Dens. + SAT R2\"] = tmp.iloc[1]\n",
    "    return res"
   ]
  },
  {
   "cell_type": "code",
   "execution_count": 277,
   "metadata": {},
   "outputs": [],
   "source": [
    "def get_all_baseline_plus_sat():\n",
    "    all_res = {}\n",
    "    for city in cities:\n",
    "        all_res[city] = get_baseline_plus_sat(city)\n",
    "    all_res['all'] = get_baseline_plus_sat(city=None)\n",
    "    return pd.DataFrame.from_dict(all_res, orient='index')"
   ]
  },
  {
   "cell_type": "code",
   "execution_count": 278,
   "metadata": {},
   "outputs": [
    {
     "data": {
      "text/html": [
       "<div>\n",
       "<style scoped>\n",
       "    .dataframe tbody tr th:only-of-type {\n",
       "        vertical-align: middle;\n",
       "    }\n",
       "\n",
       "    .dataframe tbody tr th {\n",
       "        vertical-align: top;\n",
       "    }\n",
       "\n",
       "    .dataframe thead th {\n",
       "        text-align: right;\n",
       "    }\n",
       "</style>\n",
       "<table border=\"1\" class=\"dataframe\">\n",
       "  <thead>\n",
       "    <tr style=\"text-align: right;\">\n",
       "      <th></th>\n",
       "      <th>Pop. Dens. R2</th>\n",
       "    </tr>\n",
       "  </thead>\n",
       "  <tbody>\n",
       "    <tr>\n",
       "      <th>milano</th>\n",
       "      <td>0.318368</td>\n",
       "    </tr>\n",
       "    <tr>\n",
       "      <th>roma</th>\n",
       "      <td>0.357752</td>\n",
       "    </tr>\n",
       "    <tr>\n",
       "      <th>bologna</th>\n",
       "      <td>0.619477</td>\n",
       "    </tr>\n",
       "    <tr>\n",
       "      <th>firenze</th>\n",
       "      <td>0.119352</td>\n",
       "    </tr>\n",
       "    <tr>\n",
       "      <th>torino</th>\n",
       "      <td>0.409223</td>\n",
       "    </tr>\n",
       "    <tr>\n",
       "      <th>palermo</th>\n",
       "      <td>0.477067</td>\n",
       "    </tr>\n",
       "    <tr>\n",
       "      <th>all</th>\n",
       "      <td>0.381948</td>\n",
       "    </tr>\n",
       "  </tbody>\n",
       "</table>\n",
       "</div>"
      ],
      "text/plain": [
       "         Pop. Dens. R2\n",
       "milano        0.318368\n",
       "roma          0.357752\n",
       "bologna       0.619477\n",
       "firenze       0.119352\n",
       "torino        0.409223\n",
       "palermo       0.477067\n",
       "all           0.381948"
      ]
     },
     "execution_count": 278,
     "metadata": {},
     "output_type": "execute_result"
    }
   ],
   "source": [
    "get_baseline()"
   ]
  },
  {
   "cell_type": "code",
   "execution_count": 279,
   "metadata": {},
   "outputs": [
    {
     "data": {
      "text/html": [
       "<div>\n",
       "<style scoped>\n",
       "    .dataframe tbody tr th:only-of-type {\n",
       "        vertical-align: middle;\n",
       "    }\n",
       "\n",
       "    .dataframe tbody tr th {\n",
       "        vertical-align: top;\n",
       "    }\n",
       "\n",
       "    .dataframe thead th {\n",
       "        text-align: right;\n",
       "    }\n",
       "</style>\n",
       "<table border=\"1\" class=\"dataframe\">\n",
       "  <thead>\n",
       "    <tr style=\"text-align: right;\">\n",
       "      <th></th>\n",
       "      <th>Pop. Dens. + SAT R2</th>\n",
       "    </tr>\n",
       "  </thead>\n",
       "  <tbody>\n",
       "    <tr>\n",
       "      <th>all</th>\n",
       "      <td>0.427000</td>\n",
       "    </tr>\n",
       "    <tr>\n",
       "      <th>bologna</th>\n",
       "      <td>0.385537</td>\n",
       "    </tr>\n",
       "    <tr>\n",
       "      <th>firenze</th>\n",
       "      <td>0.216030</td>\n",
       "    </tr>\n",
       "    <tr>\n",
       "      <th>milano</th>\n",
       "      <td>0.213698</td>\n",
       "    </tr>\n",
       "    <tr>\n",
       "      <th>palermo</th>\n",
       "      <td>0.289216</td>\n",
       "    </tr>\n",
       "    <tr>\n",
       "      <th>roma</th>\n",
       "      <td>0.306913</td>\n",
       "    </tr>\n",
       "    <tr>\n",
       "      <th>torino</th>\n",
       "      <td>0.296266</td>\n",
       "    </tr>\n",
       "  </tbody>\n",
       "</table>\n",
       "</div>"
      ],
      "text/plain": [
       "         Pop. Dens. + SAT R2\n",
       "all                 0.427000\n",
       "bologna             0.385537\n",
       "firenze             0.216030\n",
       "milano              0.213698\n",
       "palermo             0.289216\n",
       "roma                0.306913\n",
       "torino              0.296266"
      ]
     },
     "execution_count": 279,
     "metadata": {},
     "output_type": "execute_result"
    }
   ],
   "source": [
    "get_all_baseline_plus_sat()"
   ]
  },
  {
   "cell_type": "code",
   "execution_count": 280,
   "metadata": {},
   "outputs": [
    {
     "data": {
      "text/html": [
       "<div>\n",
       "<style scoped>\n",
       "    .dataframe tbody tr th:only-of-type {\n",
       "        vertical-align: middle;\n",
       "    }\n",
       "\n",
       "    .dataframe tbody tr th {\n",
       "        vertical-align: top;\n",
       "    }\n",
       "\n",
       "    .dataframe thead th {\n",
       "        text-align: right;\n",
       "    }\n",
       "</style>\n",
       "<table border=\"1\" class=\"dataframe\">\n",
       "  <thead>\n",
       "    <tr style=\"text-align: right;\">\n",
       "      <th></th>\n",
       "      <th>SAT R2</th>\n",
       "    </tr>\n",
       "  </thead>\n",
       "  <tbody>\n",
       "    <tr>\n",
       "      <th>all</th>\n",
       "      <td>0.316000</td>\n",
       "    </tr>\n",
       "    <tr>\n",
       "      <th>bologna</th>\n",
       "      <td>0.204551</td>\n",
       "    </tr>\n",
       "    <tr>\n",
       "      <th>firenze</th>\n",
       "      <td>0.325250</td>\n",
       "    </tr>\n",
       "    <tr>\n",
       "      <th>milano</th>\n",
       "      <td>0.430459</td>\n",
       "    </tr>\n",
       "    <tr>\n",
       "      <th>palermo</th>\n",
       "      <td>0.265539</td>\n",
       "    </tr>\n",
       "    <tr>\n",
       "      <th>roma</th>\n",
       "      <td>0.160839</td>\n",
       "    </tr>\n",
       "    <tr>\n",
       "      <th>torino</th>\n",
       "      <td>0.354320</td>\n",
       "    </tr>\n",
       "  </tbody>\n",
       "</table>\n",
       "</div>"
      ],
      "text/plain": [
       "           SAT R2\n",
       "all      0.316000\n",
       "bologna  0.204551\n",
       "firenze  0.325250\n",
       "milano   0.430459\n",
       "palermo  0.265539\n",
       "roma     0.160839\n",
       "torino   0.354320"
      ]
     },
     "execution_count": 280,
     "metadata": {},
     "output_type": "execute_result"
    }
   ],
   "source": [
    "get_all_vitality_res()"
   ]
  },
  {
   "cell_type": "code",
   "execution_count": 281,
   "metadata": {},
   "outputs": [],
   "source": [
    "def plot_res():\n",
    "    \n",
    "    fig, ax = plt.pyplot.subplots(figsize=(15,5))\n",
    "    sns.set_style(\"white\")\n",
    "    sns.set_context(\"paper\")\n",
    "\n",
    "    df = get_baseline()\n",
    "    df = df.join(get_all_vitality_res())\n",
    "    df = df.join(get_all_baseline_plus_sat())\n",
    "    \n",
    "    \n",
    "    df = df.sort_index(ascending=False)\n",
    "\n",
    "\n",
    "    colors = [\"lightskyblue\", \"cadetblue\", \"teal\", \"rosybrown\"]\n",
    "\n",
    "\n",
    "    df.plot.bar(ax=ax, edgecolor = \"white\", color=colors, alpha=0.777, capsize=3)\n",
    "\n",
    "\n",
    "    ax.set_xlabel('')\n",
    "\n",
    "    ax.set_ylim(0,0.7)\n",
    "\n",
    "    for item in ([ax.xaxis.label, ax.yaxis.label] +\n",
    "                 ax.get_yticklabels() + ax.get_xticklabels()):\n",
    "                item.set_fontsize(18)\n",
    "                item.set_weight('bold')\n",
    "                \n",
    "#     for p in ax.patches:\n",
    "#         ax.annotate(str(p.get_height()), (p.get_x() * 1.005, p.get_height() * 1.005))\n",
    "\n",
    "    x_offset = -0.08\n",
    "    y_offset = 0.015\n",
    "    for p in ax.patches:\n",
    "        b = p.get_bbox()\n",
    "        val = \"{:.2f}\".format(b.y1 + b.y0).lstrip('0')        \n",
    "        ax.annotate(val, ((b.x0 + b.x1)/2 + x_offset, b.y1 + y_offset), fontsize=15, fontweight=\"bold\")\n",
    "    \n",
    "#     plt.axhline(y=0.5, ls='--', color='red')\n",
    "\n",
    "    labels = [tick.get_text() for tick in ax.get_yticklabels()]\n",
    "\n",
    "    l = plt.pyplot.legend(bbox_to_anchor=(1.0, 1.0), prop={'size':16, 'weight':'bold'})\n",
    "#     l.draw_frame(False)\n",
    "\n",
    "    plt.pyplot.axvline(x=5.5, ls='--', color='gray')\n",
    "\n",
    "\n",
    "    plt.pyplot.tight_layout()\n",
    "\n",
    "    plt.pyplot.savefig('../../results/districts/regression/fig/reg_per_city.png', dpi=100)"
   ]
  },
  {
   "cell_type": "code",
   "execution_count": 282,
   "metadata": {},
   "outputs": [
    {
     "data": {
      "image/png": "[encoded data removed]",
      "text/plain": [
       "<Figure size 1080x360 with 1 Axes>"
      ]
     },
     "metadata": {},
     "output_type": "display_data"
    }
   ],
   "source": [
    "plot_res()"
   ]
  },
  {
   "cell_type": "code",
   "execution_count": null,
   "metadata": {},
   "outputs": [],
   "source": []
  },
  {
   "cell_type": "code",
   "execution_count": 283,
   "metadata": {},
   "outputs": [],
   "source": [
    "def get_just_baseline(city=None):\n",
    "    if city==None:\n",
    "        res_name = '../../results/districts/regression/unseen_city/'\\\n",
    "        + str(64) +  '_' + 'pop_dens_baseline_inference.csv'\n",
    "    else:\n",
    "        res_name = (\"../../results/districts/regression/unseen_city/\" \\\n",
    "            + city + \"_\" + str(PCA_components) + \"_just_baseline_inference.csv\")\n",
    "    \n",
    "    tmp = pd.read_csv(res_name).rename(columns={\"Unnamed: 0\":\"metric\"})\n",
    "    \n",
    "    tmp = tmp[\"label_activity_density\"]\n",
    "    res = {}\n",
    "#     res[\"Pop. Dens. + SAT MAE\"] = tmp.iloc[0]\n",
    "#     res[\"Pop. Dens. + SAT RMSE\"] = tmp.iloc[2]\n",
    "    res[\"Pop. Dens. R2\"] = tmp.iloc[1]\n",
    "    return res"
   ]
  },
  {
   "cell_type": "code",
   "execution_count": 284,
   "metadata": {},
   "outputs": [],
   "source": [
    "def get_all_just_baseline():\n",
    "    all_res = {}\n",
    "    for city in cities:\n",
    "        all_res[city] = get_just_baseline(city)\n",
    "    all_res['all'] = get_just_baseline(city=None)\n",
    "    return pd.DataFrame.from_dict(all_res, orient='index')"
   ]
  },
  {
   "cell_type": "code",
   "execution_count": 285,
   "metadata": {},
   "outputs": [
    {
     "data": {
      "text/html": [
       "<div>\n",
       "<style scoped>\n",
       "    .dataframe tbody tr th:only-of-type {\n",
       "        vertical-align: middle;\n",
       "    }\n",
       "\n",
       "    .dataframe tbody tr th {\n",
       "        vertical-align: top;\n",
       "    }\n",
       "\n",
       "    .dataframe thead th {\n",
       "        text-align: right;\n",
       "    }\n",
       "</style>\n",
       "<table border=\"1\" class=\"dataframe\">\n",
       "  <thead>\n",
       "    <tr style=\"text-align: right;\">\n",
       "      <th></th>\n",
       "      <th>Pop. Dens. R2</th>\n",
       "    </tr>\n",
       "  </thead>\n",
       "  <tbody>\n",
       "    <tr>\n",
       "      <th>all</th>\n",
       "      <td>0.427000</td>\n",
       "    </tr>\n",
       "    <tr>\n",
       "      <th>bologna</th>\n",
       "      <td>0.336120</td>\n",
       "    </tr>\n",
       "    <tr>\n",
       "      <th>firenze</th>\n",
       "      <td>-0.176743</td>\n",
       "    </tr>\n",
       "    <tr>\n",
       "      <th>milano</th>\n",
       "      <td>0.076141</td>\n",
       "    </tr>\n",
       "    <tr>\n",
       "      <th>palermo</th>\n",
       "      <td>0.386953</td>\n",
       "    </tr>\n",
       "    <tr>\n",
       "      <th>roma</th>\n",
       "      <td>0.247658</td>\n",
       "    </tr>\n",
       "    <tr>\n",
       "      <th>torino</th>\n",
       "      <td>0.360231</td>\n",
       "    </tr>\n",
       "  </tbody>\n",
       "</table>\n",
       "</div>"
      ],
      "text/plain": [
       "         Pop. Dens. R2\n",
       "all           0.427000\n",
       "bologna       0.336120\n",
       "firenze      -0.176743\n",
       "milano        0.076141\n",
       "palermo       0.386953\n",
       "roma          0.247658\n",
       "torino        0.360231"
      ]
     },
     "execution_count": 285,
     "metadata": {},
     "output_type": "execute_result"
    }
   ],
   "source": [
    "get_all_just_baseline()"
   ]
  },
  {
   "cell_type": "code",
   "execution_count": 257,
   "metadata": {},
   "outputs": [],
   "source": [
    "def plot_res_v2():\n",
    "    \n",
    "    fig, ax = plt.pyplot.subplots(figsize=(15,5))\n",
    "    sns.set_style(\"white\")\n",
    "    sns.set_context(\"paper\")\n",
    "\n",
    "    df = get_all_just_baseline()\n",
    "    df = df.join(get_all_vitality_res())\n",
    "    df = df.join(get_all_baseline_plus_sat())\n",
    "    \n",
    "    \n",
    "    df = df.sort_index(ascending=False)\n",
    "\n",
    "\n",
    "    colors = [\"lightskyblue\", \"cadetblue\", \"teal\", \"rosybrown\"]\n",
    "\n",
    "\n",
    "    df.plot.bar(ax=ax, edgecolor = \"white\", color=colors, alpha=0.777, capsize=3)\n",
    "\n",
    "\n",
    "    ax.set_xlabel('')\n",
    "\n",
    "    ax.set_ylim(0,0.55)\n",
    "\n",
    "    for item in ([ax.xaxis.label, ax.yaxis.label] +\n",
    "                 ax.get_yticklabels() + ax.get_xticklabels()):\n",
    "                item.set_fontsize(18)\n",
    "                item.set_weight('bold')\n",
    "                \n",
    "#     for p in ax.patches:\n",
    "#         ax.annotate(str(p.get_height()), (p.get_x() * 1.005, p.get_height() * 1.005))\n",
    "\n",
    "    x_offset = -0.08\n",
    "    y_offset = 0.015\n",
    "    for p in ax.patches:\n",
    "        b = p.get_bbox()\n",
    "        val = \"{:.2f}\".format(b.y1 + b.y0).lstrip('0')        \n",
    "        ax.annotate(val, ((b.x0 + b.x1)/2 + x_offset, b.y1 + y_offset), fontsize=15, fontweight=\"bold\")\n",
    "    \n",
    "#     plt.axhline(y=0.5, ls='--', color='red')\n",
    "\n",
    "    labels = [tick.get_text() for tick in ax.get_yticklabels()]\n",
    "\n",
    "    l = plt.pyplot.legend(bbox_to_anchor=(1.0, 1.0), prop={'size':16, 'weight':'bold'})\n",
    "#     l.draw_frame(False)\n",
    "\n",
    "    plt.pyplot.axvline(x=5.5, ls='--', color='gray')\n",
    "\n",
    "\n",
    "    plt.pyplot.tight_layout()\n",
    "\n",
    "    plt.pyplot.savefig('../../results/districts/regression/fig/reg_per_city_v2.png', dpi=100)"
   ]
  },
  {
   "cell_type": "code",
   "execution_count": 258,
   "metadata": {},
   "outputs": [
    {
     "data": {
      "image/png": "[encoded data removed]",
      "text/plain": [
       "<Figure size 1080x360 with 1 Axes>"
      ]
     },
     "metadata": {},
     "output_type": "display_data"
    }
   ],
   "source": [
    "plot_res_v2()"
   ]
  },
  {
   "cell_type": "code",
   "execution_count": null,
   "metadata": {},
   "outputs": [],
   "source": []
  }
 ],
 "metadata": {
  "kernelspec": {
   "display_name": "Python 3",
   "language": "python",
   "name": "python3"
  },
  "language_info": {
   "codemirror_mode": {
    "name": "ipython",
    "version": 3
   },
   "file_extension": ".py",
   "mimetype": "text/x-python",
   "name": "python",
   "nbconvert_exporter": "python",
   "pygments_lexer": "ipython3",
   "version": "3.7.6"
  }
 },
 "nbformat": 4,
 "nbformat_minor": 2
}
