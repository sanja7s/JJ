{
 "cells": [
  {
   "cell_type": "markdown",
   "metadata": {},
   "source": [
    "# CRF"
   ]
  },
  {
   "cell_type": "code",
   "execution_count": 38,
   "metadata": {},
   "outputs": [],
   "source": [
    "import pandas as pd\n",
    "import numpy as np\n",
    "from imblearn.under_sampling import RandomUnderSampler\n",
    "from sklearn.model_selection import StratifiedKFold\n",
    "from sklearn.preprocessing import StandardScaler\n",
    "\n",
    "from sklearn.ensemble import RandomForestClassifier"
   ]
  },
  {
   "cell_type": "code",
   "execution_count": 39,
   "metadata": {},
   "outputs": [],
   "source": [
    "CITY = \"milano\"\n",
    "data_dir = \"../../preprocessed/\" \n",
    "features_dir = data_dir + \"features/\" + CITY + \"/\"\n",
    "labels_dir = data_dir + \"labels/\" + CITY + \"/\"\n",
    "\n",
    "PCA_components = 32\n",
    "\n",
    "standardize_features = True"
   ]
  },
  {
   "cell_type": "code",
   "execution_count": 40,
   "metadata": {},
   "outputs": [],
   "source": [
    "label_columns = [\"hType_mix\", \"num_intersect\", \"bld_avg_age\", \"emp_rat_num\",\\\n",
    "\t\t\t\t\"LUM5_single\",\t\"RNR_nres\", \"mdist_smallparks\", \"nig_rat_daily\",\\\n",
    "\t\t\t\t\"nig_rat_daily3\", \"mdist_nres_daily\", \"num_community_places\", \\\n",
    "\t\t\t\t\"num_community_places_poi\", \"avg_block_area\", \"sphi\", \\\n",
    "\t\t\t\t\"enterprises_empl_size\", \"pop_rat_num\",  \\\n",
    "\t\t\t\t\"emp_rat_pop\", \"bld_rat_area\", \"den_nres_daily\",\\\n",
    "\t\t\t\t\"mdist_parks\", \"den_nres_non-daily\", \"mdist_railways\",\\\n",
    "\t\t\t\t\"mdist_highways\", \"mdist_water\"]"
   ]
  },
  {
   "cell_type": "markdown",
   "metadata": {},
   "source": [
    "## Functions"
   ]
  },
  {
   "cell_type": "code",
   "execution_count": 41,
   "metadata": {},
   "outputs": [],
   "source": [
    "def get_labels_features():\n",
    "    labels = pd.read_csv(labels_dir + \"imagelet_labels_clean.csv\")\n",
    "    features = pd.read_csv(features_dir + \"Resnet50/df_ResNet50_feat8192_pca\"+str(PCA_components) +\".csv\")\n",
    "    data = pd.merge(features,labels, on=\"name\", how=\"inner\")\n",
    "    return data"
   ]
  },
  {
   "cell_type": "code",
   "execution_count": 42,
   "metadata": {},
   "outputs": [],
   "source": [
    "def get_normalized_labels_features():\n",
    "    return pd.read_csv(features_dir + \"Resnet50/df_ResNet50_feat8192_pca\"+\\\n",
    "            str(PCA_components) +\"_labels_features.csv\")"
   ]
  },
  {
   "cell_type": "code",
   "execution_count": 43,
   "metadata": {},
   "outputs": [],
   "source": [
    "def predict_label_i(label=\"label_hType_mix\"):\n",
    "    \n",
    "    data2 = data.copy()\n",
    "    data2 = data2[data2[label] != 1 ]\n",
    "    \n",
    "    target = data2[[\"name\", label]]\n",
    "    features = data2[[c for c in data.columns if \"PCA\" in c]]\n",
    "    \n",
    "    X = features.values\n",
    "    y = target[label].values\n",
    "    \n",
    "    rus = RandomUnderSampler(random_state=0)\n",
    "    X_resampled, y_resampled = rus.fit_sample(X, y)\n",
    "    \n",
    "    high = target[target[label] == 2]\n",
    "    low = target[target[label] == 0]\n",
    "    \n",
    "    clf = RandomForestClassifier(max_depth=10, random_state=0, n_estimators=100).fit(X_resampled, y_resampled)\n",
    "    \n",
    "    print(clf.score(X_resampled, y_resampled), \"Low\", len(low), \"High\", len(high), \"NOW\", len(X_resampled)/2)"
   ]
  },
  {
   "cell_type": "code",
   "execution_count": 44,
   "metadata": {},
   "outputs": [],
   "source": [
    "def predict_label_i_KFold(label=\"label_hType_mix\"):\n",
    "    \n",
    "    kf = StratifiedKFold(n_splits=5)\n",
    "    \n",
    "    \n",
    "    data2 = data.copy()\n",
    "    data2 = data2[data2[label] != 1 ]\n",
    "    \n",
    "    target = data2[[\"name\", label]]\n",
    "    features = data2[[c for c in data.columns if \"PCA\" in c]]\n",
    "    \n",
    "    X = features.values\n",
    "    y = target[label].values\n",
    "    \n",
    "    rus = RandomUnderSampler(random_state=1)\n",
    "    X_resampled, y_resampled = rus.fit_sample(X, y)\n",
    "    \n",
    "    res = []\n",
    "    \n",
    "    kf.get_n_splits(X_resampled, y_resampled)\n",
    "    for train_index, test_index in kf.split(X_resampled, y_resampled):\n",
    "        \n",
    "        X_train, X_test = X_resampled[train_index], X_resampled[test_index]\n",
    "        y_train, y_test = y_resampled[train_index], y_resampled[test_index]\n",
    "    \n",
    "        clf = RandomForestClassifier(max_depth=2, random_state=0, n_estimators=10).fit(X_train, y_train)\n",
    "\n",
    "        res.append(clf.score(X_test, y_test))\n",
    "        \n",
    "    return np.mean(res), np.std(res)"
   ]
  },
  {
   "cell_type": "markdown",
   "metadata": {},
   "source": [
    "## Read in Data. Chose standardized or not."
   ]
  },
  {
   "cell_type": "code",
   "execution_count": 45,
   "metadata": {},
   "outputs": [],
   "source": [
    "if standardize_features:\n",
    "    data = get_normalized_labels_features()\n",
    "else:\n",
    "    data = get_labels_features()"
   ]
  },
  {
   "cell_type": "code",
   "execution_count": 46,
   "metadata": {},
   "outputs": [
    {
     "data": {
      "text/html": [
       "<div>\n",
       "<style scoped>\n",
       "    .dataframe tbody tr th:only-of-type {\n",
       "        vertical-align: middle;\n",
       "    }\n",
       "\n",
       "    .dataframe tbody tr th {\n",
       "        vertical-align: top;\n",
       "    }\n",
       "\n",
       "    .dataframe thead th {\n",
       "        text-align: right;\n",
       "    }\n",
       "</style>\n",
       "<table border=\"1\" class=\"dataframe\">\n",
       "  <thead>\n",
       "    <tr style=\"text-align: right;\">\n",
       "      <th></th>\n",
       "      <th>name</th>\n",
       "      <th>PCA0</th>\n",
       "      <th>PCA1</th>\n",
       "      <th>PCA2</th>\n",
       "      <th>PCA3</th>\n",
       "      <th>PCA4</th>\n",
       "      <th>PCA5</th>\n",
       "      <th>PCA6</th>\n",
       "      <th>PCA7</th>\n",
       "      <th>PCA8</th>\n",
       "      <th>...</th>\n",
       "      <th>label_pop_rat_num</th>\n",
       "      <th>label_emp_rat_num</th>\n",
       "      <th>label_emp_rat_pop</th>\n",
       "      <th>label_bld_rat_area</th>\n",
       "      <th>label_den_nres_daily</th>\n",
       "      <th>label_mdist_parks</th>\n",
       "      <th>label_den_nres_non-daily</th>\n",
       "      <th>label_mdist_railways</th>\n",
       "      <th>label_mdist_highways</th>\n",
       "      <th>label_mdist_water</th>\n",
       "    </tr>\n",
       "  </thead>\n",
       "  <tbody>\n",
       "    <tr>\n",
       "      <th>0</th>\n",
       "      <td>S2B_MSIL2A_20181024T102059_N0209_R065_T32TNR_2...</td>\n",
       "      <td>-0.408721</td>\n",
       "      <td>-0.104768</td>\n",
       "      <td>-1.554297</td>\n",
       "      <td>-0.299501</td>\n",
       "      <td>0.606426</td>\n",
       "      <td>-2.119831</td>\n",
       "      <td>-0.436890</td>\n",
       "      <td>-0.990207</td>\n",
       "      <td>0.602116</td>\n",
       "      <td>...</td>\n",
       "      <td>1.0</td>\n",
       "      <td>0.0</td>\n",
       "      <td>2.0</td>\n",
       "      <td>1.0</td>\n",
       "      <td>1.0</td>\n",
       "      <td>2.0</td>\n",
       "      <td>1.0</td>\n",
       "      <td>2.0</td>\n",
       "      <td>2.0</td>\n",
       "      <td>0.0</td>\n",
       "    </tr>\n",
       "    <tr>\n",
       "      <th>1</th>\n",
       "      <td>S2B_MSIL2A_20181024T102059_N0209_R065_T32TNR_2...</td>\n",
       "      <td>-0.251129</td>\n",
       "      <td>-0.661239</td>\n",
       "      <td>1.873108</td>\n",
       "      <td>1.448112</td>\n",
       "      <td>1.914111</td>\n",
       "      <td>-0.911612</td>\n",
       "      <td>-0.070438</td>\n",
       "      <td>0.011526</td>\n",
       "      <td>-0.879663</td>\n",
       "      <td>...</td>\n",
       "      <td>1.0</td>\n",
       "      <td>2.0</td>\n",
       "      <td>0.0</td>\n",
       "      <td>2.0</td>\n",
       "      <td>1.0</td>\n",
       "      <td>1.0</td>\n",
       "      <td>1.0</td>\n",
       "      <td>1.0</td>\n",
       "      <td>2.0</td>\n",
       "      <td>0.0</td>\n",
       "    </tr>\n",
       "    <tr>\n",
       "      <th>2</th>\n",
       "      <td>S2B_MSIL2A_20181024T102059_N0209_R065_T32TNR_2...</td>\n",
       "      <td>-0.143509</td>\n",
       "      <td>-0.660533</td>\n",
       "      <td>-0.082356</td>\n",
       "      <td>-0.704953</td>\n",
       "      <td>0.170844</td>\n",
       "      <td>-1.121664</td>\n",
       "      <td>0.673290</td>\n",
       "      <td>-0.977680</td>\n",
       "      <td>-0.570720</td>\n",
       "      <td>...</td>\n",
       "      <td>0.0</td>\n",
       "      <td>0.0</td>\n",
       "      <td>2.0</td>\n",
       "      <td>0.0</td>\n",
       "      <td>0.0</td>\n",
       "      <td>2.0</td>\n",
       "      <td>1.0</td>\n",
       "      <td>1.0</td>\n",
       "      <td>2.0</td>\n",
       "      <td>1.0</td>\n",
       "    </tr>\n",
       "    <tr>\n",
       "      <th>3</th>\n",
       "      <td>S2B_MSIL2A_20181024T102059_N0209_R065_T32TNR_2...</td>\n",
       "      <td>0.368961</td>\n",
       "      <td>-0.713870</td>\n",
       "      <td>-0.240754</td>\n",
       "      <td>-0.922868</td>\n",
       "      <td>2.464820</td>\n",
       "      <td>0.937034</td>\n",
       "      <td>1.375748</td>\n",
       "      <td>-0.159310</td>\n",
       "      <td>-0.466197</td>\n",
       "      <td>...</td>\n",
       "      <td>1.0</td>\n",
       "      <td>0.0</td>\n",
       "      <td>2.0</td>\n",
       "      <td>1.0</td>\n",
       "      <td>1.0</td>\n",
       "      <td>2.0</td>\n",
       "      <td>1.0</td>\n",
       "      <td>2.0</td>\n",
       "      <td>2.0</td>\n",
       "      <td>0.0</td>\n",
       "    </tr>\n",
       "    <tr>\n",
       "      <th>4</th>\n",
       "      <td>S2B_MSIL2A_20181024T102059_N0209_R065_T32TNR_2...</td>\n",
       "      <td>0.173763</td>\n",
       "      <td>0.557279</td>\n",
       "      <td>-1.037464</td>\n",
       "      <td>0.671350</td>\n",
       "      <td>0.969712</td>\n",
       "      <td>-0.313608</td>\n",
       "      <td>-0.972046</td>\n",
       "      <td>0.609494</td>\n",
       "      <td>1.399276</td>\n",
       "      <td>...</td>\n",
       "      <td>0.0</td>\n",
       "      <td>1.0</td>\n",
       "      <td>1.0</td>\n",
       "      <td>1.0</td>\n",
       "      <td>1.0</td>\n",
       "      <td>1.0</td>\n",
       "      <td>0.0</td>\n",
       "      <td>2.0</td>\n",
       "      <td>1.0</td>\n",
       "      <td>0.0</td>\n",
       "    </tr>\n",
       "  </tbody>\n",
       "</table>\n",
       "<p>5 rows × 57 columns</p>\n",
       "</div>"
      ],
      "text/plain": [
       "                                                name      PCA0      PCA1  \\\n",
       "0  S2B_MSIL2A_20181024T102059_N0209_R065_T32TNR_2... -0.408721 -0.104768   \n",
       "1  S2B_MSIL2A_20181024T102059_N0209_R065_T32TNR_2... -0.251129 -0.661239   \n",
       "2  S2B_MSIL2A_20181024T102059_N0209_R065_T32TNR_2... -0.143509 -0.660533   \n",
       "3  S2B_MSIL2A_20181024T102059_N0209_R065_T32TNR_2...  0.368961 -0.713870   \n",
       "4  S2B_MSIL2A_20181024T102059_N0209_R065_T32TNR_2...  0.173763  0.557279   \n",
       "\n",
       "       PCA2      PCA3      PCA4      PCA5      PCA6      PCA7      PCA8  ...  \\\n",
       "0 -1.554297 -0.299501  0.606426 -2.119831 -0.436890 -0.990207  0.602116  ...   \n",
       "1  1.873108  1.448112  1.914111 -0.911612 -0.070438  0.011526 -0.879663  ...   \n",
       "2 -0.082356 -0.704953  0.170844 -1.121664  0.673290 -0.977680 -0.570720  ...   \n",
       "3 -0.240754 -0.922868  2.464820  0.937034  1.375748 -0.159310 -0.466197  ...   \n",
       "4 -1.037464  0.671350  0.969712 -0.313608 -0.972046  0.609494  1.399276  ...   \n",
       "\n",
       "   label_pop_rat_num  label_emp_rat_num  label_emp_rat_pop  \\\n",
       "0                1.0                0.0                2.0   \n",
       "1                1.0                2.0                0.0   \n",
       "2                0.0                0.0                2.0   \n",
       "3                1.0                0.0                2.0   \n",
       "4                0.0                1.0                1.0   \n",
       "\n",
       "   label_bld_rat_area  label_den_nres_daily  label_mdist_parks  \\\n",
       "0                 1.0                   1.0                2.0   \n",
       "1                 2.0                   1.0                1.0   \n",
       "2                 0.0                   0.0                2.0   \n",
       "3                 1.0                   1.0                2.0   \n",
       "4                 1.0                   1.0                1.0   \n",
       "\n",
       "   label_den_nres_non-daily  label_mdist_railways  label_mdist_highways  \\\n",
       "0                       1.0                   2.0                   2.0   \n",
       "1                       1.0                   1.0                   2.0   \n",
       "2                       1.0                   1.0                   2.0   \n",
       "3                       1.0                   2.0                   2.0   \n",
       "4                       0.0                   2.0                   1.0   \n",
       "\n",
       "   label_mdist_water  \n",
       "0                0.0  \n",
       "1                0.0  \n",
       "2                1.0  \n",
       "3                0.0  \n",
       "4                0.0  \n",
       "\n",
       "[5 rows x 57 columns]"
      ]
     },
     "execution_count": 46,
     "metadata": {},
     "output_type": "execute_result"
    }
   ],
   "source": [
    "data.head()"
   ]
  },
  {
   "cell_type": "markdown",
   "metadata": {},
   "source": [
    "## Predict on Train"
   ]
  },
  {
   "cell_type": "code",
   "execution_count": 47,
   "metadata": {},
   "outputs": [
    {
     "name": "stdout",
     "output_type": "stream",
     "text": [
      "1.0 Low 71 High 152 NOW 71.0\n"
     ]
    }
   ],
   "source": [
    "predict_label_i()"
   ]
  },
  {
   "cell_type": "code",
   "execution_count": 48,
   "metadata": {
    "scrolled": false
   },
   "outputs": [
    {
     "name": "stdout",
     "output_type": "stream",
     "text": [
      "label_hType_mix\n",
      "1.0 Low 71 High 152 NOW 71.0\n",
      "label_num_intersect\n",
      "1.0 Low 181 High 65 NOW 65.0\n",
      "label_bld_avg_age\n",
      "1.0 Low 160 High 71 NOW 71.0\n",
      "label_emp_rat_num\n",
      "1.0 Low 161 High 70 NOW 70.0\n",
      "label_LUM5_single\n",
      "1.0 Low 61 High 165 NOW 61.0\n",
      "label_RNR_nres\n",
      "1.0 Low 67 High 141 NOW 67.0\n",
      "label_mdist_smallparks\n",
      "1.0 Low 132 High 87 NOW 87.0\n",
      "label_nig_rat_daily\n",
      "1.0 Low 110 High 114 NOW 110.0\n",
      "label_nig_rat_daily3\n",
      "1.0 Low 167 High 70 NOW 70.0\n",
      "label_mdist_nres_daily\n",
      "1.0 Low 174 High 60 NOW 60.0\n",
      "label_num_community_places\n",
      "1.0 Low 177 High 61 NOW 61.0\n",
      "label_num_community_places_poi\n",
      "1.0 Low 142 High 67 NOW 67.0\n",
      "label_avg_block_area\n",
      "1.0 Low 74 High 171 NOW 74.0\n",
      "label_sphi\n",
      "1.0 Low 137 High 91 NOW 91.0\n",
      "label_enterprises_empl_size\n",
      "1.0 Low 85 High 158 NOW 85.0\n",
      "label_pop_rat_num\n",
      "1.0 Low 181 High 45 NOW 45.0\n",
      "label_emp_rat_pop\n",
      "1.0 Low 128 High 99 NOW 99.0\n",
      "label_bld_rat_area\n",
      "1.0 Low 177 High 66 NOW 66.0\n",
      "label_den_nres_daily\n",
      "1.0 Low 177 High 60 NOW 60.0\n",
      "label_mdist_parks\n",
      "1.0 Low 85 High 119 NOW 85.0\n",
      "label_den_nres_non-daily\n",
      "1.0 Low 176 High 65 NOW 65.0\n",
      "label_mdist_railways\n",
      "1.0 Low 136 High 92 NOW 92.0\n",
      "label_mdist_highways\n",
      "1.0 Low 81 High 136 NOW 81.0\n",
      "label_mdist_water\n",
      "1.0 Low 109 High 121 NOW 109.0\n"
     ]
    }
   ],
   "source": [
    "for col in label_columns:\n",
    "    label = \"label_\" + col\n",
    "    print (label)\n",
    "    predict_label_i(label)"
   ]
  },
  {
   "cell_type": "markdown",
   "metadata": {},
   "source": [
    "## Predict K-Fold"
   ]
  },
  {
   "cell_type": "code",
   "execution_count": 49,
   "metadata": {},
   "outputs": [
    {
     "data": {
      "text/plain": [
       "(0.5066666666666666, 0.0993562042793412)"
      ]
     },
     "execution_count": 49,
     "metadata": {},
     "output_type": "execute_result"
    }
   ],
   "source": [
    "predict_label_i_KFold(label=\"label_hType_mix\")"
   ]
  },
  {
   "cell_type": "code",
   "execution_count": 50,
   "metadata": {
    "scrolled": false
   },
   "outputs": [],
   "source": [
    "kfold_SCORES = {}\n",
    "for col in label_columns:\n",
    "    label = \"label_\" + col\n",
    "    kfold_SCORES[label] = predict_label_i_KFold(label)"
   ]
  },
  {
   "cell_type": "code",
   "execution_count": 51,
   "metadata": {
    "scrolled": false
   },
   "outputs": [
    {
     "data": {
      "text/plain": [
       "{'label_hType_mix': (0.5066666666666666, 0.0993562042793412),\n",
       " 'label_num_intersect': (0.5538461538461539, 0.05217176910096362),\n",
       " 'label_bld_avg_age': (0.5357142857142857, 0.063887656499994),\n",
       " 'label_emp_rat_num': (0.6, 0.09689042833036098),\n",
       " 'label_LUM5_single': (0.6224358974358974, 0.0732678567293823),\n",
       " 'label_RNR_nres': (0.49340659340659343, 0.06944846289813171),\n",
       " 'label_mdist_smallparks': (0.4771241830065359, 0.02097621769396238),\n",
       " 'label_nig_rat_daily': (0.46818181818181814, 0.08331955809010619),\n",
       " 'label_nig_rat_daily3': (0.5928571428571427, 0.06624013211068362),\n",
       " 'label_mdist_nres_daily': (0.5583333333333333, 0.08975274678557504),\n",
       " 'label_num_community_places': (0.575, 0.07168604389202192),\n",
       " 'label_num_community_places_poi': (0.49120879120879124, 0.07390875813081015),\n",
       " 'label_avg_block_area': (0.5866666666666667, 0.07774602526460399),\n",
       " 'label_sphi': (0.5824561403508773, 0.0017543859649122862),\n",
       " 'label_enterprises_empl_size': (0.5117647058823529, 0.08843115516689945),\n",
       " 'label_pop_rat_num': (0.611111111111111, 0.06085806194501844),\n",
       " 'label_emp_rat_pop': (0.5142105263157895, 0.09377951982149485),\n",
       " 'label_bld_rat_area': (0.621978021978022, 0.062395910182762165),\n",
       " 'label_den_nres_daily': (0.5499999999999999, 0.10992421631894098),\n",
       " 'label_mdist_parks': (0.5764705882352941, 0.0823529411764706),\n",
       " 'label_den_nres_non-daily': (0.5692307692307692, 0.06617173282340481),\n",
       " 'label_mdist_railways': (0.4730994152046783, 0.06495309817253213),\n",
       " 'label_mdist_highways': (0.4566176470588236, 0.0580440077347355),\n",
       " 'label_mdist_water': (0.5088744588744589, 0.023476617944512976)}"
      ]
     },
     "execution_count": 51,
     "metadata": {},
     "output_type": "execute_result"
    }
   ],
   "source": [
    "kfold_SCORES"
   ]
  },
  {
   "cell_type": "code",
   "execution_count": null,
   "metadata": {},
   "outputs": [],
   "source": []
  },
  {
   "cell_type": "code",
   "execution_count": null,
   "metadata": {},
   "outputs": [],
   "source": []
  },
  {
   "cell_type": "code",
   "execution_count": null,
   "metadata": {},
   "outputs": [],
   "source": []
  }
 ],
 "metadata": {
  "kernelspec": {
   "display_name": "Python 3",
   "language": "python",
   "name": "python3"
  },
  "language_info": {
   "codemirror_mode": {
    "name": "ipython",
    "version": 3
   },
   "file_extension": ".py",
   "mimetype": "text/x-python",
   "name": "python",
   "nbconvert_exporter": "python",
   "pygments_lexer": "ipython3",
   "version": "3.6.7"
  }
 },
 "nbformat": 4,
 "nbformat_minor": 2
}
