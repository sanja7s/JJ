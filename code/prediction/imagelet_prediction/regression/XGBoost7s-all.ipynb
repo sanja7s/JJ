{
 "cells": [
  {
   "cell_type": "markdown",
   "metadata": {},
   "source": [
    "# XGBoost Regression ALL"
   ]
  },
  {
   "cell_type": "code",
   "execution_count": 78,
   "metadata": {},
   "outputs": [],
   "source": [
    "import pandas as pd\n",
    "import numpy as np\n",
    "from sklearn.model_selection import KFold\n",
    "from sklearn.metrics import mean_squared_error, r2_score, mean_absolute_error\n",
    "from pathlib import Path\n",
    "import xgboost as xgb\n",
    "import numpy as np\n",
    "import pickle"
   ]
  },
  {
   "cell_type": "code",
   "execution_count": 79,
   "metadata": {},
   "outputs": [],
   "source": [
    "data_dir = \"../../preprocessed/\" \n",
    "features_dir = data_dir + \"regression_features/features_all/\"\n",
    "# labels_dir = data_dir + \"labels/\" \n",
    "\n",
    "model_dir = \"../../resources/regression/\" \n",
    "\n",
    "PCA_components = 64\n",
    "\n",
    "USE_GEO = \"GEO\"\n",
    "\n",
    "if USE_GEO == \"GEO\":\n",
    "    features_columns = [\"PCA\"+str(i) for i in range(PCA_components)] + \\\n",
    "                        [\"centroid_x\", \"centroid_y\"]\n",
    "else:\n",
    "    features_columns = [\"PCA\"+str(i) for i in range(PCA_components)]\n",
    "        \n",
    "\n",
    "network_type = \"vgg16_4096\"\n",
    "\n",
    "\n",
    "standardize_features = True\n",
    "\n",
    "# feature_size = 2048"
   ]
  },
  {
   "cell_type": "code",
   "execution_count": 80,
   "metadata": {},
   "outputs": [],
   "source": [
    "label_columns = [\"hType_mix\", \"num_intersect\", \"bld_avg_age\", \"emp_rat_num\",\\\n",
    "\t\t\t\t\"LUM5_single\",\t\"RNR_nres\", \"mdist_smallparks\", \"nig_rat_daily\",\\\n",
    "\t\t\t\t\"nig_rat_daily3\", \"mdist_nres_daily\", \"num_community_places\", \\\n",
    "\t\t\t\t\"num_community_places_poi\", \"avg_block_area\", \"sphi\", \\\n",
    "\t\t\t\t\"enterprises_empl_size\", \"pop_rat_num\",  \\\n",
    "\t\t\t\t\"emp_rat_pop\", \"den_nres_daily\",\\\n",
    "\t\t\t\t\"mdist_parks\", \"den_nres_non-daily\", \"mdist_railways\",\\\n",
    "\t\t\t\t\"mdist_highways\", \"mdist_water\", \"activity_density\"] # \"bld_rat_area\", "
   ]
  },
  {
   "cell_type": "code",
   "execution_count": 81,
   "metadata": {},
   "outputs": [],
   "source": [
    "land_use = [\n",
    "\"LUM5_single\",\"RNR_nres\",\"mdist_smallparks\",\n",
    "\"hType_mix\", \"nig_rat_daily\", \"mdist_nres_daily\",\n",
    "\"num_community_places\", \"num_community_places_poi\"]\n",
    "\n",
    "\n",
    "small_blocks = [\n",
    "\"avg_block_area\",\"num_intersect\", \"sphi\"]\n",
    "\n",
    "\n",
    "age_buildings = [\n",
    "\"bld_avg_age\",\"enterprises_empl_size\"]\n",
    "\n",
    "concentration = [\n",
    "\"pop_rat_num\",\"emp_rat_num\",\"emp_rat_pop\"\n",
    "    ,\"den_nres_daily\",\"den_nres_non-daily\"]\n",
    "\n",
    "vacuums = [\n",
    "\"mdist_parks\", \"mdist_railways\",\n",
    "\"mdist_highways\", \"mdist_water\"]"
   ]
  },
  {
   "cell_type": "markdown",
   "metadata": {},
   "source": [
    "## Functions"
   ]
  },
  {
   "cell_type": "code",
   "execution_count": 82,
   "metadata": {},
   "outputs": [],
   "source": [
    "def get_normalized_labels_features():\n",
    "    if network_type == \"vgg19\":\n",
    "        df = pd.read_csv(features_dir + \"Italy_6_cities_vgg19_pca\"+str(PCA_components)+\"_linear_fc_thirdlast_layer_labels_features.csv\")\n",
    "    elif network_type == \"resnet50\":\n",
    "        df = pd.read_csv(features_dir + \"Italy_6_cities_resnet_pca\"+str(PCA_components)+\"_second_last_layer_labels_features.csv\")\n",
    "    elif network_type == \"vgg16_4096\":\n",
    "        df = pd.read_csv(features_dir + \"Italy_6_cities_resnet_pca\" + str(PCA_components) + \"_vgg16_4096_labels_features.csv\")\n",
    "\n",
    "    df[\"city_image\"] = df.\\\n",
    "        apply(lambda x: x.city + \"_\" + x.imageName, axis = 1)\n",
    "    \n",
    "    del df['imageName']\n",
    "    del df['city']\n",
    "    del df['index']\n",
    "    return df"
   ]
  },
  {
   "cell_type": "code",
   "execution_count": 115,
   "metadata": {},
   "outputs": [],
   "source": [
    "def predict_label_i(label=\"label_activity_density\"):\n",
    "    \n",
    "    data2 = data.copy()\n",
    "    \n",
    "    target = data2[[\"city_image\", label]]\n",
    "    features = data2[features_columns]\n",
    "    \n",
    "    X = features.values\n",
    "    y = target[label].values\n",
    "    \n",
    "    param_dist = {'objective' :'reg:squarederror', 'n_estimators':16}\n",
    "    clf = xgb.XGBRegressor(**param_dist)\n",
    "\n",
    "    clf.fit(X, y,verbose=False)\n",
    "    \n",
    "    pickle.dump(clf, open(model_dir + label + '_all_reg.dat' , \"wb\"))\n",
    "    \n",
    "    print(clf.score(X, y))"
   ]
  },
  {
   "cell_type": "code",
   "execution_count": 104,
   "metadata": {},
   "outputs": [],
   "source": [
    "def predict_label_i_KFold(label=\"label_hType_mix\"):\n",
    "    \n",
    "    kf = KFold(n_splits=10)\n",
    "    \n",
    "    data2 = data.copy()\n",
    "    target = data2[[\"city_image\", label]]\n",
    "    features = data2[features_columns]\n",
    "    \n",
    "    X = features.values\n",
    "    y = target[label].values\n",
    " \n",
    "    rmse = []\n",
    "    r2 = []\n",
    "    mae = []\n",
    "    \n",
    "    kf.get_n_splits(X, y)\n",
    "    for train_index, test_index in kf.split(X, y):\n",
    "        \n",
    "        X_train, X_test = X[train_index], X[test_index]\n",
    "        y_train, y_test = y[train_index], y[test_index]\n",
    "    \n",
    "        param_dist = {'objective' :'reg:squarederror', 'n_estimators':16}\n",
    "        clf = xgb.XGBRegressor(**param_dist)\n",
    "        \n",
    "        clf.fit(X_train, y_train,verbose=False)\n",
    "        \n",
    "        predictions = clf.predict(X_test)\n",
    "        rmse1 = np.sqrt(mean_squared_error(y_test, predictions))\n",
    "        rmse.append(rmse1)\n",
    "        \n",
    "        r21 = r2_score(y_test, predictions)\n",
    "        r2.append(r21)\n",
    "        \n",
    "        mae1 = mean_absolute_error(y_test, predictions)\n",
    "        mae.append(mae1)\n",
    "        \n",
    "    pickle.dump(clf, open(model_dir + label + 'reg.dat' , \"wb\"))\n",
    "\n",
    "        \n",
    "    return  ({\"MAE\": (np.mean(mae), np.std(mae)), \\\n",
    "              \"R2\": (np.mean(r2), np.std(r2)), \"RMSE\": (np.mean(rmse), np.std(rmse))},\n",
    "             {\"RMSE\": np.mean(rmse), \"R2\": np.mean(r2)})"
   ]
  },
  {
   "cell_type": "markdown",
   "metadata": {},
   "source": [
    "## Read in Data. Chose standardized or not."
   ]
  },
  {
   "cell_type": "code",
   "execution_count": 105,
   "metadata": {},
   "outputs": [],
   "source": [
    "data = get_normalized_labels_features()"
   ]
  },
  {
   "cell_type": "markdown",
   "metadata": {},
   "source": [
    "## Predict K-Fold"
   ]
  },
  {
   "cell_type": "code",
   "execution_count": 106,
   "metadata": {},
   "outputs": [
    {
     "data": {
      "text/html": [
       "<div>\n",
       "<style scoped>\n",
       "    .dataframe tbody tr th:only-of-type {\n",
       "        vertical-align: middle;\n",
       "    }\n",
       "\n",
       "    .dataframe tbody tr th {\n",
       "        vertical-align: top;\n",
       "    }\n",
       "\n",
       "    .dataframe thead th {\n",
       "        text-align: right;\n",
       "    }\n",
       "</style>\n",
       "<table border=\"1\" class=\"dataframe\">\n",
       "  <thead>\n",
       "    <tr style=\"text-align: right;\">\n",
       "      <th></th>\n",
       "      <th>label_activity_density</th>\n",
       "    </tr>\n",
       "  </thead>\n",
       "  <tbody>\n",
       "    <tr>\n",
       "      <th>count</th>\n",
       "      <td>1069.000000</td>\n",
       "    </tr>\n",
       "    <tr>\n",
       "      <th>mean</th>\n",
       "      <td>0.430750</td>\n",
       "    </tr>\n",
       "    <tr>\n",
       "      <th>std</th>\n",
       "      <td>0.253064</td>\n",
       "    </tr>\n",
       "    <tr>\n",
       "      <th>min</th>\n",
       "      <td>0.000000</td>\n",
       "    </tr>\n",
       "    <tr>\n",
       "      <th>25%</th>\n",
       "      <td>0.250571</td>\n",
       "    </tr>\n",
       "    <tr>\n",
       "      <th>50%</th>\n",
       "      <td>0.389735</td>\n",
       "    </tr>\n",
       "    <tr>\n",
       "      <th>75%</th>\n",
       "      <td>0.604387</td>\n",
       "    </tr>\n",
       "    <tr>\n",
       "      <th>max</th>\n",
       "      <td>1.000000</td>\n",
       "    </tr>\n",
       "  </tbody>\n",
       "</table>\n",
       "</div>"
      ],
      "text/plain": [
       "       label_activity_density\n",
       "count             1069.000000\n",
       "mean                 0.430750\n",
       "std                  0.253064\n",
       "min                  0.000000\n",
       "25%                  0.250571\n",
       "50%                  0.389735\n",
       "75%                  0.604387\n",
       "max                  1.000000"
      ]
     },
     "execution_count": 106,
     "metadata": {},
     "output_type": "execute_result"
    }
   ],
   "source": [
    "data[['label_activity_density']].describe()"
   ]
  },
  {
   "cell_type": "code",
   "execution_count": 107,
   "metadata": {},
   "outputs": [
    {
     "data": {
      "text/plain": [
       "array([[<matplotlib.axes._subplots.AxesSubplot object at 0x122f45590>]],\n",
       "      dtype=object)"
      ]
     },
     "execution_count": 107,
     "metadata": {},
     "output_type": "execute_result"
    },
    {
     "data": {
      "image/png": "[encoded data removed]",
      "text/plain": [
       "<Figure size 432x288 with 1 Axes>"
      ]
     },
     "metadata": {
      "needs_background": "light"
     },
     "output_type": "display_data"
    }
   ],
   "source": [
    "data[['label_activity_density']].hist()"
   ]
  },
  {
   "cell_type": "code",
   "execution_count": 108,
   "metadata": {},
   "outputs": [
    {
     "data": {
      "text/plain": [
       "1069"
      ]
     },
     "execution_count": 108,
     "metadata": {},
     "output_type": "execute_result"
    }
   ],
   "source": [
    "len(data)"
   ]
  },
  {
   "cell_type": "code",
   "execution_count": 109,
   "metadata": {},
   "outputs": [
    {
     "data": {
      "text/plain": [
       "({'MAE': (0.136544545116192, 0.016168049195507857),\n",
       "  'R2': (0.49455264968198226, 0.13941135387621903),\n",
       "  'RMSE': (0.17246784650284208, 0.017976239146148557)},\n",
       " {'RMSE': 0.17246784650284208, 'R2': 0.49455264968198226})"
      ]
     },
     "execution_count": 109,
     "metadata": {},
     "output_type": "execute_result"
    }
   ],
   "source": [
    "predict_label_i_KFold('label_activity_density')"
   ]
  },
  {
   "cell_type": "code",
   "execution_count": 110,
   "metadata": {
    "scrolled": true
   },
   "outputs": [],
   "source": [
    "kfold_SCORES = {}\n",
    "kfold_SCORES2 = {}\n",
    "for col in label_columns:\n",
    "    label = \"label_\" + col\n",
    "    res1, res2 = predict_label_i_KFold(label)\n",
    "    kfold_SCORES[label] = res1\n",
    "    kfold_SCORES2[label] = res2"
   ]
  },
  {
   "cell_type": "code",
   "execution_count": 111,
   "metadata": {
    "scrolled": false
   },
   "outputs": [
    {
     "data": {
      "text/plain": [
       "{'label_hType_mix': {'MAE': (0.16464687845083206, 0.038801316991812725),\n",
       "  'R2': (0.07825073236547501, 0.1560002798788519),\n",
       "  'RMSE': (0.21656011505368733, 0.04823399387551757)},\n",
       " 'label_num_intersect': {'MAE': (0.16871404397713477, 0.02059937569330191),\n",
       "  'R2': (0.34529667565812416, 0.1531926830472858),\n",
       "  'RMSE': (0.21262483208234245, 0.020624232694663635)},\n",
       " 'label_bld_avg_age': {'MAE': (0.14568694749741287, 0.030522653503057422),\n",
       "  'R2': (0.3317893145325467, 0.1356886494547223),\n",
       "  'RMSE': (0.18401976387290234, 0.031417992354588364)},\n",
       " 'label_emp_rat_num': {'MAE': (0.13940889206067866, 0.015196325084643945),\n",
       "  'R2': (0.37288304815019935, 0.11374843052005178),\n",
       "  'RMSE': (0.17681984719722207, 0.019767953807788497)},\n",
       " 'label_LUM5_single': {'MAE': (0.17752238744606824, 0.022138469021401964),\n",
       "  'R2': (0.07465689234605613, 0.12332683716272068),\n",
       "  'RMSE': (0.22143547370014435, 0.02655929281900886)},\n",
       " 'label_RNR_nres': {'MAE': (0.20609541088656846, 0.021582967850984694),\n",
       "  'R2': (0.032516949552626385, 0.18610704240244247),\n",
       "  'RMSE': (0.25797237446677324, 0.025654713116135323)},\n",
       " 'label_mdist_smallparks': {'MAE': (0.16115186634317397, 0.023161150873229723),\n",
       "  'R2': (0.1379110920971364, 0.17233058972041346),\n",
       "  'RMSE': (0.20511056528134458, 0.025962703933874703)},\n",
       " 'label_nig_rat_daily': {'MAE': (0.15213516500281749, 0.02339608524899199),\n",
       "  'R2': (0.01585071559617226, 0.2180401668979207),\n",
       "  'RMSE': (0.199139344823572, 0.028274934874758573)},\n",
       " 'label_nig_rat_daily3': {'MAE': (0.09825705587393925, 0.016287883048935747),\n",
       "  'R2': (0.25501453115906203, 0.18620157115825145),\n",
       "  'RMSE': (0.17676718292425045, 0.022250117612905806)},\n",
       " 'label_mdist_nres_daily': {'MAE': (0.15700924840897307, 0.025260362864041725),\n",
       "  'R2': (0.3906129244142991, 0.1583569611289053),\n",
       "  'RMSE': (0.200070671651768, 0.028659808244122467)},\n",
       " 'label_num_community_places': {'MAE': (0.14580893207749307,\n",
       "   0.012202394323055228),\n",
       "  'R2': (0.42253805368363795, 0.12233461673860213),\n",
       "  'RMSE': (0.18913465834143353, 0.015136001787478195)},\n",
       " 'label_num_community_places_poi': {'MAE': (0.17962627471247622,\n",
       "   0.01704881984691951),\n",
       "  'R2': (-0.03630373134651095, 0.14098000139924458),\n",
       "  'RMSE': (0.22428323003417422, 0.02227333153131439)},\n",
       " 'label_avg_block_area': {'MAE': (0.16209086882129392, 0.020976083871487906),\n",
       "  'R2': (0.3044057372838732, 0.10527702046813056),\n",
       "  'RMSE': (0.2030058368765281, 0.027403302855627795)},\n",
       " 'label_sphi': {'MAE': (0.1689807140236586, 0.03176584789543404),\n",
       "  'R2': (0.17643230038208402, 0.15344510739204498),\n",
       "  'RMSE': (0.20754134451510034, 0.03664240892241647)},\n",
       " 'label_enterprises_empl_size': {'MAE': (0.20305219660639362,\n",
       "   0.016566626793873843),\n",
       "  'R2': (0.006307888615046331, 0.17307404651053007),\n",
       "  'RMSE': (0.25216808976320537, 0.019008931936791595)},\n",
       " 'label_pop_rat_num': {'MAE': (0.18145141099293724, 0.017261683290007133),\n",
       "  'R2': (0.31552247640085673, 0.11828064434316911),\n",
       "  'RMSE': (0.2251429575603309, 0.01919273088012778)},\n",
       " 'label_emp_rat_pop': {'MAE': (0.16991090992646626, 0.02314224633018266),\n",
       "  'R2': (0.040608094175155054, 0.1269716827189759),\n",
       "  'RMSE': (0.21325582247839306, 0.0257758126963663)},\n",
       " 'label_den_nres_daily': {'MAE': (0.16024724255807082, 0.017690941204702926),\n",
       "  'R2': (0.38658759586459956, 0.1302936117320489),\n",
       "  'RMSE': (0.20575909894983888, 0.018706407895582977)},\n",
       " 'label_mdist_parks': {'MAE': (0.19198015133229845, 0.02207213556730093),\n",
       "  'R2': (-0.04722286822484386, 0.04515025043955078),\n",
       "  'RMSE': (0.23811075199634776, 0.024029441321462872)},\n",
       " 'label_den_nres_non-daily': {'MAE': (0.1292956997118138,\n",
       "   0.009759994256453538),\n",
       "  'R2': (0.4528477266939276, 0.11598535396552802),\n",
       "  'RMSE': (0.17506513536041862, 0.014782502719768347)},\n",
       " 'label_mdist_railways': {'MAE': (0.18550963203784157, 0.03590958326438646),\n",
       "  'R2': (0.2358355161417788, 0.1024362424949682),\n",
       "  'RMSE': (0.23157386732847351, 0.03953276974860918)},\n",
       " 'label_mdist_highways': {'MAE': (0.19332843471615394, 0.018887850889027124),\n",
       "  'R2': (0.2170759460919019, 0.18210487142700837),\n",
       "  'RMSE': (0.24100103213165167, 0.022323180164484577)},\n",
       " 'label_mdist_water': {'MAE': (0.1950322346996001, 0.022468572584895145),\n",
       "  'R2': (0.0654813407488103, 0.14842399500106668),\n",
       "  'RMSE': (0.24089518105893695, 0.02188047902323328)},\n",
       " 'label_activity_density': {'MAE': (0.136544545116192, 0.016168049195507857),\n",
       "  'R2': (0.49455264968198226, 0.13941135387621903),\n",
       "  'RMSE': (0.17246784650284208, 0.017976239146148557)}}"
      ]
     },
     "execution_count": 111,
     "metadata": {},
     "output_type": "execute_result"
    }
   ],
   "source": [
    "kfold_SCORES"
   ]
  },
  {
   "cell_type": "code",
   "execution_count": null,
   "metadata": {},
   "outputs": [],
   "source": []
  },
  {
   "cell_type": "code",
   "execution_count": 112,
   "metadata": {},
   "outputs": [],
   "source": [
    "res = pd.DataFrame(kfold_SCORES2)"
   ]
  },
  {
   "cell_type": "code",
   "execution_count": 113,
   "metadata": {},
   "outputs": [
    {
     "data": {
      "text/html": [
       "<div>\n",
       "<style scoped>\n",
       "    .dataframe tbody tr th:only-of-type {\n",
       "        vertical-align: middle;\n",
       "    }\n",
       "\n",
       "    .dataframe tbody tr th {\n",
       "        vertical-align: top;\n",
       "    }\n",
       "\n",
       "    .dataframe thead th {\n",
       "        text-align: right;\n",
       "    }\n",
       "</style>\n",
       "<table border=\"1\" class=\"dataframe\">\n",
       "  <thead>\n",
       "    <tr style=\"text-align: right;\">\n",
       "      <th></th>\n",
       "      <th>label_hType_mix</th>\n",
       "      <th>label_num_intersect</th>\n",
       "      <th>label_bld_avg_age</th>\n",
       "      <th>label_emp_rat_num</th>\n",
       "      <th>label_LUM5_single</th>\n",
       "      <th>label_RNR_nres</th>\n",
       "      <th>label_mdist_smallparks</th>\n",
       "      <th>label_nig_rat_daily</th>\n",
       "      <th>label_nig_rat_daily3</th>\n",
       "      <th>label_mdist_nres_daily</th>\n",
       "      <th>...</th>\n",
       "      <th>label_enterprises_empl_size</th>\n",
       "      <th>label_pop_rat_num</th>\n",
       "      <th>label_emp_rat_pop</th>\n",
       "      <th>label_den_nres_daily</th>\n",
       "      <th>label_mdist_parks</th>\n",
       "      <th>label_den_nres_non-daily</th>\n",
       "      <th>label_mdist_railways</th>\n",
       "      <th>label_mdist_highways</th>\n",
       "      <th>label_mdist_water</th>\n",
       "      <th>label_activity_density</th>\n",
       "    </tr>\n",
       "  </thead>\n",
       "  <tbody>\n",
       "    <tr>\n",
       "      <th>R2</th>\n",
       "      <td>0.078251</td>\n",
       "      <td>0.345297</td>\n",
       "      <td>0.331789</td>\n",
       "      <td>0.372883</td>\n",
       "      <td>0.074657</td>\n",
       "      <td>0.032517</td>\n",
       "      <td>0.137911</td>\n",
       "      <td>0.015851</td>\n",
       "      <td>0.255015</td>\n",
       "      <td>0.390613</td>\n",
       "      <td>...</td>\n",
       "      <td>0.006308</td>\n",
       "      <td>0.315522</td>\n",
       "      <td>0.040608</td>\n",
       "      <td>0.386588</td>\n",
       "      <td>-0.047223</td>\n",
       "      <td>0.452848</td>\n",
       "      <td>0.235836</td>\n",
       "      <td>0.217076</td>\n",
       "      <td>0.065481</td>\n",
       "      <td>0.494553</td>\n",
       "    </tr>\n",
       "    <tr>\n",
       "      <th>RMSE</th>\n",
       "      <td>0.216560</td>\n",
       "      <td>0.212625</td>\n",
       "      <td>0.184020</td>\n",
       "      <td>0.176820</td>\n",
       "      <td>0.221435</td>\n",
       "      <td>0.257972</td>\n",
       "      <td>0.205111</td>\n",
       "      <td>0.199139</td>\n",
       "      <td>0.176767</td>\n",
       "      <td>0.200071</td>\n",
       "      <td>...</td>\n",
       "      <td>0.252168</td>\n",
       "      <td>0.225143</td>\n",
       "      <td>0.213256</td>\n",
       "      <td>0.205759</td>\n",
       "      <td>0.238111</td>\n",
       "      <td>0.175065</td>\n",
       "      <td>0.231574</td>\n",
       "      <td>0.241001</td>\n",
       "      <td>0.240895</td>\n",
       "      <td>0.172468</td>\n",
       "    </tr>\n",
       "  </tbody>\n",
       "</table>\n",
       "<p>2 rows × 24 columns</p>\n",
       "</div>"
      ],
      "text/plain": [
       "      label_hType_mix  label_num_intersect  label_bld_avg_age  \\\n",
       "R2           0.078251             0.345297           0.331789   \n",
       "RMSE         0.216560             0.212625           0.184020   \n",
       "\n",
       "      label_emp_rat_num  label_LUM5_single  label_RNR_nres  \\\n",
       "R2             0.372883           0.074657        0.032517   \n",
       "RMSE           0.176820           0.221435        0.257972   \n",
       "\n",
       "      label_mdist_smallparks  label_nig_rat_daily  label_nig_rat_daily3  \\\n",
       "R2                  0.137911             0.015851              0.255015   \n",
       "RMSE                0.205111             0.199139              0.176767   \n",
       "\n",
       "      label_mdist_nres_daily  ...  label_enterprises_empl_size  \\\n",
       "R2                  0.390613  ...                     0.006308   \n",
       "RMSE                0.200071  ...                     0.252168   \n",
       "\n",
       "      label_pop_rat_num  label_emp_rat_pop  label_den_nres_daily  \\\n",
       "R2             0.315522           0.040608              0.386588   \n",
       "RMSE           0.225143           0.213256              0.205759   \n",
       "\n",
       "      label_mdist_parks  label_den_nres_non-daily  label_mdist_railways  \\\n",
       "R2            -0.047223                  0.452848              0.235836   \n",
       "RMSE           0.238111                  0.175065              0.231574   \n",
       "\n",
       "      label_mdist_highways  label_mdist_water  label_activity_density  \n",
       "R2                0.217076           0.065481                0.494553  \n",
       "RMSE              0.241001           0.240895                0.172468  \n",
       "\n",
       "[2 rows x 24 columns]"
      ]
     },
     "execution_count": 113,
     "metadata": {},
     "output_type": "execute_result"
    }
   ],
   "source": [
    "res"
   ]
  },
  {
   "cell_type": "code",
   "execution_count": null,
   "metadata": {},
   "outputs": [],
   "source": []
  },
  {
   "cell_type": "code",
   "execution_count": null,
   "metadata": {},
   "outputs": [],
   "source": []
  },
  {
   "cell_type": "code",
   "execution_count": null,
   "metadata": {},
   "outputs": [],
   "source": []
  },
  {
   "cell_type": "code",
   "execution_count": 116,
   "metadata": {},
   "outputs": [
    {
     "name": "stdout",
     "output_type": "stream",
     "text": [
      "label_hType_mix\n",
      "0.9487700500007821\n",
      "label_num_intersect\n",
      "0.9473266446861077\n",
      "label_bld_avg_age\n",
      "0.954876288982297\n",
      "label_emp_rat_num\n",
      "0.9548015353346029\n",
      "label_LUM5_single\n",
      "0.9511053440749179\n",
      "label_RNR_nres\n",
      "0.9268265419930063\n",
      "label_mdist_smallparks\n",
      "0.9390535822034097\n",
      "label_nig_rat_daily\n",
      "0.9507069076087643\n",
      "label_nig_rat_daily3\n",
      "0.9801373638249734\n",
      "label_mdist_nres_daily\n",
      "0.9554530881187406\n",
      "label_num_community_places\n",
      "0.9689972047144527\n",
      "label_num_community_places_poi\n",
      "0.9193001126943625\n",
      "label_avg_block_area\n",
      "0.9555608453198436\n",
      "label_sphi\n",
      "0.940142834777484\n",
      "label_enterprises_empl_size\n",
      "0.9355753722003464\n",
      "label_pop_rat_num\n",
      "0.9436667573561243\n",
      "label_emp_rat_pop\n",
      "0.9435869996129436\n",
      "label_den_nres_daily\n",
      "0.9665156675764326\n",
      "label_mdist_parks\n",
      "0.8841542397805993\n",
      "label_den_nres_non-daily\n",
      "0.9682335179139471\n",
      "label_mdist_railways\n",
      "0.9430093434924365\n",
      "label_mdist_highways\n",
      "0.9512884165026639\n",
      "label_mdist_water\n",
      "0.9021339888916419\n",
      "label_activity_density\n",
      "0.9667860593453459\n"
     ]
    }
   ],
   "source": [
    "for col in label_columns:\n",
    "    label = \"label_\" + col\n",
    "    print (label)\n",
    "    predict_label_i(label)"
   ]
  },
  {
   "cell_type": "code",
   "execution_count": null,
   "metadata": {},
   "outputs": [],
   "source": []
  },
  {
   "cell_type": "code",
   "execution_count": null,
   "metadata": {},
   "outputs": [],
   "source": []
  },
  {
   "cell_type": "code",
   "execution_count": 14,
   "metadata": {},
   "outputs": [],
   "source": [
    "if standardize_features:\n",
    "    out_name = '../../results/XGBoost/ALL_XGBoost' +str(PCA_components)\\\n",
    "            + '_' + network_type + '_' + USE_GEO + '_standardized7s.csv'\n",
    "else:\n",
    "    out_name = '../../results/XGBoost/ALL_XGBoost' +str(PCA_components)\\\n",
    "       + '_' + network_type + '_' + USE_GEO +   '7s.csv'\n",
    "res.to_csv(out_name, float_format='%.3f')"
   ]
  },
  {
   "cell_type": "code",
   "execution_count": null,
   "metadata": {},
   "outputs": [],
   "source": []
  },
  {
   "cell_type": "code",
   "execution_count": 15,
   "metadata": {},
   "outputs": [],
   "source": [
    "res_dir = '../../results/XGBoost/ALL_' + network_type + '_' + USE_GEO +\"_\" + str(PCA_components)\n",
    "Path(res_dir).mkdir(parents=True, exist_ok=True)"
   ]
  },
  {
   "cell_type": "code",
   "execution_count": null,
   "metadata": {},
   "outputs": [],
   "source": []
  },
  {
   "cell_type": "code",
   "execution_count": 16,
   "metadata": {},
   "outputs": [],
   "source": [
    "land_use_cols = [\"label_\"+l for l in land_use]\n",
    "res_land_use = res[land_use_cols]"
   ]
  },
  {
   "cell_type": "code",
   "execution_count": 17,
   "metadata": {},
   "outputs": [],
   "source": [
    "small_blocks_cols = [\"label_\"+l for l in small_blocks]\n",
    "res_small_blocks = res[small_blocks_cols]"
   ]
  },
  {
   "cell_type": "code",
   "execution_count": 18,
   "metadata": {},
   "outputs": [],
   "source": [
    "age_buildings_cols = [\"label_\"+l for l in age_buildings]\n",
    "res_age_buildings = res[age_buildings_cols]"
   ]
  },
  {
   "cell_type": "code",
   "execution_count": 19,
   "metadata": {},
   "outputs": [],
   "source": [
    "concentration_cols = [\"label_\"+l for l in concentration]\n",
    "res_concentration = res[concentration_cols]"
   ]
  },
  {
   "cell_type": "code",
   "execution_count": 20,
   "metadata": {},
   "outputs": [],
   "source": [
    "vacuums_cols = [\"label_\"+l for l in vacuums]\n",
    "res_vacuums = res[vacuums_cols]"
   ]
  },
  {
   "cell_type": "code",
   "execution_count": null,
   "metadata": {},
   "outputs": [],
   "source": []
  },
  {
   "cell_type": "code",
   "execution_count": 21,
   "metadata": {
    "scrolled": true
   },
   "outputs": [],
   "source": [
    "for out_cat_name in [\"land_use\", \"small_blocks\", \\\n",
    "                     \"age_buildings\", \"concentration\",\n",
    "                    \"vacuums\"]:\n",
    "    eval(\"res_\" + out_cat_name).to_csv(res_dir + \"/res_\" + out_cat_name+\\\n",
    "                                       \".csv\", float_format='%.3f')"
   ]
  },
  {
   "cell_type": "code",
   "execution_count": null,
   "metadata": {},
   "outputs": [],
   "source": []
  },
  {
   "cell_type": "code",
   "execution_count": null,
   "metadata": {},
   "outputs": [],
   "source": []
  },
  {
   "cell_type": "code",
   "execution_count": null,
   "metadata": {},
   "outputs": [],
   "source": []
  },
  {
   "cell_type": "code",
   "execution_count": null,
   "metadata": {},
   "outputs": [],
   "source": []
  },
  {
   "cell_type": "code",
   "execution_count": null,
   "metadata": {},
   "outputs": [],
   "source": []
  }
 ],
 "metadata": {
  "kernelspec": {
   "display_name": "Python 3",
   "language": "python",
   "name": "python3"
  },
  "language_info": {
   "codemirror_mode": {
    "name": "ipython",
    "version": 3
   },
   "file_extension": ".py",
   "mimetype": "text/x-python",
   "name": "python",
   "nbconvert_exporter": "python",
   "pygments_lexer": "ipython3",
   "version": "3.7.6"
  }
 },
 "nbformat": 4,
 "nbformat_minor": 2
}
