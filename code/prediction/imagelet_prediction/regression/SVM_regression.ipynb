{
 "cells": [
  {
   "cell_type": "code",
   "execution_count": 4,
   "metadata": {},
   "outputs": [],
   "source": [
    "import pandas as pd\n",
    "import numpy as np\n",
    "from sklearn.svm import SVR\n",
    "from imblearn.under_sampling import RandomUnderSampler\n",
    "from sklearn.model_selection import KFold\n",
    "import matplotlib.pyplot as plt"
   ]
  },
  {
   "cell_type": "code",
   "execution_count": 5,
   "metadata": {},
   "outputs": [],
   "source": [
    "CITY = \"milano\"\n",
    "data_dir = \"../../preprocessed/\" \n",
    "features_dir = data_dir + \"features/\" + CITY + \"/\"\n",
    "labels_dir = data_dir + \"labels/\" + CITY + \"/\"\n",
    "\n",
    "\n",
    "PCA_components = 32\n",
    "\n",
    "standardize_features = True\n",
    "\n",
    "feature_size = 2048\n",
    "\n",
    "network_type='VGG'"
   ]
  },
  {
   "cell_type": "code",
   "execution_count": 6,
   "metadata": {},
   "outputs": [],
   "source": [
    "label_columns = [\"hType_mix\", \"num_intersect\", \"bld_avg_age\", \"emp_rat_num\",\\\n",
    "\t\t\t\t\"LUM5_single\",\t\"RNR_nres\", \"mdist_smallparks\", \"nig_rat_daily\",\\\n",
    "\t\t\t\t\"nig_rat_daily3\", \"mdist_nres_daily\", \"num_community_places\", \\\n",
    "\t\t\t\t\"num_community_places_poi\", \"avg_block_area\", \"sphi\", \\\n",
    "\t\t\t\t\"enterprises_empl_size\", \"pop_rat_num\",  \\\n",
    "\t\t\t\t\"emp_rat_pop\", \"bld_rat_area\", \"den_nres_daily\",\\\n",
    "\t\t\t\t\"mdist_parks\", \"den_nres_non-daily\", \"mdist_railways\",\\\n",
    "\t\t\t\t\"mdist_highways\", \"mdist_water\"]"
   ]
  },
  {
   "cell_type": "code",
   "execution_count": 7,
   "metadata": {},
   "outputs": [],
   "source": [
    "def get_normalized_labels_features(network_type='VGG'):\n",
    "    if network_type == 'ResnNet':\n",
    "        return pd.read_csv(features_dir + \"Resnet50/df_ResNet50_feat8192_pca\"+\\\n",
    "            str(PCA_components) +\"_labels_features.csv\")\n",
    "    else:\n",
    "        return pd.read_csv(features_dir+\"VGG16/df_VGG16_feat2048_pca\"+\\\n",
    "                           str(PCA_components) + \"_labels_features.csv\")"
   ]
  },
  {
   "cell_type": "code",
   "execution_count": 8,
   "metadata": {},
   "outputs": [],
   "source": [
    "data = get_normalized_labels_features()"
   ]
  },
  {
   "cell_type": "code",
   "execution_count": 9,
   "metadata": {},
   "outputs": [
    {
     "data": {
      "text/html": [
       "<div>\n",
       "<style scoped>\n",
       "    .dataframe tbody tr th:only-of-type {\n",
       "        vertical-align: middle;\n",
       "    }\n",
       "\n",
       "    .dataframe tbody tr th {\n",
       "        vertical-align: top;\n",
       "    }\n",
       "\n",
       "    .dataframe thead th {\n",
       "        text-align: right;\n",
       "    }\n",
       "</style>\n",
       "<table border=\"1\" class=\"dataframe\">\n",
       "  <thead>\n",
       "    <tr style=\"text-align: right;\">\n",
       "      <th></th>\n",
       "      <th>index</th>\n",
       "      <th>imageName</th>\n",
       "      <th>PCA0</th>\n",
       "      <th>PCA1</th>\n",
       "      <th>PCA2</th>\n",
       "      <th>PCA3</th>\n",
       "      <th>PCA4</th>\n",
       "      <th>PCA5</th>\n",
       "      <th>PCA6</th>\n",
       "      <th>PCA7</th>\n",
       "      <th>...</th>\n",
       "      <th>label_pop_rat_num</th>\n",
       "      <th>label_emp_rat_num</th>\n",
       "      <th>label_emp_rat_pop</th>\n",
       "      <th>label_bld_rat_area</th>\n",
       "      <th>label_den_nres_daily</th>\n",
       "      <th>label_mdist_parks</th>\n",
       "      <th>label_den_nres_non-daily</th>\n",
       "      <th>label_mdist_railways</th>\n",
       "      <th>label_mdist_highways</th>\n",
       "      <th>label_mdist_water</th>\n",
       "    </tr>\n",
       "  </thead>\n",
       "  <tbody>\n",
       "    <tr>\n",
       "      <th>0</th>\n",
       "      <td>0</td>\n",
       "      <td>S2B_MSIL2A_20181024T102059_N0209_R065_T32TNR_2...</td>\n",
       "      <td>-0.513386</td>\n",
       "      <td>-0.352732</td>\n",
       "      <td>0.716721</td>\n",
       "      <td>0.755410</td>\n",
       "      <td>0.647604</td>\n",
       "      <td>-0.517665</td>\n",
       "      <td>0.458571</td>\n",
       "      <td>1.024984</td>\n",
       "      <td>...</td>\n",
       "      <td>1.0</td>\n",
       "      <td>0.0</td>\n",
       "      <td>2.0</td>\n",
       "      <td>1.0</td>\n",
       "      <td>1.0</td>\n",
       "      <td>2.0</td>\n",
       "      <td>1.0</td>\n",
       "      <td>2.0</td>\n",
       "      <td>2.0</td>\n",
       "      <td>0.0</td>\n",
       "    </tr>\n",
       "    <tr>\n",
       "      <th>1</th>\n",
       "      <td>1</td>\n",
       "      <td>S2B_MSIL2A_20181024T102059_N0209_R065_T32TNR_2...</td>\n",
       "      <td>-0.773019</td>\n",
       "      <td>-0.161784</td>\n",
       "      <td>-0.752245</td>\n",
       "      <td>-0.568582</td>\n",
       "      <td>-0.140501</td>\n",
       "      <td>0.249631</td>\n",
       "      <td>-0.200838</td>\n",
       "      <td>-0.406981</td>\n",
       "      <td>...</td>\n",
       "      <td>1.0</td>\n",
       "      <td>2.0</td>\n",
       "      <td>0.0</td>\n",
       "      <td>2.0</td>\n",
       "      <td>1.0</td>\n",
       "      <td>1.0</td>\n",
       "      <td>1.0</td>\n",
       "      <td>1.0</td>\n",
       "      <td>2.0</td>\n",
       "      <td>0.0</td>\n",
       "    </tr>\n",
       "    <tr>\n",
       "      <th>2</th>\n",
       "      <td>2</td>\n",
       "      <td>S2B_MSIL2A_20181024T102059_N0209_R065_T32TNR_2...</td>\n",
       "      <td>-0.305169</td>\n",
       "      <td>0.001131</td>\n",
       "      <td>0.561944</td>\n",
       "      <td>2.024687</td>\n",
       "      <td>0.274702</td>\n",
       "      <td>0.433355</td>\n",
       "      <td>-0.114322</td>\n",
       "      <td>-0.317631</td>\n",
       "      <td>...</td>\n",
       "      <td>0.0</td>\n",
       "      <td>0.0</td>\n",
       "      <td>2.0</td>\n",
       "      <td>0.0</td>\n",
       "      <td>0.0</td>\n",
       "      <td>2.0</td>\n",
       "      <td>1.0</td>\n",
       "      <td>1.0</td>\n",
       "      <td>2.0</td>\n",
       "      <td>1.0</td>\n",
       "    </tr>\n",
       "    <tr>\n",
       "      <th>3</th>\n",
       "      <td>3</td>\n",
       "      <td>S2B_MSIL2A_20181024T102059_N0209_R065_T32TNR_2...</td>\n",
       "      <td>-0.011016</td>\n",
       "      <td>-0.778505</td>\n",
       "      <td>1.975514</td>\n",
       "      <td>-1.786100</td>\n",
       "      <td>-0.994235</td>\n",
       "      <td>1.492313</td>\n",
       "      <td>-0.930522</td>\n",
       "      <td>1.202427</td>\n",
       "      <td>...</td>\n",
       "      <td>1.0</td>\n",
       "      <td>0.0</td>\n",
       "      <td>2.0</td>\n",
       "      <td>1.0</td>\n",
       "      <td>1.0</td>\n",
       "      <td>2.0</td>\n",
       "      <td>1.0</td>\n",
       "      <td>2.0</td>\n",
       "      <td>2.0</td>\n",
       "      <td>0.0</td>\n",
       "    </tr>\n",
       "    <tr>\n",
       "      <th>4</th>\n",
       "      <td>4</td>\n",
       "      <td>S2B_MSIL2A_20181024T102059_N0209_R065_T32TNR_2...</td>\n",
       "      <td>0.414278</td>\n",
       "      <td>-0.994471</td>\n",
       "      <td>1.943810</td>\n",
       "      <td>-0.590098</td>\n",
       "      <td>-0.266740</td>\n",
       "      <td>0.700525</td>\n",
       "      <td>1.007925</td>\n",
       "      <td>-0.608827</td>\n",
       "      <td>...</td>\n",
       "      <td>0.0</td>\n",
       "      <td>1.0</td>\n",
       "      <td>1.0</td>\n",
       "      <td>1.0</td>\n",
       "      <td>1.0</td>\n",
       "      <td>1.0</td>\n",
       "      <td>0.0</td>\n",
       "      <td>2.0</td>\n",
       "      <td>1.0</td>\n",
       "      <td>0.0</td>\n",
       "    </tr>\n",
       "  </tbody>\n",
       "</table>\n",
       "<p>5 rows × 58 columns</p>\n",
       "</div>"
      ],
      "text/plain": [
       "   index                                          imageName      PCA0  \\\n",
       "0      0  S2B_MSIL2A_20181024T102059_N0209_R065_T32TNR_2... -0.513386   \n",
       "1      1  S2B_MSIL2A_20181024T102059_N0209_R065_T32TNR_2... -0.773019   \n",
       "2      2  S2B_MSIL2A_20181024T102059_N0209_R065_T32TNR_2... -0.305169   \n",
       "3      3  S2B_MSIL2A_20181024T102059_N0209_R065_T32TNR_2... -0.011016   \n",
       "4      4  S2B_MSIL2A_20181024T102059_N0209_R065_T32TNR_2...  0.414278   \n",
       "\n",
       "       PCA1      PCA2      PCA3      PCA4      PCA5      PCA6      PCA7  ...  \\\n",
       "0 -0.352732  0.716721  0.755410  0.647604 -0.517665  0.458571  1.024984  ...   \n",
       "1 -0.161784 -0.752245 -0.568582 -0.140501  0.249631 -0.200838 -0.406981  ...   \n",
       "2  0.001131  0.561944  2.024687  0.274702  0.433355 -0.114322 -0.317631  ...   \n",
       "3 -0.778505  1.975514 -1.786100 -0.994235  1.492313 -0.930522  1.202427  ...   \n",
       "4 -0.994471  1.943810 -0.590098 -0.266740  0.700525  1.007925 -0.608827  ...   \n",
       "\n",
       "   label_pop_rat_num  label_emp_rat_num  label_emp_rat_pop  \\\n",
       "0                1.0                0.0                2.0   \n",
       "1                1.0                2.0                0.0   \n",
       "2                0.0                0.0                2.0   \n",
       "3                1.0                0.0                2.0   \n",
       "4                0.0                1.0                1.0   \n",
       "\n",
       "   label_bld_rat_area  label_den_nres_daily  label_mdist_parks  \\\n",
       "0                 1.0                   1.0                2.0   \n",
       "1                 2.0                   1.0                1.0   \n",
       "2                 0.0                   0.0                2.0   \n",
       "3                 1.0                   1.0                2.0   \n",
       "4                 1.0                   1.0                1.0   \n",
       "\n",
       "   label_den_nres_non-daily  label_mdist_railways  label_mdist_highways  \\\n",
       "0                       1.0                   2.0                   2.0   \n",
       "1                       1.0                   1.0                   2.0   \n",
       "2                       1.0                   1.0                   2.0   \n",
       "3                       1.0                   2.0                   2.0   \n",
       "4                       0.0                   2.0                   1.0   \n",
       "\n",
       "   label_mdist_water  \n",
       "0                0.0  \n",
       "1                0.0  \n",
       "2                1.0  \n",
       "3                0.0  \n",
       "4                0.0  \n",
       "\n",
       "[5 rows x 58 columns]"
      ]
     },
     "execution_count": 9,
     "metadata": {},
     "output_type": "execute_result"
    }
   ],
   "source": [
    "data.head()"
   ]
  },
  {
   "cell_type": "code",
   "execution_count": null,
   "metadata": {},
   "outputs": [],
   "source": []
  },
  {
   "cell_type": "code",
   "execution_count": null,
   "metadata": {},
   "outputs": [],
   "source": []
  },
  {
   "cell_type": "code",
   "execution_count": null,
   "metadata": {},
   "outputs": [],
   "source": []
  },
  {
   "cell_type": "code",
   "execution_count": null,
   "metadata": {},
   "outputs": [],
   "source": []
  },
  {
   "cell_type": "code",
   "execution_count": null,
   "metadata": {
    "scrolled": false
   },
   "outputs": [],
   "source": []
  },
  {
   "cell_type": "code",
   "execution_count": null,
   "metadata": {},
   "outputs": [],
   "source": []
  },
  {
   "cell_type": "code",
   "execution_count": null,
   "metadata": {},
   "outputs": [],
   "source": []
  },
  {
   "cell_type": "code",
   "execution_count": 12,
   "metadata": {},
   "outputs": [],
   "source": [
    "def predict_label_i(label=\"label_hType_mix\"):\n",
    "    \n",
    "    data2 = data.copy()\n",
    "    data2 = data2[data2[label] != 1 ]\n",
    "    \n",
    "    target = data2[[\"imageName\", label]]\n",
    "    features = data2[[c for c in data.columns if \"PCA\" in c]]\n",
    "    \n",
    "    X_orig = features.values\n",
    "    y_orig = target[label].values\n",
    "    \n",
    "    high = target[target[label] == 2]\n",
    "    low = target[target[label] == 0]\n",
    "    \n",
    "    rus = RandomUnderSampler(random_state=0)\n",
    "    X, y = rus.fit_sample(X_orig, y_orig)\n",
    "    \n",
    "    high = target[target[label] == 2]\n",
    "    low = target[target[label] == 0]\n",
    "    \n",
    "    clf = SVR(C=1.0, epsilon=0.2, gamma='auto')\n",
    "    clf.fit(X, y)\n",
    "    \n",
    "#     # #############################################################################\n",
    "#     # Fit regression model\n",
    "#     svr_rbf = SVR(kernel='rbf', C=100, gamma=0.1, epsilon=.1)\n",
    "#     svr_lin = SVR(kernel='linear', C=100, gamma='auto')\n",
    "#     svr_poly = SVR(kernel='poly', C=100, gamma='auto', degree=3, epsilon=.1,\n",
    "#                coef0=1)    \n",
    "    \n",
    "    \n",
    "#    # #############################################################################\n",
    "#     # Look at the results\n",
    "#     lw = 2\n",
    "\n",
    "#     svrs = [svr_rbf, svr_lin, svr_poly]\n",
    "#     kernel_label = ['RBF', 'Linear', 'Polynomial']\n",
    "#     model_color = ['m', 'c', 'g']\n",
    "\n",
    "#     fig, axes = plt.subplots(nrows=1, ncols=3, figsize=(15, 10), sharey=True)\n",
    "#     for ix, svr in enumerate(svrs):\n",
    "# #         axes[ix].plot(X, svr.fit(X, y).predict(X), color=model_color[ix], lw=lw,\n",
    "# #                       label='{} model'.format(kernel_label[ix]))\n",
    "#         axes[ix].scatter(X[svr.support_], y[svr.support_], facecolor=\"none\",\n",
    "#                          edgecolor=model_color[ix], s=50,\n",
    "#                          label='{} support vectors'.format(kernel_label[ix]))\n",
    "#         axes[ix].scatter(X[np.setdiff1d(np.arange(len(X)), svr.support_)],\n",
    "#                          y[np.setdiff1d(np.arange(len(X)), svr.support_)],\n",
    "#                          facecolor=\"none\", edgecolor=\"k\", s=50,\n",
    "#                          label='other training data')\n",
    "#         axes[ix].legend(loc='upper center', bbox_to_anchor=(0.5, 1.1),\n",
    "#                         ncol=1, fancybox=True, shadow=True)\n",
    "\n",
    "#     fig.text(0.5, 0.04, 'data', ha='center', va='center')\n",
    "#     fig.text(0.06, 0.5, 'target', ha='center', va='center', rotation='vertical')\n",
    "#     fig.suptitle(\"Support Vector Regression\", fontsize=14)\n",
    "#     plt.show()\n",
    "    print(clf.score(X, y), \"Low\", len(low), \"High\", len(high), \"NOW\", len(X)/2)"
   ]
  },
  {
   "cell_type": "code",
   "execution_count": 13,
   "metadata": {
    "scrolled": false
   },
   "outputs": [
    {
     "name": "stdout",
     "output_type": "stream",
     "text": [
      "0.817631975948936 Low 71 High 152 NOW 71.0\n"
     ]
    }
   ],
   "source": [
    "predict_label_i()"
   ]
  },
  {
   "cell_type": "code",
   "execution_count": null,
   "metadata": {},
   "outputs": [],
   "source": []
  },
  {
   "cell_type": "code",
   "execution_count": null,
   "metadata": {},
   "outputs": [],
   "source": []
  },
  {
   "cell_type": "code",
   "execution_count": 14,
   "metadata": {
    "scrolled": false
   },
   "outputs": [
    {
     "name": "stdout",
     "output_type": "stream",
     "text": [
      "label_hType_mix\n",
      "0.817631975948936 Low 71 High 152 NOW 71.0\n",
      "label_num_intersect\n",
      "0.8464004021190692 Low 181 High 65 NOW 65.0\n",
      "label_bld_avg_age\n",
      "0.8326679684302902 Low 160 High 71 NOW 71.0\n",
      "label_emp_rat_num\n",
      "0.8831638617986238 Low 161 High 70 NOW 70.0\n",
      "label_LUM5_single\n",
      "0.9012458874206342 Low 61 High 165 NOW 61.0\n",
      "label_RNR_nres\n",
      "0.8104157333581896 Low 67 High 141 NOW 67.0\n",
      "label_mdist_smallparks\n",
      "0.7673176345086301 Low 132 High 87 NOW 87.0\n",
      "label_nig_rat_daily\n",
      "0.7382980425323371 Low 110 High 114 NOW 110.0\n",
      "label_nig_rat_daily3\n",
      "0.8790682902002809 Low 167 High 70 NOW 70.0\n",
      "label_mdist_nres_daily\n",
      "0.8711955592226016 Low 174 High 60 NOW 60.0\n",
      "label_num_community_places\n",
      "0.8891057342311814 Low 177 High 61 NOW 61.0\n",
      "label_num_community_places_poi\n",
      "0.8202127173738001 Low 142 High 67 NOW 67.0\n",
      "label_avg_block_area\n",
      "0.8438525839987778 Low 74 High 171 NOW 74.0\n",
      "label_sphi\n",
      "0.7799324503195302 Low 137 High 91 NOW 91.0\n",
      "label_enterprises_empl_size\n",
      "0.8013514768157167 Low 85 High 158 NOW 85.0\n",
      "label_pop_rat_num\n",
      "0.9212906969690687 Low 181 High 45 NOW 45.0\n",
      "label_emp_rat_pop\n",
      "0.790321545100761 Low 128 High 99 NOW 99.0\n",
      "label_bld_rat_area\n",
      "0.9077932140803678 Low 177 High 66 NOW 66.0\n",
      "label_den_nres_daily\n",
      "0.8936888058000313 Low 177 High 60 NOW 60.0\n",
      "label_mdist_parks\n",
      "0.7991339925083609 Low 85 High 119 NOW 85.0\n",
      "label_den_nres_non-daily\n",
      "0.8859964515060612 Low 176 High 65 NOW 65.0\n",
      "label_mdist_railways\n",
      "0.783088037710777 Low 136 High 92 NOW 92.0\n",
      "label_mdist_highways\n",
      "0.8447180931761437 Low 81 High 136 NOW 81.0\n",
      "label_mdist_water\n",
      "0.8084414228436192 Low 109 High 121 NOW 109.0\n"
     ]
    }
   ],
   "source": [
    "for col in label_columns:\n",
    "    label = \"label_\" + col\n",
    "    print (label)\n",
    "    predict_label_i(label)"
   ]
  },
  {
   "cell_type": "code",
   "execution_count": null,
   "metadata": {},
   "outputs": [],
   "source": []
  },
  {
   "cell_type": "code",
   "execution_count": null,
   "metadata": {},
   "outputs": [],
   "source": []
  },
  {
   "cell_type": "code",
   "execution_count": null,
   "metadata": {},
   "outputs": [],
   "source": []
  },
  {
   "cell_type": "code",
   "execution_count": 15,
   "metadata": {},
   "outputs": [],
   "source": [
    "def predict_label_i_KFold(label=\"label_hType_mix\"):\n",
    "    \n",
    "    kf = KFold(n_splits=3)\n",
    "    \n",
    "    \n",
    "    data2 = data.copy()\n",
    "    data2 = data2[data2[label] != 1 ]\n",
    "    \n",
    "    target = data2[[\"imageName\", label]]\n",
    "    features = data2[[c for c in data.columns if \"PCA\" in c]]\n",
    "    \n",
    "    X = features.values\n",
    "    y = target[label].values\n",
    "    \n",
    "    rus = RandomUnderSampler(random_state=0)\n",
    "    X_resampled, y_resampled = rus.fit_sample(X, y)\n",
    "    \n",
    "    res = []\n",
    "    \n",
    "    kf.get_n_splits(X_resampled)\n",
    "    for train_index, test_index in kf.split(X_resampled):\n",
    "        \n",
    "        X_train, X_test = X_resampled[train_index], X_resampled[test_index]\n",
    "        y_train, y_test = y_resampled[train_index], y_resampled[test_index]\n",
    "    \n",
    "#         clf = SVR(C=1.0, epsilon=0.2, gamma='scale')\n",
    "#         clf = SVR(kernel='rbf', C=100, gamma=0.1, epsilon=.1)\n",
    "        clf = SVR(kernel='linear', C=100, gamma='auto')\n",
    "#         clf = SVR(kernel='poly', C=100, gamma='auto', degree=3, epsilon=.1,coef0=1)   \n",
    "        clf.fit(X_train, y_train)\n",
    "        res.append(clf.score(X_test, y_test))\n",
    "    return np.mean(res), np.std(res)"
   ]
  },
  {
   "cell_type": "code",
   "execution_count": 16,
   "metadata": {},
   "outputs": [
    {
     "data": {
      "text/plain": [
       "(-0.025634734069751437, 0.03625298858927013)"
      ]
     },
     "execution_count": 16,
     "metadata": {},
     "output_type": "execute_result"
    }
   ],
   "source": [
    "predict_label_i_KFold(label=\"label_hType_mix\")"
   ]
  },
  {
   "cell_type": "code",
   "execution_count": 17,
   "metadata": {
    "scrolled": false
   },
   "outputs": [],
   "source": [
    "kfold_SCORES = {}\n",
    "for col in label_columns:\n",
    "    label = \"label_\" + col\n",
    "    kfold_SCORES[label] = predict_label_i_KFold(label)"
   ]
  },
  {
   "cell_type": "code",
   "execution_count": 18,
   "metadata": {
    "scrolled": false
   },
   "outputs": [
    {
     "data": {
      "text/plain": [
       "{'label_hType_mix': (-0.025634734069751437, 0.03625298858927013),\n",
       " 'label_num_intersect': (0.07185375255245226, 0.1016165513670784),\n",
       " 'label_bld_avg_age': (-0.15473675756376037, 0.21883082114430755),\n",
       " 'label_emp_rat_num': (-0.0013555356279404407, 0.001917016869313301),\n",
       " 'label_LUM5_single': (0.033737681495739816, 0.04771228673429906),\n",
       " 'label_RNR_nres': (-0.20353805558445207, 0.287846278666581),\n",
       " 'label_mdist_smallparks': (-0.287939430897892, 0.40720784831778944),\n",
       " 'label_nig_rat_daily': (-0.2519908489984252, 0.35636887624748353),\n",
       " 'label_nig_rat_daily3': (-0.09793975496522285, 0.13850772976731585),\n",
       " 'label_mdist_nres_daily': (-0.042474775744693126, 0.06006840391690079),\n",
       " 'label_num_community_places': (-0.025101234603690736, 0.03549850640884828),\n",
       " 'label_num_community_places_poi': (-0.17054393694873435, 0.2411855486134021),\n",
       " 'label_avg_block_area': (-0.05562742165727964, 0.07866905414757171),\n",
       " 'label_sphi': (-0.4203600358676726, 0.5944788638037033),\n",
       " 'label_enterprises_empl_size': (-0.1436639285524756, 0.20317147618271034),\n",
       " 'label_pop_rat_num': (-0.14325096791053457, 0.202587461642151),\n",
       " 'label_emp_rat_pop': (-0.40401843911890695, 0.5713683560507667),\n",
       " 'label_bld_rat_area': (-0.002301361500308463, 0.003254616645659522),\n",
       " 'label_den_nres_daily': (0.02712137907999938, 0.038355422125197054),\n",
       " 'label_mdist_parks': (-0.22885185907853844, 0.3236454028831654),\n",
       " 'label_den_nres_non-daily': (0.10065429744453418, 0.1423466725571958),\n",
       " 'label_mdist_railways': (-0.14890557725007744, 0.2105842868600541),\n",
       " 'label_mdist_highways': (-0.07253862343933133, 0.10258510506377727),\n",
       " 'label_mdist_water': (-0.05838906782915765, 0.08257461161831732)}"
      ]
     },
     "execution_count": 18,
     "metadata": {},
     "output_type": "execute_result"
    }
   ],
   "source": [
    "kfold_SCORES"
   ]
  },
  {
   "cell_type": "code",
   "execution_count": null,
   "metadata": {},
   "outputs": [],
   "source": []
  },
  {
   "cell_type": "code",
   "execution_count": null,
   "metadata": {},
   "outputs": [],
   "source": []
  },
  {
   "cell_type": "code",
   "execution_count": null,
   "metadata": {},
   "outputs": [],
   "source": []
  }
 ],
 "metadata": {
  "kernelspec": {
   "display_name": "Python 3",
   "language": "python",
   "name": "python3"
  },
  "language_info": {
   "codemirror_mode": {
    "name": "ipython",
    "version": 3
   },
   "file_extension": ".py",
   "mimetype": "text/x-python",
   "name": "python",
   "nbconvert_exporter": "python",
   "pygments_lexer": "ipython3",
   "version": "3.7.2"
  }
 },
 "nbformat": 4,
 "nbformat_minor": 2
}
