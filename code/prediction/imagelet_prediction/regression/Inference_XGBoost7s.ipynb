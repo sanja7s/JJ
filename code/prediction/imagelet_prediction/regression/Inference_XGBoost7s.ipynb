{
 "cells": [
  {
   "cell_type": "markdown",
   "metadata": {},
   "source": [
    "# Inference XGBoost Regression from ALL"
   ]
  },
  {
   "cell_type": "code",
   "execution_count": 114,
   "metadata": {},
   "outputs": [],
   "source": [
    "import pandas as pd\n",
    "import numpy as np\n",
    "from sklearn.model_selection import KFold\n",
    "from sklearn.metrics import mean_squared_error, r2_score, mean_absolute_error\n",
    "from pathlib import Path\n",
    "import xgboost as xgb\n",
    "import numpy as np\n",
    "import pickle"
   ]
  },
  {
   "cell_type": "code",
   "execution_count": 145,
   "metadata": {},
   "outputs": [],
   "source": [
    "data_dir = \"../../preprocessed/\" \n",
    "features_dir = data_dir + \"regression_features/features_all/\"\n",
    "# labels_dir = data_dir + \"labels/\" \n",
    "separate_features_dir = data_dir + \"regression_features/features_separate_cities/\"\n",
    "\n",
    "model_dir = \"../../resources/regression/\" \n",
    "\n",
    "standardize_features = True\n",
    "\n",
    "PCA_components = 64\n",
    "\n",
    "USE_GEO = \"GEO\"\n",
    "\n",
    "if USE_GEO == \"GEO\":\n",
    "    features_columns = [\"PCA\"+str(i) for i in range(PCA_components)] + \\\n",
    "                        [\"centroid_x\", \"centroid_y\"]\n",
    "else:\n",
    "    features_columns = [\"PCA\"+str(i) for i in range(PCA_components)]\n",
    "        \n",
    "\n",
    "network_type = \"vgg16_4096\"\n",
    "\n",
    "\n",
    "standardize_features = True\n",
    "\n",
    "CITY = \"roma\"\n",
    "\n",
    "# feature_size = 2048"
   ]
  },
  {
   "cell_type": "code",
   "execution_count": 146,
   "metadata": {},
   "outputs": [],
   "source": [
    "label_columns = [\"hType_mix\", \"num_intersect\", \"bld_avg_age\", \"emp_rat_num\",\\\n",
    "\t\t\t\t\"LUM5_single\",\t\"RNR_nres\", \"mdist_smallparks\", \"nig_rat_daily\",\\\n",
    "\t\t\t\t\"nig_rat_daily3\", \"mdist_nres_daily\", \"num_community_places\", \\\n",
    "\t\t\t\t\"num_community_places_poi\", \"avg_block_area\", \"sphi\", \\\n",
    "\t\t\t\t\"enterprises_empl_size\", \"pop_rat_num\",  \\\n",
    "\t\t\t\t\"emp_rat_pop\", \"den_nres_daily\",\\\n",
    "\t\t\t\t\"mdist_parks\", \"den_nres_non-daily\", \"mdist_railways\",\\\n",
    "\t\t\t\t\"mdist_highways\", \"mdist_water\", \"activity_density\"] # \"bld_rat_area\", "
   ]
  },
  {
   "cell_type": "code",
   "execution_count": 147,
   "metadata": {},
   "outputs": [],
   "source": [
    "land_use = [\n",
    "\"LUM5_single\",\"RNR_nres\",\"mdist_smallparks\",\n",
    "\"hType_mix\", \"nig_rat_daily\", \"mdist_nres_daily\",\n",
    "\"num_community_places\", \"num_community_places_poi\"]\n",
    "\n",
    "\n",
    "small_blocks = [\n",
    "\"avg_block_area\",\"num_intersect\", \"sphi\"]\n",
    "\n",
    "\n",
    "age_buildings = [\n",
    "\"bld_avg_age\",\"enterprises_empl_size\"]\n",
    "\n",
    "concentration = [\n",
    "\"pop_rat_num\",\"emp_rat_num\",\"emp_rat_pop\"\n",
    "    ,\"den_nres_daily\",\"den_nres_non-daily\"]\n",
    "\n",
    "vacuums = [\n",
    "\"mdist_parks\", \"mdist_railways\",\n",
    "\"mdist_highways\", \"mdist_water\"]"
   ]
  },
  {
   "cell_type": "markdown",
   "metadata": {},
   "source": [
    "## Functions"
   ]
  },
  {
   "cell_type": "code",
   "execution_count": 148,
   "metadata": {},
   "outputs": [],
   "source": [
    "if network_type == \"vgg19\":\n",
    "\tfeatures_file = \"Italy_6_cities_vgg19_pca\"+str(PCA_components)+\"_linear_fc_thirdlast_layer.csv\"\n",
    "elif network_type == \"resnet50\":\n",
    "\tfeatures_file = \"Italy_6_cities_resnet_pca\"+str(PCA_components)+\"_second_last_layer.csv\"\n",
    "elif network_type == \"vgg16_4096\":\n",
    "\tfeatures_file = \"Italy_6_cities_resnet_pca\" + str(PCA_components) + \"_vgg16_4096.csv\""
   ]
  },
  {
   "cell_type": "code",
   "execution_count": 149,
   "metadata": {},
   "outputs": [],
   "source": [
    "def get_normalized_labels_features(city_name=CITY):\n",
    "\n",
    "    df = pd.read_csv(separate_features_dir + \\\n",
    "        features_file.replace(\".csv\", \"_\" + city_name + \"_labels_features.csv\"))\n",
    "\n",
    "    df[\"city_image\"] = df.\\\n",
    "        apply(lambda x: x.city + \"_\" + x.imageName, axis = 1)\n",
    "    \n",
    "    del df['imageName']\n",
    "    del df['city']\n",
    "    del df['index']\n",
    "    return df"
   ]
  },
  {
   "cell_type": "code",
   "execution_count": 160,
   "metadata": {},
   "outputs": [],
   "source": [
    "def infer_label_i(label=\"label_hType_mix\"):\n",
    "    \n",
    "    data2 = data.copy()\n",
    "    target = data2[[\"city_image\", label]]\n",
    "    features = data2[features_columns]\n",
    "    \n",
    "    X = features.values\n",
    "    y = target[label].values\n",
    "    \n",
    "    clf = pickle.load(open(model_dir + label + '_all_reg.dat', 'rb'))\n",
    "    \n",
    "    predictions = clf.predict(X) \n",
    "    \n",
    "    rmse = np.sqrt(mean_squared_error(y, predictions))\n",
    "    r2 = r2_score(y, predictions)\n",
    "    mae = mean_absolute_error(y, predictions)\n",
    "       \n",
    "    return  ({\"MAE\": mae, \"R2\": r2, \"RMSE\": rmse})"
   ]
  },
  {
   "cell_type": "markdown",
   "metadata": {},
   "source": [
    "## Read in Data. Chose standardized or not."
   ]
  },
  {
   "cell_type": "code",
   "execution_count": 161,
   "metadata": {},
   "outputs": [],
   "source": [
    "data = get_normalized_labels_features()"
   ]
  },
  {
   "cell_type": "markdown",
   "metadata": {},
   "source": [
    "## Predict K-Fold"
   ]
  },
  {
   "cell_type": "code",
   "execution_count": 162,
   "metadata": {},
   "outputs": [
    {
     "data": {
      "text/html": [
       "<div>\n",
       "<style scoped>\n",
       "    .dataframe tbody tr th:only-of-type {\n",
       "        vertical-align: middle;\n",
       "    }\n",
       "\n",
       "    .dataframe tbody tr th {\n",
       "        vertical-align: top;\n",
       "    }\n",
       "\n",
       "    .dataframe thead th {\n",
       "        text-align: right;\n",
       "    }\n",
       "</style>\n",
       "<table border=\"1\" class=\"dataframe\">\n",
       "  <thead>\n",
       "    <tr style=\"text-align: right;\">\n",
       "      <th></th>\n",
       "      <th>label_activity_density</th>\n",
       "    </tr>\n",
       "  </thead>\n",
       "  <tbody>\n",
       "    <tr>\n",
       "      <th>count</th>\n",
       "      <td>1056.000000</td>\n",
       "    </tr>\n",
       "    <tr>\n",
       "      <th>mean</th>\n",
       "      <td>0.393545</td>\n",
       "    </tr>\n",
       "    <tr>\n",
       "      <th>std</th>\n",
       "      <td>0.225134</td>\n",
       "    </tr>\n",
       "    <tr>\n",
       "      <th>min</th>\n",
       "      <td>0.000000</td>\n",
       "    </tr>\n",
       "    <tr>\n",
       "      <th>25%</th>\n",
       "      <td>0.241655</td>\n",
       "    </tr>\n",
       "    <tr>\n",
       "      <th>50%</th>\n",
       "      <td>0.324620</td>\n",
       "    </tr>\n",
       "    <tr>\n",
       "      <th>75%</th>\n",
       "      <td>0.533174</td>\n",
       "    </tr>\n",
       "    <tr>\n",
       "      <th>max</th>\n",
       "      <td>1.000000</td>\n",
       "    </tr>\n",
       "  </tbody>\n",
       "</table>\n",
       "</div>"
      ],
      "text/plain": [
       "       label_activity_density\n",
       "count             1056.000000\n",
       "mean                 0.393545\n",
       "std                  0.225134\n",
       "min                  0.000000\n",
       "25%                  0.241655\n",
       "50%                  0.324620\n",
       "75%                  0.533174\n",
       "max                  1.000000"
      ]
     },
     "execution_count": 162,
     "metadata": {},
     "output_type": "execute_result"
    }
   ],
   "source": [
    "data[['label_activity_density']].describe()"
   ]
  },
  {
   "cell_type": "code",
   "execution_count": 163,
   "metadata": {},
   "outputs": [
    {
     "data": {
      "text/plain": [
       "array([[<matplotlib.axes._subplots.AxesSubplot object at 0x11b0c2ad0>]],\n",
       "      dtype=object)"
      ]
     },
     "execution_count": 163,
     "metadata": {},
     "output_type": "execute_result"
    },
    {
     "data": {
      "image/png": "[encoded data removed]",
      "text/plain": [
       "<Figure size 432x288 with 1 Axes>"
      ]
     },
     "metadata": {
      "needs_background": "light"
     },
     "output_type": "display_data"
    }
   ],
   "source": [
    "data[['label_activity_density']].hist()"
   ]
  },
  {
   "cell_type": "code",
   "execution_count": 164,
   "metadata": {},
   "outputs": [
    {
     "data": {
      "text/plain": [
       "1056"
      ]
     },
     "execution_count": 164,
     "metadata": {},
     "output_type": "execute_result"
    }
   ],
   "source": [
    "len(data)"
   ]
  },
  {
   "cell_type": "code",
   "execution_count": 165,
   "metadata": {},
   "outputs": [
    {
     "data": {
      "text/plain": [
       "{'MAE': 0.17346616734853704,\n",
       " 'R2': 0.15334382953112236,\n",
       " 'RMSE': 0.20705685285260136}"
      ]
     },
     "execution_count": 165,
     "metadata": {},
     "output_type": "execute_result"
    }
   ],
   "source": [
    "infer_label_i('label_activity_density')"
   ]
  },
  {
   "cell_type": "code",
   "execution_count": null,
   "metadata": {},
   "outputs": [],
   "source": []
  },
  {
   "cell_type": "code",
   "execution_count": null,
   "metadata": {},
   "outputs": [],
   "source": []
  },
  {
   "cell_type": "code",
   "execution_count": 166,
   "metadata": {
    "scrolled": true
   },
   "outputs": [],
   "source": [
    "SCORES = {}\n",
    "for col in label_columns:\n",
    "    label = \"label_\" + col\n",
    "    res = infer_label_i(label)\n",
    "    SCORES[label] = res"
   ]
  },
  {
   "cell_type": "code",
   "execution_count": 167,
   "metadata": {
    "scrolled": false
   },
   "outputs": [
    {
     "data": {
      "text/plain": [
       "{'label_hType_mix': {'MAE': 0.21271542868343338,\n",
       "  'R2': -1.4179867277621718,\n",
       "  'RMSE': 0.24336562456455277},\n",
       " 'label_num_intersect': {'MAE': 0.17012434710960447,\n",
       "  'R2': 0.06692024326153401,\n",
       "  'RMSE': 0.2154930488488831},\n",
       " 'label_bld_avg_age': {'MAE': 0.17162071726456685,\n",
       "  'R2': 0.15724176848322913,\n",
       "  'RMSE': 0.21522434809438948},\n",
       " 'label_emp_rat_num': {'MAE': 0.16017188794233117,\n",
       "  'R2': 0.13715675924190263,\n",
       "  'RMSE': 0.19604607057876458},\n",
       " 'label_LUM5_single': {'MAE': 0.23816928959912623,\n",
       "  'R2': -0.19672943577699176,\n",
       "  'RMSE': 0.282984139571359},\n",
       " 'label_RNR_nres': {'MAE': 0.2626781327207859,\n",
       "  'R2': -0.28241133916454686,\n",
       "  'RMSE': 0.3262536369974883},\n",
       " 'label_mdist_smallparks': {'MAE': 0.15926768834020263,\n",
       "  'R2': 0.17318742304648382,\n",
       "  'RMSE': 0.19637177719057997},\n",
       " 'label_nig_rat_daily': {'MAE': 0.15324560492159006,\n",
       "  'R2': -0.7343853853062412,\n",
       "  'RMSE': 0.19549675955592308},\n",
       " 'label_nig_rat_daily3': {'MAE': 0.0809002013004022,\n",
       "  'R2': -0.7092096466010314,\n",
       "  'RMSE': 0.12935466228858006},\n",
       " 'label_mdist_nres_daily': {'MAE': 0.16991955039058326,\n",
       "  'R2': 0.04987794648354571,\n",
       "  'RMSE': 0.21076166993907683},\n",
       " 'label_num_community_places': {'MAE': 0.15618491336653217,\n",
       "  'R2': 0.09653123135777308,\n",
       "  'RMSE': 0.19352204300848294},\n",
       " 'label_num_community_places_poi': {'MAE': 0.21409870424735353,\n",
       "  'R2': -0.5591083637725467,\n",
       "  'RMSE': 0.2581024215984019},\n",
       " 'label_avg_block_area': {'MAE': 0.19307439553403344,\n",
       "  'R2': -0.15188275946394114,\n",
       "  'RMSE': 0.24515725836991686},\n",
       " 'label_sphi': {'MAE': 0.15341049047152838,\n",
       "  'R2': -0.19156511343829608,\n",
       "  'RMSE': 0.19148814417599921},\n",
       " 'label_enterprises_empl_size': {'MAE': 0.23751995960742575,\n",
       "  'R2': -0.03794826065766577,\n",
       "  'RMSE': 0.2776404536445008},\n",
       " 'label_pop_rat_num': {'MAE': 0.17037768548215784,\n",
       "  'R2': -0.19474655597957113,\n",
       "  'RMSE': 0.21428934428566282},\n",
       " 'label_emp_rat_pop': {'MAE': 0.19337029943076223,\n",
       "  'R2': -0.5200074621422615,\n",
       "  'RMSE': 0.2332168595653727},\n",
       " 'label_den_nres_daily': {'MAE': 0.20032421087640262,\n",
       "  'R2': 0.012482602999133952,\n",
       "  'RMSE': 0.2464960697404125},\n",
       " 'label_mdist_parks': {'MAE': 0.19080512264311003,\n",
       "  'R2': -0.12811054086173468,\n",
       "  'RMSE': 0.2410183405071885},\n",
       " 'label_den_nres_non-daily': {'MAE': 0.15602395348115605,\n",
       "  'R2': -0.38863066267047675,\n",
       "  'RMSE': 0.20239678147971502},\n",
       " 'label_mdist_railways': {'MAE': 0.20438446592711743,\n",
       "  'R2': -0.22888915860955028,\n",
       "  'RMSE': 0.25011165263494756},\n",
       " 'label_mdist_highways': {'MAE': 0.22011224260191734,\n",
       "  'R2': -0.5624312990661673,\n",
       "  'RMSE': 0.2841953960518613},\n",
       " 'label_mdist_water': {'MAE': 0.19441487569470842,\n",
       "  'R2': -0.516683823342633,\n",
       "  'RMSE': 0.24244538933371684},\n",
       " 'label_activity_density': {'MAE': 0.17346616734853704,\n",
       "  'R2': 0.15334382953112236,\n",
       "  'RMSE': 0.20705685285260136}}"
      ]
     },
     "execution_count": 167,
     "metadata": {},
     "output_type": "execute_result"
    }
   ],
   "source": [
    "SCORES"
   ]
  },
  {
   "cell_type": "code",
   "execution_count": null,
   "metadata": {},
   "outputs": [],
   "source": []
  },
  {
   "cell_type": "code",
   "execution_count": 168,
   "metadata": {},
   "outputs": [],
   "source": [
    "res = pd.DataFrame(SCORES)"
   ]
  },
  {
   "cell_type": "code",
   "execution_count": 169,
   "metadata": {},
   "outputs": [
    {
     "data": {
      "text/html": [
       "<div>\n",
       "<style scoped>\n",
       "    .dataframe tbody tr th:only-of-type {\n",
       "        vertical-align: middle;\n",
       "    }\n",
       "\n",
       "    .dataframe tbody tr th {\n",
       "        vertical-align: top;\n",
       "    }\n",
       "\n",
       "    .dataframe thead th {\n",
       "        text-align: right;\n",
       "    }\n",
       "</style>\n",
       "<table border=\"1\" class=\"dataframe\">\n",
       "  <thead>\n",
       "    <tr style=\"text-align: right;\">\n",
       "      <th></th>\n",
       "      <th>label_hType_mix</th>\n",
       "      <th>label_num_intersect</th>\n",
       "      <th>label_bld_avg_age</th>\n",
       "      <th>label_emp_rat_num</th>\n",
       "      <th>label_LUM5_single</th>\n",
       "      <th>label_RNR_nres</th>\n",
       "      <th>label_mdist_smallparks</th>\n",
       "      <th>label_nig_rat_daily</th>\n",
       "      <th>label_nig_rat_daily3</th>\n",
       "      <th>label_mdist_nres_daily</th>\n",
       "      <th>...</th>\n",
       "      <th>label_enterprises_empl_size</th>\n",
       "      <th>label_pop_rat_num</th>\n",
       "      <th>label_emp_rat_pop</th>\n",
       "      <th>label_den_nres_daily</th>\n",
       "      <th>label_mdist_parks</th>\n",
       "      <th>label_den_nres_non-daily</th>\n",
       "      <th>label_mdist_railways</th>\n",
       "      <th>label_mdist_highways</th>\n",
       "      <th>label_mdist_water</th>\n",
       "      <th>label_activity_density</th>\n",
       "    </tr>\n",
       "  </thead>\n",
       "  <tbody>\n",
       "    <tr>\n",
       "      <th>MAE</th>\n",
       "      <td>0.212715</td>\n",
       "      <td>0.170124</td>\n",
       "      <td>0.171621</td>\n",
       "      <td>0.160172</td>\n",
       "      <td>0.238169</td>\n",
       "      <td>0.262678</td>\n",
       "      <td>0.159268</td>\n",
       "      <td>0.153246</td>\n",
       "      <td>0.080900</td>\n",
       "      <td>0.169920</td>\n",
       "      <td>...</td>\n",
       "      <td>0.237520</td>\n",
       "      <td>0.170378</td>\n",
       "      <td>0.193370</td>\n",
       "      <td>0.200324</td>\n",
       "      <td>0.190805</td>\n",
       "      <td>0.156024</td>\n",
       "      <td>0.204384</td>\n",
       "      <td>0.220112</td>\n",
       "      <td>0.194415</td>\n",
       "      <td>0.173466</td>\n",
       "    </tr>\n",
       "    <tr>\n",
       "      <th>R2</th>\n",
       "      <td>-1.417987</td>\n",
       "      <td>0.066920</td>\n",
       "      <td>0.157242</td>\n",
       "      <td>0.137157</td>\n",
       "      <td>-0.196729</td>\n",
       "      <td>-0.282411</td>\n",
       "      <td>0.173187</td>\n",
       "      <td>-0.734385</td>\n",
       "      <td>-0.709210</td>\n",
       "      <td>0.049878</td>\n",
       "      <td>...</td>\n",
       "      <td>-0.037948</td>\n",
       "      <td>-0.194747</td>\n",
       "      <td>-0.520007</td>\n",
       "      <td>0.012483</td>\n",
       "      <td>-0.128111</td>\n",
       "      <td>-0.388631</td>\n",
       "      <td>-0.228889</td>\n",
       "      <td>-0.562431</td>\n",
       "      <td>-0.516684</td>\n",
       "      <td>0.153344</td>\n",
       "    </tr>\n",
       "    <tr>\n",
       "      <th>RMSE</th>\n",
       "      <td>0.243366</td>\n",
       "      <td>0.215493</td>\n",
       "      <td>0.215224</td>\n",
       "      <td>0.196046</td>\n",
       "      <td>0.282984</td>\n",
       "      <td>0.326254</td>\n",
       "      <td>0.196372</td>\n",
       "      <td>0.195497</td>\n",
       "      <td>0.129355</td>\n",
       "      <td>0.210762</td>\n",
       "      <td>...</td>\n",
       "      <td>0.277640</td>\n",
       "      <td>0.214289</td>\n",
       "      <td>0.233217</td>\n",
       "      <td>0.246496</td>\n",
       "      <td>0.241018</td>\n",
       "      <td>0.202397</td>\n",
       "      <td>0.250112</td>\n",
       "      <td>0.284195</td>\n",
       "      <td>0.242445</td>\n",
       "      <td>0.207057</td>\n",
       "    </tr>\n",
       "  </tbody>\n",
       "</table>\n",
       "<p>3 rows × 24 columns</p>\n",
       "</div>"
      ],
      "text/plain": [
       "      label_hType_mix  label_num_intersect  label_bld_avg_age  \\\n",
       "MAE          0.212715             0.170124           0.171621   \n",
       "R2          -1.417987             0.066920           0.157242   \n",
       "RMSE         0.243366             0.215493           0.215224   \n",
       "\n",
       "      label_emp_rat_num  label_LUM5_single  label_RNR_nres  \\\n",
       "MAE            0.160172           0.238169        0.262678   \n",
       "R2             0.137157          -0.196729       -0.282411   \n",
       "RMSE           0.196046           0.282984        0.326254   \n",
       "\n",
       "      label_mdist_smallparks  label_nig_rat_daily  label_nig_rat_daily3  \\\n",
       "MAE                 0.159268             0.153246              0.080900   \n",
       "R2                  0.173187            -0.734385             -0.709210   \n",
       "RMSE                0.196372             0.195497              0.129355   \n",
       "\n",
       "      label_mdist_nres_daily  ...  label_enterprises_empl_size  \\\n",
       "MAE                 0.169920  ...                     0.237520   \n",
       "R2                  0.049878  ...                    -0.037948   \n",
       "RMSE                0.210762  ...                     0.277640   \n",
       "\n",
       "      label_pop_rat_num  label_emp_rat_pop  label_den_nres_daily  \\\n",
       "MAE            0.170378           0.193370              0.200324   \n",
       "R2            -0.194747          -0.520007              0.012483   \n",
       "RMSE           0.214289           0.233217              0.246496   \n",
       "\n",
       "      label_mdist_parks  label_den_nres_non-daily  label_mdist_railways  \\\n",
       "MAE            0.190805                  0.156024              0.204384   \n",
       "R2            -0.128111                 -0.388631             -0.228889   \n",
       "RMSE           0.241018                  0.202397              0.250112   \n",
       "\n",
       "      label_mdist_highways  label_mdist_water  label_activity_density  \n",
       "MAE               0.220112           0.194415                0.173466  \n",
       "R2               -0.562431          -0.516684                0.153344  \n",
       "RMSE              0.284195           0.242445                0.207057  \n",
       "\n",
       "[3 rows x 24 columns]"
      ]
     },
     "execution_count": 169,
     "metadata": {},
     "output_type": "execute_result"
    }
   ],
   "source": [
    "res"
   ]
  },
  {
   "cell_type": "code",
   "execution_count": null,
   "metadata": {},
   "outputs": [],
   "source": []
  },
  {
   "cell_type": "code",
   "execution_count": null,
   "metadata": {},
   "outputs": [],
   "source": []
  },
  {
   "cell_type": "code",
   "execution_count": null,
   "metadata": {},
   "outputs": [],
   "source": []
  },
  {
   "cell_type": "code",
   "execution_count": null,
   "metadata": {},
   "outputs": [],
   "source": []
  },
  {
   "cell_type": "code",
   "execution_count": null,
   "metadata": {},
   "outputs": [],
   "source": []
  },
  {
   "cell_type": "code",
   "execution_count": null,
   "metadata": {},
   "outputs": [],
   "source": []
  },
  {
   "cell_type": "code",
   "execution_count": 14,
   "metadata": {},
   "outputs": [],
   "source": [
    "if standardize_features:\n",
    "    out_name = '../../results/XGBoost/ALL_XGBoost' +str(PCA_components)\\\n",
    "            + '_' + network_type + '_' + USE_GEO + '_standardized7s.csv'\n",
    "else:\n",
    "    out_name = '../../results/XGBoost/ALL_XGBoost' +str(PCA_components)\\\n",
    "       + '_' + network_type + '_' + USE_GEO +   '7s.csv'\n",
    "res.to_csv(out_name, float_format='%.3f')"
   ]
  },
  {
   "cell_type": "code",
   "execution_count": null,
   "metadata": {},
   "outputs": [],
   "source": []
  },
  {
   "cell_type": "code",
   "execution_count": 15,
   "metadata": {},
   "outputs": [],
   "source": [
    "res_dir = '../../results/XGBoost/ALL_' + network_type + '_' + USE_GEO +\"_\" + str(PCA_components)\n",
    "Path(res_dir).mkdir(parents=True, exist_ok=True)"
   ]
  },
  {
   "cell_type": "code",
   "execution_count": null,
   "metadata": {},
   "outputs": [],
   "source": []
  },
  {
   "cell_type": "code",
   "execution_count": 16,
   "metadata": {},
   "outputs": [],
   "source": [
    "land_use_cols = [\"label_\"+l for l in land_use]\n",
    "res_land_use = res[land_use_cols]"
   ]
  },
  {
   "cell_type": "code",
   "execution_count": 17,
   "metadata": {},
   "outputs": [],
   "source": [
    "small_blocks_cols = [\"label_\"+l for l in small_blocks]\n",
    "res_small_blocks = res[small_blocks_cols]"
   ]
  },
  {
   "cell_type": "code",
   "execution_count": 18,
   "metadata": {},
   "outputs": [],
   "source": [
    "age_buildings_cols = [\"label_\"+l for l in age_buildings]\n",
    "res_age_buildings = res[age_buildings_cols]"
   ]
  },
  {
   "cell_type": "code",
   "execution_count": 19,
   "metadata": {},
   "outputs": [],
   "source": [
    "concentration_cols = [\"label_\"+l for l in concentration]\n",
    "res_concentration = res[concentration_cols]"
   ]
  },
  {
   "cell_type": "code",
   "execution_count": 20,
   "metadata": {},
   "outputs": [],
   "source": [
    "vacuums_cols = [\"label_\"+l for l in vacuums]\n",
    "res_vacuums = res[vacuums_cols]"
   ]
  },
  {
   "cell_type": "code",
   "execution_count": null,
   "metadata": {},
   "outputs": [],
   "source": []
  },
  {
   "cell_type": "code",
   "execution_count": 21,
   "metadata": {
    "scrolled": true
   },
   "outputs": [],
   "source": [
    "for out_cat_name in [\"land_use\", \"small_blocks\", \\\n",
    "                     \"age_buildings\", \"concentration\",\n",
    "                    \"vacuums\"]:\n",
    "    eval(\"res_\" + out_cat_name).to_csv(res_dir + \"/res_\" + out_cat_name+\\\n",
    "                                       \".csv\", float_format='%.3f')"
   ]
  },
  {
   "cell_type": "code",
   "execution_count": null,
   "metadata": {},
   "outputs": [],
   "source": []
  },
  {
   "cell_type": "code",
   "execution_count": null,
   "metadata": {},
   "outputs": [],
   "source": []
  },
  {
   "cell_type": "code",
   "execution_count": null,
   "metadata": {},
   "outputs": [],
   "source": []
  },
  {
   "cell_type": "code",
   "execution_count": null,
   "metadata": {},
   "outputs": [],
   "source": []
  },
  {
   "cell_type": "code",
   "execution_count": null,
   "metadata": {},
   "outputs": [],
   "source": []
  }
 ],
 "metadata": {
  "kernelspec": {
   "display_name": "Python 3",
   "language": "python",
   "name": "python3"
  },
  "language_info": {
   "codemirror_mode": {
    "name": "ipython",
    "version": 3
   },
   "file_extension": ".py",
   "mimetype": "text/x-python",
   "name": "python",
   "nbconvert_exporter": "python",
   "pygments_lexer": "ipython3",
   "version": "3.7.6"
  }
 },
 "nbformat": 4,
 "nbformat_minor": 2
}
