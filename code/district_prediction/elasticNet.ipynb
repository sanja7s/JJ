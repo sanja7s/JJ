{
 "cells": [
  {
   "cell_type": "markdown",
   "metadata": {},
   "source": [
    "# ElasticNet Regression ALL DISTRICTS"
   ]
  },
  {
   "cell_type": "code",
   "execution_count": 156,
   "metadata": {},
   "outputs": [],
   "source": [
    "import pandas as pd\n",
    "import numpy as np\n",
    "from sklearn.model_selection import KFold\n",
    "from sklearn.metrics import mean_squared_error, r2_score, mean_absolute_error\n",
    "from pathlib import Path\n",
    "from sklearn.linear_model import ElasticNet, ElasticNetCV\n",
    "import numpy as np\n",
    "import pickle\n",
    "\n",
    "import matplotlib.pyplot as plt"
   ]
  },
  {
   "cell_type": "code",
   "execution_count": 157,
   "metadata": {},
   "outputs": [],
   "source": [
    "data_dir = \"../../preprocessed/\" \n",
    "features_dir = data_dir + \"district_features/regression/\"\n",
    "# labels_dir = data_dir + \"labels/\" \n",
    "\n",
    "LABELING_METHOD = \"threshold\"\n",
    "AVERAGING_METHOD = \"kaist\"\n",
    "\n",
    "model_dir = \"../../resources/districts/\" \n",
    "\n",
    "PCA_components = 64\n",
    "\n",
    "USE_GEO = \"GEO\"\n",
    "\n",
    "if USE_GEO == \"GEO\":\n",
    "    features_columns = [\"PCA\"+str(i) for i in range(PCA_components)] + \\\n",
    "                        [\"centroid_x\", \"centroid_y\"]\n",
    "else:\n",
    "    features_columns = [\"PCA\"+str(i) for i in range(PCA_components)]\n",
    "    \n",
    "\n",
    "label_columns = [\"hType_mix\", \"num_intersect\", \"bld_avg_age\", \"emp_rat_num\",\\\n",
    "\t\t\t\t\"LUM5_single\",\t\"RNR_nres\", \"mdist_smallparks\", \"nig_rat_daily\",\\\n",
    "\t\t\t\t\"nig_rat_daily3\", \"mdist_nres_daily\", \"num_community_places\", \\\n",
    "\t\t\t\t\"num_community_places_poi\", \"avg_block_area\", \"sphi\", \\\n",
    "\t\t\t\t\"enterprises_empl_size\", \"pop_rat_num\",  \\\n",
    "\t\t\t\t\"emp_rat_pop\", \"den_nres_daily\",\\\n",
    "\t\t\t\t\"mdist_parks\", \"den_nres_non-daily\", \"mdist_railways\",\\\n",
    "\t\t\t\t\"mdist_highways\", \"mdist_water\", \"activity_density\"]\n",
    "\n",
    "JJ_features_columns = [\"label_\" + c for c in label_columns if c != \"activity_density\"]        \n",
    "\n",
    "network_type = \"vgg16_4096\""
   ]
  },
  {
   "cell_type": "code",
   "execution_count": 158,
   "metadata": {},
   "outputs": [],
   "source": [
    "label_columns = [\"hType_mix\", \"num_intersect\", \"bld_avg_age\", \"emp_rat_num\",\\\n",
    "\t\t\t\t\"LUM5_single\",\t\"RNR_nres\", \"mdist_smallparks\", \"nig_rat_daily\",\\\n",
    "\t\t\t\t\"nig_rat_daily3\", \"mdist_nres_daily\", \"num_community_places\", \\\n",
    "\t\t\t\t\"num_community_places_poi\", \"avg_block_area\", \"sphi\", \\\n",
    "\t\t\t\t\"enterprises_empl_size\", \"pop_rat_num\",  \\\n",
    "\t\t\t\t\"emp_rat_pop\", \"den_nres_daily\",\\\n",
    "\t\t\t\t\"mdist_parks\", \"den_nres_non-daily\", \"mdist_railways\",\\\n",
    "\t\t\t\t\"mdist_highways\", \"mdist_water\", \"activity_density\"] # \"bld_rat_area\", "
   ]
  },
  {
   "cell_type": "code",
   "execution_count": 159,
   "metadata": {},
   "outputs": [],
   "source": [
    "land_use = [\n",
    "\"LUM5_single\",\"RNR_nres\",\"mdist_smallparks\",\n",
    "\"hType_mix\", \"nig_rat_daily\", \"mdist_nres_daily\",\n",
    "\"num_community_places\", \"num_community_places_poi\"]\n",
    "\n",
    "\n",
    "small_blocks = [\n",
    "\"avg_block_area\",\"num_intersect\", \"sphi\"]\n",
    "\n",
    "\n",
    "age_buildings = [\n",
    "\"bld_avg_age\",\"enterprises_empl_size\"]\n",
    "\n",
    "concentration = [\n",
    "\"pop_rat_num\",\"emp_rat_num\",\"emp_rat_pop\"\n",
    "    ,\"den_nres_daily\",\"den_nres_non-daily\"]\n",
    "\n",
    "vacuums = [\n",
    "\"mdist_parks\", \"mdist_railways\",\n",
    "\"mdist_highways\", \"mdist_water\"]"
   ]
  },
  {
   "cell_type": "markdown",
   "metadata": {},
   "source": [
    "## Functions"
   ]
  },
  {
   "cell_type": "code",
   "execution_count": 160,
   "metadata": {},
   "outputs": [],
   "source": [
    "def get_normalized_labels_features():\n",
    "    if network_type == \"vgg19\":\n",
    "        df = pd.read_csv(features_dir + \"Italy_6_cities_vgg19_pca\"+str(PCA_components)+\"_linear_fc_thirdlast_layer_labels_features.csv\")\n",
    "    elif network_type == \"resnet50\":\n",
    "        df = pd.read_csv(features_dir + \"Italy_6_cities_resnet_pca\"+str(PCA_components)+\"_second_last_layer_labels_features.csv\")\n",
    "    elif network_type == \"vgg16_4096\":\n",
    "        df = pd.read_csv(features_dir + \"Italy_6_cities_resnet_pca\" + str(PCA_components) + \"_vgg16_4096_\"\\\n",
    "                         + LABELING_METHOD + \"_\" + AVERAGING_METHOD + \"_labels_features.csv\")\n",
    "\n",
    "    df[\"label_district\"] = df[\"label_district\"].astype(str)\n",
    "    df[\"city_district\"] = df.\\\n",
    "        apply(lambda x: x.city + \"_\" + x.label_district, axis = 1)\n",
    "    try:\n",
    "        del df['index']\n",
    "    except:\n",
    "        pass\n",
    "    return df"
   ]
  },
  {
   "cell_type": "code",
   "execution_count": 161,
   "metadata": {},
   "outputs": [],
   "source": [
    "def predict_label_i(label=\"label_activity_density\"):\n",
    "    \n",
    "    data2 = data.copy()\n",
    "    \n",
    "    target = data2[[\"city_district\", label]]\n",
    "    features = data2[features_columns]\n",
    "    \n",
    "    X = features.values\n",
    "    y = target[label].values\n",
    "    \n",
    "    alphas = [0.00001, 0.0001, 0.001, 0.01, 0.03, 0.05, 0.07, 0.1]\n",
    "    \n",
    "    for a in alphas:\n",
    "        model = ElasticNet(alpha=a).fit(X,y)   \n",
    "        score = model.score(X, y)\n",
    "        pred_y = model.predict(X)\n",
    "        mse = mean_squared_error(y, pred_y)   \n",
    "        print(\"Alpha:{0:.5f}, R2:{1:.2f}, MSE:{2:.2f}, RMSE:{3:.2f}\"\n",
    "           .format(a, score, mse, np.sqrt(mse)))"
   ]
  },
  {
   "cell_type": "code",
   "execution_count": 162,
   "metadata": {},
   "outputs": [],
   "source": [
    "def predict_JJ_f_label_i_KFold(label=\"label_hType_mix\"):\n",
    "    \n",
    "    kf = KFold(n_splits=5)\n",
    "\n",
    "    data2 = data[[\"city_district\", label] + features_columns + JJ_features_columns].copy()\n",
    "    data2 = data2.dropna()\n",
    "      \n",
    "    target = data2[[\"city_district\", label]]\n",
    "    features = data2[features_columns + JJ_features_columns]\n",
    "    \n",
    "    X = features.values\n",
    "    y = target[label].values\n",
    " \n",
    "    rmse = []\n",
    "    r2 = []\n",
    "    mae = []\n",
    "    \n",
    "    alphas = [0.00001, 0.0001, 0.001, 0.01, 0.03, 0.05, 0.07, 0.1]\n",
    "    \n",
    "    kf.get_n_splits(X, y)\n",
    "    for train_index, test_index in kf.split(X, y):\n",
    "        \n",
    "        X_train, X_test = X[train_index], X[test_index]\n",
    "        y_train, y_test = y[train_index], y[test_index]\n",
    "    \n",
    "        # --- ElasticNetCV ----\n",
    "        elastic_cv=ElasticNetCV(alphas=alphas, cv=5)\n",
    "        model = elastic_cv.fit(X_train, y_train)\n",
    "        print(model.alpha_)\n",
    "        print(model.intercept_)\n",
    "\n",
    "        y_pred = model.predict(X_test)\n",
    "        score = model.score(X_test, y_test)\n",
    "        mse = mean_squared_error(y_test, y_pred)\n",
    "        print(\"R2:{0:.3f}, MSE:{1:.2f}, RMSE:{2:.2f}\"\n",
    "              .format(score, mse, np.sqrt(mse)))\n",
    "        \n",
    "        predictions = y_pred\n",
    "        rmse1 = np.sqrt(mean_squared_error(y_test, predictions))\n",
    "        rmse.append(rmse1)\n",
    "        \n",
    "        r21 = r2_score(y_test, predictions)\n",
    "        r2.append(r21)\n",
    "        \n",
    "        mae1 = mean_absolute_error(y_test, predictions)\n",
    "        mae.append(mae1)\n",
    "        \n",
    "        plt.scatter(y_test, predictions)\n",
    "        print(r21)\n",
    "        \n",
    "        def plot_bad_res():\n",
    "            error = (y_test - predictions)**2\n",
    "            print ( min(error), max(error) )\n",
    "\n",
    "            y_error = [y_test[i] for i in range(len(y_test)) if (y_test[i] - predictions[i])**2 == max(error) ]\n",
    "            y_pred_wrong = [predictions[i] for i in range(len(y_test)) if (y_test[i] - predictions[i])**2 == max(error) ]\n",
    "            print (y_error, y_pred_wrong)\n",
    "            print (target[target[label].isin(y_error)])\n",
    "        \n",
    "#         plot_bad_res()\n",
    "        \n",
    "#     pickle.dump(clf, open(model_dir + label + 'reg.dat' , \"wb\"))\n",
    "\n",
    "        \n",
    "    return  ({\"MAE\": (np.mean(mae), np.std(mae)), \\\n",
    "              \"R2\": (np.mean(r2), np.std(r2)), \"RMSE\": (np.mean(rmse), np.std(rmse))},\n",
    "             {\"RMSE\": np.mean(rmse), \"R2\": np.mean(r2), \"MAE\": np.mean(mae)})"
   ]
  },
  {
   "cell_type": "code",
   "execution_count": 163,
   "metadata": {},
   "outputs": [],
   "source": [
    "def predict_Pop_Dens_label_i_KFold(label=\"label_hType_mix\"):\n",
    "    \n",
    "    kf = KFold(n_splits=5)\n",
    "\n",
    "    data2 = data[[\"city_district\", label] + features_columns + [\"label_pop_rat_num\"]].copy()\n",
    "    data2 = data2.dropna()\n",
    "      \n",
    "    target = data2[[\"city_district\", label]]\n",
    "    features = data2[features_columns + [\"label_pop_rat_num\"]]\n",
    "    \n",
    "    X = features.values\n",
    "    y = target[label].values\n",
    " \n",
    "    rmse = []\n",
    "    r2 = []\n",
    "    mae = []\n",
    "    \n",
    "    kf.get_n_splits(X, y)\n",
    "    for train_index, test_index in kf.split(X, y):\n",
    "        \n",
    "        X_train, X_test = X[train_index], X[test_index]\n",
    "        y_train, y_test = y[train_index], y[test_index]\n",
    "    \n",
    "        param_dist = {'objective' :'reg:squarederror', 'n_estimators':16}\n",
    "        clf = xgb.XGBRegressor(**param_dist)\n",
    "        \n",
    "        clf.fit(X_train, y_train,verbose=False)\n",
    "        \n",
    "        predictions = clf.predict(X_test)\n",
    "        \n",
    "        rmse1 = np.sqrt(mean_squared_error(y_test, predictions))\n",
    "        rmse.append(rmse1)\n",
    "        \n",
    "        r21 = r2_score(y_test, predictions)\n",
    "        r2.append(r21)\n",
    "        \n",
    "        mae1 = mean_absolute_error(y_test, predictions)\n",
    "        mae.append(mae1)\n",
    "        \n",
    "        \n",
    "        plt.scatter(y_test, predictions)\n",
    "        print(r21)\n",
    "        \n",
    "#     pickle.dump(clf, open(model_dir + label + 'reg.dat' , \"wb\"))\n",
    "\n",
    "        \n",
    "    return  ({\"MAE\": (np.mean(mae), np.std(mae)), \\\n",
    "              \"R2\": (np.mean(r2), np.std(r2)), \"RMSE\": (np.mean(rmse), np.std(rmse))},\n",
    "             {\"RMSE\": np.mean(rmse), \"R2\": np.mean(r2), \"MAE\": np.mean(mae)})"
   ]
  },
  {
   "cell_type": "code",
   "execution_count": 164,
   "metadata": {},
   "outputs": [],
   "source": [
    "def predict_baseline_Pop_Dens_label_i_KFold(city='all', label=\"label_hType_mix\"):\n",
    "    \n",
    "    kf = KFold(n_splits=5)\n",
    "    \n",
    "    if city == 'all':\n",
    "        data2 = data.copy()\n",
    "    else:\n",
    "        data2 = data[data[\"city\"] == city]\n",
    "\n",
    "    data2 = data2[[\"city_district\", label] + [\"label_pop_rat_num\"]].copy()\n",
    "    data2 = data2.dropna()\n",
    "      \n",
    "    target = data2[[\"city_district\", label]]\n",
    "    features = data2[[\"label_pop_rat_num\"]]\n",
    "    \n",
    "    X = features.values\n",
    "    y = target[label].values\n",
    " \n",
    "    rmse = []\n",
    "    r2 = []\n",
    "    mae = []\n",
    "    \n",
    "    kf.get_n_splits(X, y)\n",
    "    for train_index, test_index in kf.split(X, y):\n",
    "        \n",
    "        X_train, X_test = X[train_index], X[test_index]\n",
    "        y_train, y_test = y[train_index], y[test_index]\n",
    "    \n",
    "        param_dist = {'objective' :'reg:squarederror', 'n_estimators':16}\n",
    "        clf = xgb.XGBRegressor(**param_dist)\n",
    "        \n",
    "        clf.fit(X_train, y_train,verbose=False)\n",
    "        \n",
    "        predictions = clf.predict(X_test)\n",
    "        \n",
    "        rmse1 = np.sqrt(mean_squared_error(y_test, predictions))\n",
    "        rmse.append(rmse1)\n",
    "        \n",
    "        r21 = r2_score(y_test, predictions)\n",
    "        r2.append(r21)\n",
    "          \n",
    "        plt.scatter(y_test, predictions)\n",
    "        print(r21)\n",
    "        \n",
    "        mae1 = mean_absolute_error(y_test, predictions)\n",
    "        mae.append(mae1)\n",
    "        \n",
    "#     pickle.dump(clf, open(model_dir + label + 'reg.dat' , \"wb\"))\n",
    "\n",
    "        \n",
    "    return  ({\"MAE\": (np.mean(mae), np.std(mae)), \\\n",
    "              \"R2\": (np.mean(r2), np.std(r2)), \"RMSE\": (np.mean(rmse), np.std(rmse))},\n",
    "             {\"RMSE\": np.mean(rmse), \"R2\": np.mean(r2), \"MAE\": np.mean(mae)})"
   ]
  },
  {
   "cell_type": "code",
   "execution_count": 198,
   "metadata": {},
   "outputs": [],
   "source": [
    "def predict_label_i_KFold(label=\"label_hType_mix\"):\n",
    "    \n",
    "    kf = KFold(n_splits=5)\n",
    "    \n",
    "    data2 = data.copy()\n",
    "    target = data2[[\"city_district\", label]]\n",
    "    features = data2[features_columns]\n",
    "    \n",
    "    X = features.values\n",
    "    y = target[label].values\n",
    " \n",
    "    rmse = []\n",
    "    r2 = []\n",
    "    mae = []\n",
    "    \n",
    "    alphas = [0.00001, 0.0001, 0.001, 0.01, 0.03, 0.05, 0.07, 0.1]\n",
    "    \n",
    "    kf.get_n_splits(X, y)\n",
    "    for train_index, test_index in kf.split(X, y):\n",
    "        \n",
    "        X_train, X_test = X[train_index], X[test_index]\n",
    "        y_train, y_test = y[train_index], y[test_index]\n",
    "    \n",
    "        # --- ElasticNetCV ----\n",
    "        elastic_cv=ElasticNetCV(alphas=alphas, cv=5)\n",
    "        model = elastic_cv.fit(X_train, y_train)\n",
    "#         print(model.alpha_)\n",
    "#         print(model.intercept_)\n",
    "\n",
    "        y_pred = model.predict(X_test)\n",
    "        score = model.score(X_test, y_test)\n",
    "        mse = mean_squared_error(y_test, y_pred)\n",
    "        print(\"R2:{0:.3f}, MSE:{1:.2f}, RMSE:{2:.2f}\"\n",
    "              .format(score, mse, np.sqrt(mse)))\n",
    "        \n",
    "        predictions = y_pred\n",
    "        \n",
    "        r21 = r2_score(y_test, predictions)\n",
    "        r2.append(score)\n",
    "        \n",
    "        mae1 = mean_absolute_error(y_test, predictions)\n",
    "        mae.append(mae1)\n",
    "        \n",
    "        plt.scatter(y_test, predictions)\n",
    "#         print(r21)\n",
    "        \n",
    "        def plot_bad_res():\n",
    "            error = (y_test - predictions)**2\n",
    "            print ( min(error), max(error) )\n",
    "\n",
    "            y_error = [y_test[i] for i in range(len(y_test)) if (y_test[i] - predictions[i])**2 == max(error) ]\n",
    "            y_pred_wrong = [predictions[i] for i in range(len(y_test)) if (y_test[i] - predictions[i])**2 == max(error) ]\n",
    "            print (y_error, y_pred_wrong)\n",
    "            print (target[target[label].isin(y_error)])\n",
    "        \n",
    "        def plot_good_res():\n",
    "            error = (y_test - predictions)**2\n",
    "            print ( min(error), max(error) )\n",
    "\n",
    "            y_correct = [y_test[i] for i in range(len(y_test)) if (y_test[i] - predictions[i])**2 == min(error) ]\n",
    "            y_pred_corr = [predictions[i] for i in range(len(y_test)) if (y_test[i] - predictions[i])**2 == min(error) ]\n",
    "            print (y_correct, y_pred_corr)\n",
    "            print (target[target[label].isin(y_correct)])\n",
    "            \n",
    "#         plot_good_res()\n",
    "        \n",
    "#     pickle.dump(clf, open(model_dir + label + 'reg.dat' , \"wb\"))\n",
    "\n",
    "    print (\"********\")\n",
    "    print (np.mean(r2), np.std(r2))\n",
    "    print (\"********\")\n",
    "    return  ({\"MAE\": (np.mean(mae), np.std(mae)), \\\n",
    "              \"R2\": (np.mean(r2), np.std(r2)), \"RMSE\": (np.mean(rmse), np.std(rmse))},\n",
    "             {\"RMSE\": np.mean(rmse), \"R2\": np.mean(r2), \"MAE\": np.mean(mae)})"
   ]
  },
  {
   "cell_type": "markdown",
   "metadata": {},
   "source": [
    "## Read in Data. Chose standardized or not."
   ]
  },
  {
   "cell_type": "code",
   "execution_count": 176,
   "metadata": {},
   "outputs": [],
   "source": [
    "data = get_normalized_labels_features()"
   ]
  },
  {
   "cell_type": "code",
   "execution_count": 177,
   "metadata": {},
   "outputs": [],
   "source": [
    "USE_GEO = \"GEO\"\n",
    "if AVERAGING_METHOD == \"kaist\":\n",
    "    features_columns = [c for c in data.columns if \"PCA\" in c]\n",
    "    if USE_GEO == \"GEO\":\n",
    "        features_columns = features_columns + ['f_centroid_x', 'f_centroid_y']"
   ]
  },
  {
   "cell_type": "markdown",
   "metadata": {},
   "source": [
    "## Predict K-Fold"
   ]
  },
  {
   "cell_type": "code",
   "execution_count": 178,
   "metadata": {},
   "outputs": [
    {
     "data": {
      "text/html": [
       "<div>\n",
       "<style scoped>\n",
       "    .dataframe tbody tr th:only-of-type {\n",
       "        vertical-align: middle;\n",
       "    }\n",
       "\n",
       "    .dataframe tbody tr th {\n",
       "        vertical-align: top;\n",
       "    }\n",
       "\n",
       "    .dataframe thead th {\n",
       "        text-align: right;\n",
       "    }\n",
       "</style>\n",
       "<table border=\"1\" class=\"dataframe\">\n",
       "  <thead>\n",
       "    <tr style=\"text-align: right;\">\n",
       "      <th></th>\n",
       "      <th>label_activity_density</th>\n",
       "    </tr>\n",
       "  </thead>\n",
       "  <tbody>\n",
       "    <tr>\n",
       "      <th>count</th>\n",
       "      <td>370.000000</td>\n",
       "    </tr>\n",
       "    <tr>\n",
       "      <th>mean</th>\n",
       "      <td>0.530876</td>\n",
       "    </tr>\n",
       "    <tr>\n",
       "      <th>std</th>\n",
       "      <td>0.240842</td>\n",
       "    </tr>\n",
       "    <tr>\n",
       "      <th>min</th>\n",
       "      <td>0.000000</td>\n",
       "    </tr>\n",
       "    <tr>\n",
       "      <th>25%</th>\n",
       "      <td>0.344373</td>\n",
       "    </tr>\n",
       "    <tr>\n",
       "      <th>50%</th>\n",
       "      <td>0.531198</td>\n",
       "    </tr>\n",
       "    <tr>\n",
       "      <th>75%</th>\n",
       "      <td>0.713751</td>\n",
       "    </tr>\n",
       "    <tr>\n",
       "      <th>max</th>\n",
       "      <td>1.000000</td>\n",
       "    </tr>\n",
       "  </tbody>\n",
       "</table>\n",
       "</div>"
      ],
      "text/plain": [
       "       label_activity_density\n",
       "count              370.000000\n",
       "mean                 0.530876\n",
       "std                  0.240842\n",
       "min                  0.000000\n",
       "25%                  0.344373\n",
       "50%                  0.531198\n",
       "75%                  0.713751\n",
       "max                  1.000000"
      ]
     },
     "execution_count": 178,
     "metadata": {},
     "output_type": "execute_result"
    }
   ],
   "source": [
    "data[['label_activity_density']].describe()"
   ]
  },
  {
   "cell_type": "code",
   "execution_count": 192,
   "metadata": {},
   "outputs": [
    {
     "data": {
      "text/plain": [
       "array([[<matplotlib.axes._subplots.AxesSubplot object at 0x135bb5b90>]],\n",
       "      dtype=object)"
      ]
     },
     "execution_count": 192,
     "metadata": {},
     "output_type": "execute_result"
    },
    {
     "data": {
      "image/png": "[encoded data removed]",
      "text/plain": [
       "<Figure size 432x288 with 1 Axes>"
      ]
     },
     "metadata": {
      "needs_background": "light"
     },
     "output_type": "display_data"
    }
   ],
   "source": [
    "data[['label_bld_avg_age']].hist()"
   ]
  },
  {
   "cell_type": "code",
   "execution_count": 187,
   "metadata": {},
   "outputs": [
    {
     "data": {
      "text/plain": [
       "370"
      ]
     },
     "execution_count": 187,
     "metadata": {},
     "output_type": "execute_result"
    }
   ],
   "source": [
    "len(data)"
   ]
  },
  {
   "cell_type": "code",
   "execution_count": 181,
   "metadata": {},
   "outputs": [
    {
     "data": {
      "text/plain": [
       "Index(['label_district', 'f_std_PCA0', 'f_std_PCA1', 'f_std_PCA2',\n",
       "       'f_std_PCA3', 'f_std_PCA4', 'f_std_PCA5', 'f_std_PCA6', 'f_std_PCA7',\n",
       "       'f_std_PCA8',\n",
       "       ...\n",
       "       'label_emp_rat_pop', 'label_den_nres_daily', 'label_mdist_parks',\n",
       "       'label_den_nres_non-daily', 'label_mdist_railways',\n",
       "       'label_mdist_highways', 'label_mdist_water', 'label_activity_density',\n",
       "       'city', 'city_district'],\n",
       "      dtype='object', length=158)"
      ]
     },
     "execution_count": 181,
     "metadata": {},
     "output_type": "execute_result"
    }
   ],
   "source": [
    "data.columns"
   ]
  },
  {
   "cell_type": "code",
   "execution_count": 199,
   "metadata": {
    "scrolled": false
   },
   "outputs": [
    {
     "name": "stdout",
     "output_type": "stream",
     "text": [
      "hType_mix\n",
      "R2:-0.059, MSE:0.06, RMSE:0.25\n",
      "R2:-0.088, MSE:0.07, RMSE:0.27\n",
      "R2:0.081, MSE:0.06, RMSE:0.25\n",
      "R2:-0.039, MSE:0.04, RMSE:0.21\n",
      "R2:0.125, MSE:0.04, RMSE:0.20\n",
      "********\n",
      "0.0038276135454431426 0.08350426351797754\n",
      "********\n",
      "num_intersect\n",
      "R2:0.692, MSE:0.02, RMSE:0.15\n"
     ]
    },
    {
     "name": "stderr",
     "output_type": "stream",
     "text": [
      "/anaconda3/envs/JJ/lib/python3.7/site-packages/numpy/core/fromnumeric.py:3335: RuntimeWarning: Mean of empty slice.\n",
      "  out=out, **kwargs)\n",
      "/anaconda3/envs/JJ/lib/python3.7/site-packages/numpy/core/_methods.py:161: RuntimeWarning: invalid value encountered in double_scalars\n",
      "  ret = ret.dtype.type(ret / rcount)\n",
      "/anaconda3/envs/JJ/lib/python3.7/site-packages/numpy/core/_methods.py:217: RuntimeWarning: Degrees of freedom <= 0 for slice\n",
      "  keepdims=keepdims)\n",
      "/anaconda3/envs/JJ/lib/python3.7/site-packages/numpy/core/_methods.py:186: RuntimeWarning: invalid value encountered in true_divide\n",
      "  arrmean, rcount, out=arrmean, casting='unsafe', subok=False)\n",
      "/anaconda3/envs/JJ/lib/python3.7/site-packages/numpy/core/_methods.py:209: RuntimeWarning: invalid value encountered in double_scalars\n",
      "  ret = ret.dtype.type(ret / rcount)\n"
     ]
    },
    {
     "name": "stdout",
     "output_type": "stream",
     "text": [
      "R2:0.600, MSE:0.03, RMSE:0.17\n",
      "R2:0.501, MSE:0.03, RMSE:0.19\n",
      "R2:0.465, MSE:0.02, RMSE:0.15\n",
      "R2:0.396, MSE:0.03, RMSE:0.17\n",
      "********\n",
      "0.5305769054556582 0.10399258474614248\n",
      "********\n",
      "bld_avg_age\n"
     ]
    },
    {
     "name": "stderr",
     "output_type": "stream",
     "text": [
      "/anaconda3/envs/JJ/lib/python3.7/site-packages/numpy/core/fromnumeric.py:3335: RuntimeWarning: Mean of empty slice.\n",
      "  out=out, **kwargs)\n",
      "/anaconda3/envs/JJ/lib/python3.7/site-packages/numpy/core/_methods.py:161: RuntimeWarning: invalid value encountered in double_scalars\n",
      "  ret = ret.dtype.type(ret / rcount)\n",
      "/anaconda3/envs/JJ/lib/python3.7/site-packages/numpy/core/_methods.py:217: RuntimeWarning: Degrees of freedom <= 0 for slice\n",
      "  keepdims=keepdims)\n",
      "/anaconda3/envs/JJ/lib/python3.7/site-packages/numpy/core/_methods.py:186: RuntimeWarning: invalid value encountered in true_divide\n",
      "  arrmean, rcount, out=arrmean, casting='unsafe', subok=False)\n",
      "/anaconda3/envs/JJ/lib/python3.7/site-packages/numpy/core/_methods.py:209: RuntimeWarning: invalid value encountered in double_scalars\n",
      "  ret = ret.dtype.type(ret / rcount)\n"
     ]
    },
    {
     "name": "stdout",
     "output_type": "stream",
     "text": [
      "R2:0.310, MSE:0.04, RMSE:0.20\n",
      "R2:0.288, MSE:0.04, RMSE:0.21\n",
      "R2:-0.153, MSE:0.07, RMSE:0.27\n",
      "R2:0.057, MSE:0.06, RMSE:0.24\n",
      "R2:0.109, MSE:0.04, RMSE:0.21\n",
      "********\n",
      "0.12225995426891494 0.16900996573843086\n",
      "********\n",
      "emp_rat_num\n",
      "R2:0.473, MSE:0.02, RMSE:0.15\n",
      "R2:0.523, MSE:0.03, RMSE:0.17\n",
      "R2:0.430, MSE:0.03, RMSE:0.18\n"
     ]
    },
    {
     "name": "stderr",
     "output_type": "stream",
     "text": [
      "/anaconda3/envs/JJ/lib/python3.7/site-packages/numpy/core/fromnumeric.py:3335: RuntimeWarning: Mean of empty slice.\n",
      "  out=out, **kwargs)\n",
      "/anaconda3/envs/JJ/lib/python3.7/site-packages/numpy/core/_methods.py:161: RuntimeWarning: invalid value encountered in double_scalars\n",
      "  ret = ret.dtype.type(ret / rcount)\n",
      "/anaconda3/envs/JJ/lib/python3.7/site-packages/numpy/core/_methods.py:217: RuntimeWarning: Degrees of freedom <= 0 for slice\n",
      "  keepdims=keepdims)\n",
      "/anaconda3/envs/JJ/lib/python3.7/site-packages/numpy/core/_methods.py:186: RuntimeWarning: invalid value encountered in true_divide\n",
      "  arrmean, rcount, out=arrmean, casting='unsafe', subok=False)\n",
      "/anaconda3/envs/JJ/lib/python3.7/site-packages/numpy/core/_methods.py:209: RuntimeWarning: invalid value encountered in double_scalars\n",
      "  ret = ret.dtype.type(ret / rcount)\n"
     ]
    },
    {
     "name": "stdout",
     "output_type": "stream",
     "text": [
      "R2:0.394, MSE:0.02, RMSE:0.14\n",
      "R2:0.336, MSE:0.03, RMSE:0.18\n",
      "********\n",
      "0.4310614892381217 0.06423581667291793\n",
      "********\n",
      "LUM5_single\n",
      "R2:-0.019, MSE:0.08, RMSE:0.29\n",
      "R2:-0.104, MSE:0.07, RMSE:0.27\n"
     ]
    },
    {
     "name": "stderr",
     "output_type": "stream",
     "text": [
      "/anaconda3/envs/JJ/lib/python3.7/site-packages/numpy/core/fromnumeric.py:3335: RuntimeWarning: Mean of empty slice.\n",
      "  out=out, **kwargs)\n",
      "/anaconda3/envs/JJ/lib/python3.7/site-packages/numpy/core/_methods.py:161: RuntimeWarning: invalid value encountered in double_scalars\n",
      "  ret = ret.dtype.type(ret / rcount)\n",
      "/anaconda3/envs/JJ/lib/python3.7/site-packages/numpy/core/_methods.py:217: RuntimeWarning: Degrees of freedom <= 0 for slice\n",
      "  keepdims=keepdims)\n",
      "/anaconda3/envs/JJ/lib/python3.7/site-packages/numpy/core/_methods.py:186: RuntimeWarning: invalid value encountered in true_divide\n",
      "  arrmean, rcount, out=arrmean, casting='unsafe', subok=False)\n",
      "/anaconda3/envs/JJ/lib/python3.7/site-packages/numpy/core/_methods.py:209: RuntimeWarning: invalid value encountered in double_scalars\n",
      "  ret = ret.dtype.type(ret / rcount)\n"
     ]
    },
    {
     "name": "stdout",
     "output_type": "stream",
     "text": [
      "R2:0.117, MSE:0.06, RMSE:0.24\n",
      "R2:-0.048, MSE:0.07, RMSE:0.26\n",
      "R2:0.032, MSE:0.06, RMSE:0.24\n",
      "********\n",
      "-0.004430495619515873 0.07500501273207529\n",
      "********\n",
      "RNR_nres\n",
      "R2:-0.052, MSE:0.07, RMSE:0.26\n"
     ]
    },
    {
     "name": "stderr",
     "output_type": "stream",
     "text": [
      "/anaconda3/envs/JJ/lib/python3.7/site-packages/numpy/core/fromnumeric.py:3335: RuntimeWarning: Mean of empty slice.\n",
      "  out=out, **kwargs)\n",
      "/anaconda3/envs/JJ/lib/python3.7/site-packages/numpy/core/_methods.py:161: RuntimeWarning: invalid value encountered in double_scalars\n",
      "  ret = ret.dtype.type(ret / rcount)\n",
      "/anaconda3/envs/JJ/lib/python3.7/site-packages/numpy/core/_methods.py:217: RuntimeWarning: Degrees of freedom <= 0 for slice\n",
      "  keepdims=keepdims)\n",
      "/anaconda3/envs/JJ/lib/python3.7/site-packages/numpy/core/_methods.py:186: RuntimeWarning: invalid value encountered in true_divide\n",
      "  arrmean, rcount, out=arrmean, casting='unsafe', subok=False)\n",
      "/anaconda3/envs/JJ/lib/python3.7/site-packages/numpy/core/_methods.py:209: RuntimeWarning: invalid value encountered in double_scalars\n",
      "  ret = ret.dtype.type(ret / rcount)\n"
     ]
    },
    {
     "name": "stdout",
     "output_type": "stream",
     "text": [
      "R2:-1.392, MSE:0.19, RMSE:0.44\n",
      "R2:-0.056, MSE:0.08, RMSE:0.28\n",
      "R2:-0.114, MSE:0.07, RMSE:0.27\n",
      "R2:-0.174, MSE:0.08, RMSE:0.29\n",
      "********\n",
      "-0.35749979233909013 0.5193177430249603\n",
      "********\n",
      "mdist_smallparks\n"
     ]
    },
    {
     "name": "stderr",
     "output_type": "stream",
     "text": [
      "/anaconda3/envs/JJ/lib/python3.7/site-packages/numpy/core/fromnumeric.py:3335: RuntimeWarning: Mean of empty slice.\n",
      "  out=out, **kwargs)\n",
      "/anaconda3/envs/JJ/lib/python3.7/site-packages/numpy/core/_methods.py:161: RuntimeWarning: invalid value encountered in double_scalars\n",
      "  ret = ret.dtype.type(ret / rcount)\n",
      "/anaconda3/envs/JJ/lib/python3.7/site-packages/numpy/core/_methods.py:217: RuntimeWarning: Degrees of freedom <= 0 for slice\n",
      "  keepdims=keepdims)\n",
      "/anaconda3/envs/JJ/lib/python3.7/site-packages/numpy/core/_methods.py:186: RuntimeWarning: invalid value encountered in true_divide\n",
      "  arrmean, rcount, out=arrmean, casting='unsafe', subok=False)\n",
      "/anaconda3/envs/JJ/lib/python3.7/site-packages/numpy/core/_methods.py:209: RuntimeWarning: invalid value encountered in double_scalars\n",
      "  ret = ret.dtype.type(ret / rcount)\n"
     ]
    },
    {
     "name": "stdout",
     "output_type": "stream",
     "text": [
      "R2:-1.437, MSE:0.06, RMSE:0.25\n",
      "R2:-0.016, MSE:0.07, RMSE:0.27\n",
      "R2:-0.076, MSE:0.06, RMSE:0.24\n",
      "R2:-0.213, MSE:0.05, RMSE:0.23\n",
      "R2:-0.374, MSE:0.06, RMSE:0.24\n",
      "********\n",
      "-0.4233200482839332 0.5216420386187255\n",
      "********\n",
      "nig_rat_daily\n",
      "R2:-0.143, MSE:0.04, RMSE:0.21\n"
     ]
    },
    {
     "name": "stderr",
     "output_type": "stream",
     "text": [
      "/anaconda3/envs/JJ/lib/python3.7/site-packages/numpy/core/fromnumeric.py:3335: RuntimeWarning: Mean of empty slice.\n",
      "  out=out, **kwargs)\n",
      "/anaconda3/envs/JJ/lib/python3.7/site-packages/numpy/core/_methods.py:161: RuntimeWarning: invalid value encountered in double_scalars\n",
      "  ret = ret.dtype.type(ret / rcount)\n",
      "/anaconda3/envs/JJ/lib/python3.7/site-packages/numpy/core/_methods.py:217: RuntimeWarning: Degrees of freedom <= 0 for slice\n",
      "  keepdims=keepdims)\n",
      "/anaconda3/envs/JJ/lib/python3.7/site-packages/numpy/core/_methods.py:186: RuntimeWarning: invalid value encountered in true_divide\n",
      "  arrmean, rcount, out=arrmean, casting='unsafe', subok=False)\n",
      "/anaconda3/envs/JJ/lib/python3.7/site-packages/numpy/core/_methods.py:209: RuntimeWarning: invalid value encountered in double_scalars\n",
      "  ret = ret.dtype.type(ret / rcount)\n"
     ]
    },
    {
     "name": "stdout",
     "output_type": "stream",
     "text": [
      "R2:-0.037, MSE:0.05, RMSE:0.22\n",
      "R2:-0.008, MSE:0.07, RMSE:0.26\n",
      "R2:-0.048, MSE:0.04, RMSE:0.21\n",
      "R2:-0.291, MSE:0.02, RMSE:0.14\n",
      "********\n",
      "-0.10531385512047935 0.10341635278761632\n",
      "********\n",
      "nig_rat_daily3\n"
     ]
    },
    {
     "name": "stderr",
     "output_type": "stream",
     "text": [
      "/anaconda3/envs/JJ/lib/python3.7/site-packages/numpy/core/fromnumeric.py:3335: RuntimeWarning: Mean of empty slice.\n",
      "  out=out, **kwargs)\n",
      "/anaconda3/envs/JJ/lib/python3.7/site-packages/numpy/core/_methods.py:161: RuntimeWarning: invalid value encountered in double_scalars\n",
      "  ret = ret.dtype.type(ret / rcount)\n",
      "/anaconda3/envs/JJ/lib/python3.7/site-packages/numpy/core/_methods.py:217: RuntimeWarning: Degrees of freedom <= 0 for slice\n",
      "  keepdims=keepdims)\n",
      "/anaconda3/envs/JJ/lib/python3.7/site-packages/numpy/core/_methods.py:186: RuntimeWarning: invalid value encountered in true_divide\n",
      "  arrmean, rcount, out=arrmean, casting='unsafe', subok=False)\n",
      "/anaconda3/envs/JJ/lib/python3.7/site-packages/numpy/core/_methods.py:209: RuntimeWarning: invalid value encountered in double_scalars\n",
      "  ret = ret.dtype.type(ret / rcount)\n"
     ]
    },
    {
     "name": "stdout",
     "output_type": "stream",
     "text": [
      "R2:-0.248, MSE:0.09, RMSE:0.30\n",
      "R2:0.103, MSE:0.04, RMSE:0.20\n",
      "R2:-0.017, MSE:0.06, RMSE:0.25\n",
      "R2:0.027, MSE:0.03, RMSE:0.16\n",
      "R2:-2.555, MSE:0.01, RMSE:0.12\n",
      "********\n",
      "-0.5379657463340172 1.0155130880019765\n",
      "********\n",
      "mdist_nres_daily\n",
      "R2:0.561, MSE:0.03, RMSE:0.17\n",
      "R2:0.556, MSE:0.03, RMSE:0.18\n",
      "R2:0.521, MSE:0.04, RMSE:0.20\n"
     ]
    },
    {
     "name": "stderr",
     "output_type": "stream",
     "text": [
      "/anaconda3/envs/JJ/lib/python3.7/site-packages/numpy/core/fromnumeric.py:3335: RuntimeWarning: Mean of empty slice.\n",
      "  out=out, **kwargs)\n",
      "/anaconda3/envs/JJ/lib/python3.7/site-packages/numpy/core/_methods.py:161: RuntimeWarning: invalid value encountered in double_scalars\n",
      "  ret = ret.dtype.type(ret / rcount)\n",
      "/anaconda3/envs/JJ/lib/python3.7/site-packages/numpy/core/_methods.py:217: RuntimeWarning: Degrees of freedom <= 0 for slice\n",
      "  keepdims=keepdims)\n",
      "/anaconda3/envs/JJ/lib/python3.7/site-packages/numpy/core/_methods.py:186: RuntimeWarning: invalid value encountered in true_divide\n",
      "  arrmean, rcount, out=arrmean, casting='unsafe', subok=False)\n",
      "/anaconda3/envs/JJ/lib/python3.7/site-packages/numpy/core/_methods.py:209: RuntimeWarning: invalid value encountered in double_scalars\n",
      "  ret = ret.dtype.type(ret / rcount)\n"
     ]
    },
    {
     "name": "stdout",
     "output_type": "stream",
     "text": [
      "R2:0.416, MSE:0.03, RMSE:0.17\n",
      "R2:0.443, MSE:0.03, RMSE:0.17\n",
      "********\n",
      "0.4991050752765175 0.05941741926772273\n",
      "********\n",
      "num_community_places\n",
      "R2:0.431, MSE:0.04, RMSE:0.19\n",
      "R2:0.604, MSE:0.03, RMSE:0.18\n"
     ]
    },
    {
     "name": "stderr",
     "output_type": "stream",
     "text": [
      "/anaconda3/envs/JJ/lib/python3.7/site-packages/numpy/core/fromnumeric.py:3335: RuntimeWarning: Mean of empty slice.\n",
      "  out=out, **kwargs)\n",
      "/anaconda3/envs/JJ/lib/python3.7/site-packages/numpy/core/_methods.py:161: RuntimeWarning: invalid value encountered in double_scalars\n",
      "  ret = ret.dtype.type(ret / rcount)\n",
      "/anaconda3/envs/JJ/lib/python3.7/site-packages/numpy/core/_methods.py:217: RuntimeWarning: Degrees of freedom <= 0 for slice\n",
      "  keepdims=keepdims)\n",
      "/anaconda3/envs/JJ/lib/python3.7/site-packages/numpy/core/_methods.py:186: RuntimeWarning: invalid value encountered in true_divide\n",
      "  arrmean, rcount, out=arrmean, casting='unsafe', subok=False)\n",
      "/anaconda3/envs/JJ/lib/python3.7/site-packages/numpy/core/_methods.py:209: RuntimeWarning: invalid value encountered in double_scalars\n",
      "  ret = ret.dtype.type(ret / rcount)\n"
     ]
    },
    {
     "name": "stdout",
     "output_type": "stream",
     "text": [
      "R2:0.357, MSE:0.05, RMSE:0.22\n",
      "R2:0.436, MSE:0.03, RMSE:0.17\n",
      "R2:0.338, MSE:0.03, RMSE:0.17\n",
      "********\n",
      "0.4331874020437584 0.09391108992440268\n",
      "********\n",
      "num_community_places_poi\n",
      "R2:-0.076, MSE:0.04, RMSE:0.21\n"
     ]
    },
    {
     "name": "stderr",
     "output_type": "stream",
     "text": [
      "/anaconda3/envs/JJ/lib/python3.7/site-packages/numpy/core/fromnumeric.py:3335: RuntimeWarning: Mean of empty slice.\n",
      "  out=out, **kwargs)\n",
      "/anaconda3/envs/JJ/lib/python3.7/site-packages/numpy/core/_methods.py:161: RuntimeWarning: invalid value encountered in double_scalars\n",
      "  ret = ret.dtype.type(ret / rcount)\n",
      "/anaconda3/envs/JJ/lib/python3.7/site-packages/numpy/core/_methods.py:217: RuntimeWarning: Degrees of freedom <= 0 for slice\n",
      "  keepdims=keepdims)\n",
      "/anaconda3/envs/JJ/lib/python3.7/site-packages/numpy/core/_methods.py:186: RuntimeWarning: invalid value encountered in true_divide\n",
      "  arrmean, rcount, out=arrmean, casting='unsafe', subok=False)\n",
      "/anaconda3/envs/JJ/lib/python3.7/site-packages/numpy/core/_methods.py:209: RuntimeWarning: invalid value encountered in double_scalars\n",
      "  ret = ret.dtype.type(ret / rcount)\n"
     ]
    },
    {
     "name": "stdout",
     "output_type": "stream",
     "text": [
      "R2:-0.038, MSE:0.05, RMSE:0.22\n",
      "R2:-0.201, MSE:0.07, RMSE:0.27\n",
      "R2:-0.016, MSE:0.04, RMSE:0.21\n",
      "R2:-0.254, MSE:0.04, RMSE:0.20\n",
      "********\n",
      "-0.11707030258564562 0.09365615891871373\n",
      "********\n",
      "avg_block_area\n",
      "R2:0.306, MSE:0.03, RMSE:0.18\n",
      "R2:0.591, MSE:0.03, RMSE:0.17\n",
      "R2:0.322, MSE:0.05, RMSE:0.21\n"
     ]
    },
    {
     "name": "stderr",
     "output_type": "stream",
     "text": [
      "/anaconda3/envs/JJ/lib/python3.7/site-packages/numpy/core/fromnumeric.py:3335: RuntimeWarning: Mean of empty slice.\n",
      "  out=out, **kwargs)\n",
      "/anaconda3/envs/JJ/lib/python3.7/site-packages/numpy/core/_methods.py:161: RuntimeWarning: invalid value encountered in double_scalars\n",
      "  ret = ret.dtype.type(ret / rcount)\n",
      "/anaconda3/envs/JJ/lib/python3.7/site-packages/numpy/core/_methods.py:217: RuntimeWarning: Degrees of freedom <= 0 for slice\n",
      "  keepdims=keepdims)\n",
      "/anaconda3/envs/JJ/lib/python3.7/site-packages/numpy/core/_methods.py:186: RuntimeWarning: invalid value encountered in true_divide\n",
      "  arrmean, rcount, out=arrmean, casting='unsafe', subok=False)\n",
      "/anaconda3/envs/JJ/lib/python3.7/site-packages/numpy/core/_methods.py:209: RuntimeWarning: invalid value encountered in double_scalars\n",
      "  ret = ret.dtype.type(ret / rcount)\n"
     ]
    },
    {
     "name": "stdout",
     "output_type": "stream",
     "text": [
      "R2:0.063, MSE:0.03, RMSE:0.18\n",
      "R2:0.219, MSE:0.04, RMSE:0.20\n",
      "********\n",
      "0.3002620179325913 0.17202570908881062\n",
      "********\n",
      "sphi\n",
      "R2:0.049, MSE:0.03, RMSE:0.17\n"
     ]
    },
    {
     "name": "stderr",
     "output_type": "stream",
     "text": [
      "/anaconda3/envs/JJ/lib/python3.7/site-packages/numpy/core/fromnumeric.py:3335: RuntimeWarning: Mean of empty slice.\n",
      "  out=out, **kwargs)\n",
      "/anaconda3/envs/JJ/lib/python3.7/site-packages/numpy/core/_methods.py:161: RuntimeWarning: invalid value encountered in double_scalars\n",
      "  ret = ret.dtype.type(ret / rcount)\n",
      "/anaconda3/envs/JJ/lib/python3.7/site-packages/numpy/core/_methods.py:217: RuntimeWarning: Degrees of freedom <= 0 for slice\n",
      "  keepdims=keepdims)\n",
      "/anaconda3/envs/JJ/lib/python3.7/site-packages/numpy/core/_methods.py:186: RuntimeWarning: invalid value encountered in true_divide\n",
      "  arrmean, rcount, out=arrmean, casting='unsafe', subok=False)\n",
      "/anaconda3/envs/JJ/lib/python3.7/site-packages/numpy/core/_methods.py:209: RuntimeWarning: invalid value encountered in double_scalars\n",
      "  ret = ret.dtype.type(ret / rcount)\n"
     ]
    },
    {
     "name": "stdout",
     "output_type": "stream",
     "text": [
      "R2:0.076, MSE:0.06, RMSE:0.25\n",
      "R2:0.155, MSE:0.06, RMSE:0.24\n",
      "R2:0.111, MSE:0.03, RMSE:0.18\n",
      "R2:0.178, MSE:0.03, RMSE:0.18\n",
      "********\n",
      "0.1139645041699527 0.04795680990531376\n",
      "********\n",
      "enterprises_empl_size\n",
      "R2:0.078, MSE:0.05, RMSE:0.22\n",
      "R2:-0.001, MSE:0.06, RMSE:0.25\n",
      "R2:0.030, MSE:0.05, RMSE:0.23\n"
     ]
    },
    {
     "name": "stderr",
     "output_type": "stream",
     "text": [
      "/anaconda3/envs/JJ/lib/python3.7/site-packages/numpy/core/fromnumeric.py:3335: RuntimeWarning: Mean of empty slice.\n",
      "  out=out, **kwargs)\n",
      "/anaconda3/envs/JJ/lib/python3.7/site-packages/numpy/core/_methods.py:161: RuntimeWarning: invalid value encountered in double_scalars\n",
      "  ret = ret.dtype.type(ret / rcount)\n",
      "/anaconda3/envs/JJ/lib/python3.7/site-packages/numpy/core/_methods.py:217: RuntimeWarning: Degrees of freedom <= 0 for slice\n",
      "  keepdims=keepdims)\n",
      "/anaconda3/envs/JJ/lib/python3.7/site-packages/numpy/core/_methods.py:186: RuntimeWarning: invalid value encountered in true_divide\n",
      "  arrmean, rcount, out=arrmean, casting='unsafe', subok=False)\n",
      "/anaconda3/envs/JJ/lib/python3.7/site-packages/numpy/core/_methods.py:209: RuntimeWarning: invalid value encountered in double_scalars\n",
      "  ret = ret.dtype.type(ret / rcount)\n"
     ]
    },
    {
     "name": "stdout",
     "output_type": "stream",
     "text": [
      "R2:0.002, MSE:0.06, RMSE:0.24\n",
      "R2:0.001, MSE:0.06, RMSE:0.25\n",
      "********\n",
      "0.02198318062838789 0.030256302483695513\n",
      "********\n",
      "pop_rat_num\n",
      "R2:0.685, MSE:0.02, RMSE:0.14\n",
      "R2:0.593, MSE:0.03, RMSE:0.16\n"
     ]
    },
    {
     "name": "stderr",
     "output_type": "stream",
     "text": [
      "/anaconda3/envs/JJ/lib/python3.7/site-packages/numpy/core/fromnumeric.py:3335: RuntimeWarning: Mean of empty slice.\n",
      "  out=out, **kwargs)\n",
      "/anaconda3/envs/JJ/lib/python3.7/site-packages/numpy/core/_methods.py:161: RuntimeWarning: invalid value encountered in double_scalars\n",
      "  ret = ret.dtype.type(ret / rcount)\n",
      "/anaconda3/envs/JJ/lib/python3.7/site-packages/numpy/core/_methods.py:217: RuntimeWarning: Degrees of freedom <= 0 for slice\n",
      "  keepdims=keepdims)\n",
      "/anaconda3/envs/JJ/lib/python3.7/site-packages/numpy/core/_methods.py:186: RuntimeWarning: invalid value encountered in true_divide\n",
      "  arrmean, rcount, out=arrmean, casting='unsafe', subok=False)\n",
      "/anaconda3/envs/JJ/lib/python3.7/site-packages/numpy/core/_methods.py:209: RuntimeWarning: invalid value encountered in double_scalars\n",
      "  ret = ret.dtype.type(ret / rcount)\n"
     ]
    },
    {
     "name": "stdout",
     "output_type": "stream",
     "text": [
      "R2:0.536, MSE:0.03, RMSE:0.19\n",
      "R2:0.501, MSE:0.01, RMSE:0.12\n",
      "R2:0.538, MSE:0.02, RMSE:0.14\n",
      "********\n",
      "0.570449026618186 0.06448659249324015\n",
      "********\n",
      "emp_rat_pop\n"
     ]
    },
    {
     "name": "stderr",
     "output_type": "stream",
     "text": [
      "/anaconda3/envs/JJ/lib/python3.7/site-packages/numpy/core/fromnumeric.py:3335: RuntimeWarning: Mean of empty slice.\n",
      "  out=out, **kwargs)\n",
      "/anaconda3/envs/JJ/lib/python3.7/site-packages/numpy/core/_methods.py:161: RuntimeWarning: invalid value encountered in double_scalars\n",
      "  ret = ret.dtype.type(ret / rcount)\n",
      "/anaconda3/envs/JJ/lib/python3.7/site-packages/numpy/core/_methods.py:217: RuntimeWarning: Degrees of freedom <= 0 for slice\n",
      "  keepdims=keepdims)\n",
      "/anaconda3/envs/JJ/lib/python3.7/site-packages/numpy/core/_methods.py:186: RuntimeWarning: invalid value encountered in true_divide\n",
      "  arrmean, rcount, out=arrmean, casting='unsafe', subok=False)\n",
      "/anaconda3/envs/JJ/lib/python3.7/site-packages/numpy/core/_methods.py:209: RuntimeWarning: invalid value encountered in double_scalars\n",
      "  ret = ret.dtype.type(ret / rcount)\n"
     ]
    },
    {
     "name": "stdout",
     "output_type": "stream",
     "text": [
      "R2:-0.043, MSE:0.03, RMSE:0.19\n",
      "R2:-0.034, MSE:0.07, RMSE:0.26\n",
      "R2:0.139, MSE:0.06, RMSE:0.23\n",
      "R2:-0.066, MSE:0.04, RMSE:0.19\n",
      "R2:-0.032, MSE:0.03, RMSE:0.18\n",
      "********\n",
      "-0.007087647148870358 0.07404175746656091\n",
      "********\n",
      "den_nres_daily\n",
      "R2:0.415, MSE:0.04, RMSE:0.21\n"
     ]
    },
    {
     "name": "stderr",
     "output_type": "stream",
     "text": [
      "/anaconda3/envs/JJ/lib/python3.7/site-packages/numpy/core/fromnumeric.py:3335: RuntimeWarning: Mean of empty slice.\n",
      "  out=out, **kwargs)\n",
      "/anaconda3/envs/JJ/lib/python3.7/site-packages/numpy/core/_methods.py:161: RuntimeWarning: invalid value encountered in double_scalars\n",
      "  ret = ret.dtype.type(ret / rcount)\n",
      "/anaconda3/envs/JJ/lib/python3.7/site-packages/numpy/core/_methods.py:217: RuntimeWarning: Degrees of freedom <= 0 for slice\n",
      "  keepdims=keepdims)\n",
      "/anaconda3/envs/JJ/lib/python3.7/site-packages/numpy/core/_methods.py:186: RuntimeWarning: invalid value encountered in true_divide\n",
      "  arrmean, rcount, out=arrmean, casting='unsafe', subok=False)\n",
      "/anaconda3/envs/JJ/lib/python3.7/site-packages/numpy/core/_methods.py:209: RuntimeWarning: invalid value encountered in double_scalars\n",
      "  ret = ret.dtype.type(ret / rcount)\n"
     ]
    },
    {
     "name": "stdout",
     "output_type": "stream",
     "text": [
      "R2:0.575, MSE:0.03, RMSE:0.19\n",
      "R2:0.297, MSE:0.06, RMSE:0.25\n",
      "R2:0.452, MSE:0.04, RMSE:0.21\n",
      "R2:0.308, MSE:0.05, RMSE:0.22\n",
      "********\n",
      "0.40926091079238003 0.10237856142907997\n",
      "********\n",
      "mdist_parks\n",
      "R2:-0.120, MSE:0.06, RMSE:0.24\n",
      "R2:-0.121, MSE:0.05, RMSE:0.23\n"
     ]
    },
    {
     "name": "stderr",
     "output_type": "stream",
     "text": [
      "/anaconda3/envs/JJ/lib/python3.7/site-packages/numpy/core/fromnumeric.py:3335: RuntimeWarning: Mean of empty slice.\n",
      "  out=out, **kwargs)\n",
      "/anaconda3/envs/JJ/lib/python3.7/site-packages/numpy/core/_methods.py:161: RuntimeWarning: invalid value encountered in double_scalars\n",
      "  ret = ret.dtype.type(ret / rcount)\n",
      "/anaconda3/envs/JJ/lib/python3.7/site-packages/numpy/core/_methods.py:217: RuntimeWarning: Degrees of freedom <= 0 for slice\n",
      "  keepdims=keepdims)\n",
      "/anaconda3/envs/JJ/lib/python3.7/site-packages/numpy/core/_methods.py:186: RuntimeWarning: invalid value encountered in true_divide\n",
      "  arrmean, rcount, out=arrmean, casting='unsafe', subok=False)\n",
      "/anaconda3/envs/JJ/lib/python3.7/site-packages/numpy/core/_methods.py:209: RuntimeWarning: invalid value encountered in double_scalars\n",
      "  ret = ret.dtype.type(ret / rcount)\n"
     ]
    },
    {
     "name": "stdout",
     "output_type": "stream",
     "text": [
      "R2:-0.053, MSE:0.08, RMSE:0.29\n",
      "R2:-0.337, MSE:0.07, RMSE:0.26\n",
      "R2:-0.006, MSE:0.04, RMSE:0.20\n",
      "********\n",
      "-0.12735767505596723 0.11334323211911891\n",
      "********\n",
      "den_nres_non-daily\n"
     ]
    },
    {
     "name": "stderr",
     "output_type": "stream",
     "text": [
      "/anaconda3/envs/JJ/lib/python3.7/site-packages/numpy/core/fromnumeric.py:3335: RuntimeWarning: Mean of empty slice.\n",
      "  out=out, **kwargs)\n",
      "/anaconda3/envs/JJ/lib/python3.7/site-packages/numpy/core/_methods.py:161: RuntimeWarning: invalid value encountered in double_scalars\n",
      "  ret = ret.dtype.type(ret / rcount)\n",
      "/anaconda3/envs/JJ/lib/python3.7/site-packages/numpy/core/_methods.py:217: RuntimeWarning: Degrees of freedom <= 0 for slice\n",
      "  keepdims=keepdims)\n",
      "/anaconda3/envs/JJ/lib/python3.7/site-packages/numpy/core/_methods.py:186: RuntimeWarning: invalid value encountered in true_divide\n",
      "  arrmean, rcount, out=arrmean, casting='unsafe', subok=False)\n",
      "/anaconda3/envs/JJ/lib/python3.7/site-packages/numpy/core/_methods.py:209: RuntimeWarning: invalid value encountered in double_scalars\n",
      "  ret = ret.dtype.type(ret / rcount)\n"
     ]
    },
    {
     "name": "stdout",
     "output_type": "stream",
     "text": [
      "R2:0.467, MSE:0.03, RMSE:0.19\n",
      "R2:0.577, MSE:0.03, RMSE:0.18\n",
      "R2:0.304, MSE:0.05, RMSE:0.22\n",
      "R2:0.427, MSE:0.03, RMSE:0.16\n",
      "R2:0.286, MSE:0.02, RMSE:0.15\n",
      "********\n",
      "0.4120250894495959 0.10755332088189365\n",
      "********\n",
      "mdist_railways\n",
      "R2:0.023, MSE:0.04, RMSE:0.21\n"
     ]
    },
    {
     "name": "stderr",
     "output_type": "stream",
     "text": [
      "/anaconda3/envs/JJ/lib/python3.7/site-packages/numpy/core/fromnumeric.py:3335: RuntimeWarning: Mean of empty slice.\n",
      "  out=out, **kwargs)\n",
      "/anaconda3/envs/JJ/lib/python3.7/site-packages/numpy/core/_methods.py:161: RuntimeWarning: invalid value encountered in double_scalars\n",
      "  ret = ret.dtype.type(ret / rcount)\n",
      "/anaconda3/envs/JJ/lib/python3.7/site-packages/numpy/core/_methods.py:217: RuntimeWarning: Degrees of freedom <= 0 for slice\n",
      "  keepdims=keepdims)\n",
      "/anaconda3/envs/JJ/lib/python3.7/site-packages/numpy/core/_methods.py:186: RuntimeWarning: invalid value encountered in true_divide\n",
      "  arrmean, rcount, out=arrmean, casting='unsafe', subok=False)\n",
      "/anaconda3/envs/JJ/lib/python3.7/site-packages/numpy/core/_methods.py:209: RuntimeWarning: invalid value encountered in double_scalars\n",
      "  ret = ret.dtype.type(ret / rcount)\n"
     ]
    },
    {
     "name": "stdout",
     "output_type": "stream",
     "text": [
      "R2:0.046, MSE:0.07, RMSE:0.27\n",
      "R2:0.077, MSE:0.07, RMSE:0.26\n",
      "R2:-0.071, MSE:0.06, RMSE:0.24\n",
      "R2:0.060, MSE:0.05, RMSE:0.22\n",
      "********\n",
      "0.027109899702747065 0.052098117327177666\n",
      "********\n",
      "mdist_highways\n",
      "R2:-0.115, MSE:0.07, RMSE:0.26\n",
      "R2:0.034, MSE:0.06, RMSE:0.25\n"
     ]
    },
    {
     "name": "stderr",
     "output_type": "stream",
     "text": [
      "/anaconda3/envs/JJ/lib/python3.7/site-packages/numpy/core/fromnumeric.py:3335: RuntimeWarning: Mean of empty slice.\n",
      "  out=out, **kwargs)\n",
      "/anaconda3/envs/JJ/lib/python3.7/site-packages/numpy/core/_methods.py:161: RuntimeWarning: invalid value encountered in double_scalars\n",
      "  ret = ret.dtype.type(ret / rcount)\n",
      "/anaconda3/envs/JJ/lib/python3.7/site-packages/numpy/core/_methods.py:217: RuntimeWarning: Degrees of freedom <= 0 for slice\n",
      "  keepdims=keepdims)\n",
      "/anaconda3/envs/JJ/lib/python3.7/site-packages/numpy/core/_methods.py:186: RuntimeWarning: invalid value encountered in true_divide\n",
      "  arrmean, rcount, out=arrmean, casting='unsafe', subok=False)\n",
      "/anaconda3/envs/JJ/lib/python3.7/site-packages/numpy/core/_methods.py:209: RuntimeWarning: invalid value encountered in double_scalars\n",
      "  ret = ret.dtype.type(ret / rcount)\n"
     ]
    },
    {
     "name": "stdout",
     "output_type": "stream",
     "text": [
      "R2:-0.037, MSE:0.06, RMSE:0.25\n",
      "R2:-0.251, MSE:0.06, RMSE:0.24\n",
      "R2:0.083, MSE:0.05, RMSE:0.22\n",
      "********\n",
      "-0.05724060189734381 0.11760153742085319\n",
      "********\n",
      "mdist_water\n"
     ]
    },
    {
     "name": "stderr",
     "output_type": "stream",
     "text": [
      "/anaconda3/envs/JJ/lib/python3.7/site-packages/numpy/core/fromnumeric.py:3335: RuntimeWarning: Mean of empty slice.\n",
      "  out=out, **kwargs)\n",
      "/anaconda3/envs/JJ/lib/python3.7/site-packages/numpy/core/_methods.py:161: RuntimeWarning: invalid value encountered in double_scalars\n",
      "  ret = ret.dtype.type(ret / rcount)\n",
      "/anaconda3/envs/JJ/lib/python3.7/site-packages/numpy/core/_methods.py:217: RuntimeWarning: Degrees of freedom <= 0 for slice\n",
      "  keepdims=keepdims)\n",
      "/anaconda3/envs/JJ/lib/python3.7/site-packages/numpy/core/_methods.py:186: RuntimeWarning: invalid value encountered in true_divide\n",
      "  arrmean, rcount, out=arrmean, casting='unsafe', subok=False)\n",
      "/anaconda3/envs/JJ/lib/python3.7/site-packages/numpy/core/_methods.py:209: RuntimeWarning: invalid value encountered in double_scalars\n",
      "  ret = ret.dtype.type(ret / rcount)\n"
     ]
    },
    {
     "name": "stdout",
     "output_type": "stream",
     "text": [
      "R2:-0.000, MSE:0.06, RMSE:0.25\n",
      "R2:-0.001, MSE:0.07, RMSE:0.26\n",
      "R2:-0.000, MSE:0.07, RMSE:0.27\n",
      "R2:-0.048, MSE:0.06, RMSE:0.24\n",
      "R2:-0.070, MSE:0.03, RMSE:0.18\n",
      "********\n",
      "-0.02391063042819246 0.029479805543815144\n",
      "********\n",
      "activity_density\n",
      "R2:0.351, MSE:0.03, RMSE:0.17\n"
     ]
    },
    {
     "name": "stderr",
     "output_type": "stream",
     "text": [
      "/anaconda3/envs/JJ/lib/python3.7/site-packages/numpy/core/fromnumeric.py:3335: RuntimeWarning: Mean of empty slice.\n",
      "  out=out, **kwargs)\n",
      "/anaconda3/envs/JJ/lib/python3.7/site-packages/numpy/core/_methods.py:161: RuntimeWarning: invalid value encountered in double_scalars\n",
      "  ret = ret.dtype.type(ret / rcount)\n",
      "/anaconda3/envs/JJ/lib/python3.7/site-packages/numpy/core/_methods.py:217: RuntimeWarning: Degrees of freedom <= 0 for slice\n",
      "  keepdims=keepdims)\n",
      "/anaconda3/envs/JJ/lib/python3.7/site-packages/numpy/core/_methods.py:186: RuntimeWarning: invalid value encountered in true_divide\n",
      "  arrmean, rcount, out=arrmean, casting='unsafe', subok=False)\n",
      "/anaconda3/envs/JJ/lib/python3.7/site-packages/numpy/core/_methods.py:209: RuntimeWarning: invalid value encountered in double_scalars\n",
      "  ret = ret.dtype.type(ret / rcount)\n"
     ]
    },
    {
     "name": "stdout",
     "output_type": "stream",
     "text": [
      "R2:0.405, MSE:0.04, RMSE:0.21\n",
      "R2:0.340, MSE:0.05, RMSE:0.22\n",
      "R2:0.302, MSE:0.03, RMSE:0.17\n",
      "R2:0.110, MSE:0.05, RMSE:0.22\n",
      "********\n",
      "0.30143625810061847 0.10143496923728179\n",
      "********\n"
     ]
    },
    {
     "name": "stderr",
     "output_type": "stream",
     "text": [
      "/anaconda3/envs/JJ/lib/python3.7/site-packages/numpy/core/fromnumeric.py:3335: RuntimeWarning: Mean of empty slice.\n",
      "  out=out, **kwargs)\n",
      "/anaconda3/envs/JJ/lib/python3.7/site-packages/numpy/core/_methods.py:161: RuntimeWarning: invalid value encountered in double_scalars\n",
      "  ret = ret.dtype.type(ret / rcount)\n",
      "/anaconda3/envs/JJ/lib/python3.7/site-packages/numpy/core/_methods.py:217: RuntimeWarning: Degrees of freedom <= 0 for slice\n",
      "  keepdims=keepdims)\n",
      "/anaconda3/envs/JJ/lib/python3.7/site-packages/numpy/core/_methods.py:186: RuntimeWarning: invalid value encountered in true_divide\n",
      "  arrmean, rcount, out=arrmean, casting='unsafe', subok=False)\n",
      "/anaconda3/envs/JJ/lib/python3.7/site-packages/numpy/core/_methods.py:209: RuntimeWarning: invalid value encountered in double_scalars\n",
      "  ret = ret.dtype.type(ret / rcount)\n"
     ]
    },
    {
     "data": {
      "image/png": "[encoded data removed]",
      "text/plain": [
       "<Figure size 432x288 with 1 Axes>"
      ]
     },
     "metadata": {
      "needs_background": "light"
     },
     "output_type": "display_data"
    }
   ],
   "source": [
    "# features_columns\n",
    "for lab in label_columns:\n",
    "    print (lab)\n",
    "    predict_label_i_KFold('label_' + lab)"
   ]
  },
  {
   "cell_type": "code",
   "execution_count": 188,
   "metadata": {},
   "outputs": [
    {
     "name": "stdout",
     "output_type": "stream",
     "text": [
      "Alpha:0.00001, R2:0.79, MSE:0.01, RMSE:0.11\n",
      "Alpha:0.00010, R2:0.79, MSE:0.01, RMSE:0.12\n",
      "Alpha:0.00100, R2:0.71, MSE:0.02, RMSE:0.14\n",
      "Alpha:0.01000, R2:0.42, MSE:0.04, RMSE:0.19\n",
      "Alpha:0.03000, R2:0.07, MSE:0.06, RMSE:0.24\n",
      "Alpha:0.05000, R2:0.00, MSE:0.06, RMSE:0.25\n",
      "Alpha:0.07000, R2:0.00, MSE:0.06, RMSE:0.25\n",
      "Alpha:0.10000, R2:0.00, MSE:0.06, RMSE:0.25\n"
     ]
    }
   ],
   "source": [
    "predict_label_i('label_num_intersect')"
   ]
  },
  {
   "cell_type": "code",
   "execution_count": 193,
   "metadata": {},
   "outputs": [
    {
     "name": "stdout",
     "output_type": "stream",
     "text": [
      "0.001\n",
      "0.4683716013027815\n",
      "R2:0.310, MSE:0.04, RMSE:0.20\n",
      "0.3104921236768472\n",
      "0.001\n",
      "0.47598976971860674\n",
      "R2:0.288, MSE:0.04, RMSE:0.21\n",
      "0.2876843250256773\n",
      "0.001\n",
      "0.7216951585001007\n",
      "R2:-0.153, MSE:0.07, RMSE:0.27\n",
      "-0.15265830999601238\n",
      "0.01\n",
      "0.44230843068154846\n",
      "R2:0.057, MSE:0.06, RMSE:0.24\n",
      "0.05695473641124438\n",
      "0.01\n",
      "0.5397639953906634\n",
      "R2:0.109, MSE:0.04, RMSE:0.21\n",
      "0.10882689622681818\n"
     ]
    },
    {
     "name": "stderr",
     "output_type": "stream",
     "text": [
      "/anaconda3/envs/JJ/lib/python3.7/site-packages/numpy/core/fromnumeric.py:3335: RuntimeWarning: Mean of empty slice.\n",
      "  out=out, **kwargs)\n",
      "/anaconda3/envs/JJ/lib/python3.7/site-packages/numpy/core/_methods.py:161: RuntimeWarning: invalid value encountered in double_scalars\n",
      "  ret = ret.dtype.type(ret / rcount)\n",
      "/anaconda3/envs/JJ/lib/python3.7/site-packages/numpy/core/_methods.py:217: RuntimeWarning: Degrees of freedom <= 0 for slice\n",
      "  keepdims=keepdims)\n",
      "/anaconda3/envs/JJ/lib/python3.7/site-packages/numpy/core/_methods.py:186: RuntimeWarning: invalid value encountered in true_divide\n",
      "  arrmean, rcount, out=arrmean, casting='unsafe', subok=False)\n",
      "/anaconda3/envs/JJ/lib/python3.7/site-packages/numpy/core/_methods.py:209: RuntimeWarning: invalid value encountered in double_scalars\n",
      "  ret = ret.dtype.type(ret / rcount)\n"
     ]
    },
    {
     "data": {
      "text/plain": [
       "({'MAE': (0.182464329504169, 0.022535868913796754),\n",
       "  'R2': (0.12225995426891494, 0.16900996573843086),\n",
       "  'RMSE': (nan, nan)},\n",
       " {'RMSE': nan, 'R2': 0.12225995426891494, 'MAE': 0.182464329504169})"
      ]
     },
     "execution_count": 193,
     "metadata": {},
     "output_type": "execute_result"
    },
    {
     "data": {
      "image/png": "[encoded data removed]",
      "text/plain": [
       "<Figure size 432x288 with 1 Axes>"
      ]
     },
     "metadata": {
      "needs_background": "light"
     },
     "output_type": "display_data"
    }
   ],
   "source": [
    "predict_label_i_KFold('label_bld_avg_age')"
   ]
  },
  {
   "cell_type": "code",
   "execution_count": 150,
   "metadata": {},
   "outputs": [
    {
     "name": "stderr",
     "output_type": "stream",
     "text": [
      "/anaconda3/envs/JJ/lib/python3.7/site-packages/sklearn/linear_model/_coordinate_descent.py:472: ConvergenceWarning: Objective did not converge. You might want to increase the number of iterations. Duality gap: 0.010280568174466542, tolerance: 0.0013554169941489545\n",
      "  tol, rng, random, positive)\n",
      "/anaconda3/envs/JJ/lib/python3.7/site-packages/sklearn/linear_model/_coordinate_descent.py:472: ConvergenceWarning: Objective did not converge. You might want to increase the number of iterations. Duality gap: 0.027111587210022547, tolerance: 0.0013732221247010226\n",
      "  tol, rng, random, positive)\n",
      "/anaconda3/envs/JJ/lib/python3.7/site-packages/sklearn/linear_model/_coordinate_descent.py:472: ConvergenceWarning: Objective did not converge. You might want to increase the number of iterations. Duality gap: 0.04245422741235311, tolerance: 0.0013920925337921406\n",
      "  tol, rng, random, positive)\n",
      "/anaconda3/envs/JJ/lib/python3.7/site-packages/sklearn/linear_model/_coordinate_descent.py:472: ConvergenceWarning: Objective did not converge. You might want to increase the number of iterations. Duality gap: 0.0182741396010489, tolerance: 0.001621538344520089\n",
      "  tol, rng, random, positive)\n",
      "/anaconda3/envs/JJ/lib/python3.7/site-packages/sklearn/linear_model/_coordinate_descent.py:472: ConvergenceWarning: Objective did not converge. You might want to increase the number of iterations. Duality gap: 0.048634578960822517, tolerance: 0.0014180656131476327\n",
      "  tol, rng, random, positive)\n",
      "/anaconda3/envs/JJ/lib/python3.7/site-packages/sklearn/linear_model/_coordinate_descent.py:472: ConvergenceWarning: Objective did not converge. You might want to increase the number of iterations. Duality gap: 0.0033143522624258237, tolerance: 0.0012930463626039215\n",
      "  tol, rng, random, positive)\n",
      "/anaconda3/envs/JJ/lib/python3.7/site-packages/sklearn/linear_model/_coordinate_descent.py:472: ConvergenceWarning: Objective did not converge. You might want to increase the number of iterations. Duality gap: 0.012614012415445297, tolerance: 0.0012507843013491171\n",
      "  tol, rng, random, positive)\n"
     ]
    },
    {
     "name": "stdout",
     "output_type": "stream",
     "text": [
      "0.01\n",
      "0.19910173342573334\n",
      "R2:0.864, MSE:0.01, RMSE:0.08\n",
      "0.8637811822081788\n",
      "0.001\n",
      "0.13985805146200725\n",
      "R2:0.735, MSE:0.02, RMSE:0.14\n",
      "0.7352016199290753\n"
     ]
    },
    {
     "name": "stderr",
     "output_type": "stream",
     "text": [
      "/anaconda3/envs/JJ/lib/python3.7/site-packages/sklearn/linear_model/_coordinate_descent.py:472: ConvergenceWarning: Objective did not converge. You might want to increase the number of iterations. Duality gap: 0.02145727793201374, tolerance: 0.0012107569711736065\n",
      "  tol, rng, random, positive)\n",
      "/anaconda3/envs/JJ/lib/python3.7/site-packages/sklearn/linear_model/_coordinate_descent.py:472: ConvergenceWarning: Objective did not converge. You might want to increase the number of iterations. Duality gap: 0.002661761057768275, tolerance: 0.0014381430397167575\n",
      "  tol, rng, random, positive)\n",
      "/anaconda3/envs/JJ/lib/python3.7/site-packages/sklearn/linear_model/_coordinate_descent.py:472: ConvergenceWarning: Objective did not converge. You might want to increase the number of iterations. Duality gap: 0.042251485976930736, tolerance: 0.0013079223560098663\n",
      "  tol, rng, random, positive)\n",
      "/anaconda3/envs/JJ/lib/python3.7/site-packages/sklearn/linear_model/_coordinate_descent.py:472: ConvergenceWarning: Objective did not converge. You might want to increase the number of iterations. Duality gap: 0.050105864860609806, tolerance: 0.0012823504281273509\n",
      "  tol, rng, random, positive)\n",
      "/anaconda3/envs/JJ/lib/python3.7/site-packages/sklearn/linear_model/_coordinate_descent.py:472: ConvergenceWarning: Objective did not converge. You might want to increase the number of iterations. Duality gap: 0.03067499667201118, tolerance: 0.001185619436024684\n",
      "  tol, rng, random, positive)\n",
      "/anaconda3/envs/JJ/lib/python3.7/site-packages/sklearn/linear_model/_coordinate_descent.py:472: ConvergenceWarning: Objective did not converge. You might want to increase the number of iterations. Duality gap: 0.04835928688564828, tolerance: 0.0014362361320242327\n",
      "  tol, rng, random, positive)\n",
      "/anaconda3/envs/JJ/lib/python3.7/site-packages/sklearn/linear_model/_coordinate_descent.py:472: ConvergenceWarning: Objective did not converge. You might want to increase the number of iterations. Duality gap: 0.02931868833775675, tolerance: 0.001231396377490922\n",
      "  tol, rng, random, positive)\n"
     ]
    },
    {
     "name": "stdout",
     "output_type": "stream",
     "text": [
      "0.001\n",
      "0.0726743406758179\n",
      "R2:0.790, MSE:0.01, RMSE:0.12\n",
      "0.7904959135821964\n",
      "0.001\n",
      "0.07050558020287495\n",
      "R2:0.790, MSE:0.01, RMSE:0.09\n",
      "0.7898204601190009\n"
     ]
    },
    {
     "name": "stderr",
     "output_type": "stream",
     "text": [
      "/anaconda3/envs/JJ/lib/python3.7/site-packages/sklearn/linear_model/_coordinate_descent.py:472: ConvergenceWarning: Objective did not converge. You might want to increase the number of iterations. Duality gap: 0.0028879723018595538, tolerance: 0.0014850663336687595\n",
      "  tol, rng, random, positive)\n",
      "/anaconda3/envs/JJ/lib/python3.7/site-packages/sklearn/linear_model/_coordinate_descent.py:472: ConvergenceWarning: Objective did not converge. You might want to increase the number of iterations. Duality gap: 0.001622213793639582, tolerance: 0.0014003352203194354\n",
      "  tol, rng, random, positive)\n",
      "/anaconda3/envs/JJ/lib/python3.7/site-packages/sklearn/linear_model/_coordinate_descent.py:472: ConvergenceWarning: Objective did not converge. You might want to increase the number of iterations. Duality gap: 0.07071109076138504, tolerance: 0.0014003352203194354\n",
      "  tol, rng, random, positive)\n",
      "/anaconda3/envs/JJ/lib/python3.7/site-packages/sklearn/linear_model/_coordinate_descent.py:472: ConvergenceWarning: Objective did not converge. You might want to increase the number of iterations. Duality gap: 0.05158368491371529, tolerance: 0.0014322775966885972\n",
      "  tol, rng, random, positive)\n",
      "/anaconda3/envs/JJ/lib/python3.7/site-packages/sklearn/linear_model/_coordinate_descent.py:472: ConvergenceWarning: Objective did not converge. You might want to increase the number of iterations. Duality gap: 0.0052890483760383855, tolerance: 0.0014418791661250181\n",
      "  tol, rng, random, positive)\n",
      "/anaconda3/envs/JJ/lib/python3.7/site-packages/sklearn/linear_model/_coordinate_descent.py:472: ConvergenceWarning: Objective did not converge. You might want to increase the number of iterations. Duality gap: 0.0026570388262796563, tolerance: 0.001409841639635183\n",
      "  tol, rng, random, positive)\n",
      "/anaconda3/envs/JJ/lib/python3.7/site-packages/sklearn/linear_model/_coordinate_descent.py:472: ConvergenceWarning: Objective did not converge. You might want to increase the number of iterations. Duality gap: 0.002415166532036883, tolerance: 0.0013738760615923315\n",
      "  tol, rng, random, positive)\n",
      "/anaconda3/envs/JJ/lib/python3.7/site-packages/sklearn/linear_model/_coordinate_descent.py:472: ConvergenceWarning: Objective did not converge. You might want to increase the number of iterations. Duality gap: 0.013284352891157925, tolerance: 0.001297223955132993\n",
      "  tol, rng, random, positive)\n"
     ]
    },
    {
     "name": "stdout",
     "output_type": "stream",
     "text": [
      "0.01\n",
      "0.21802026129978358\n",
      "R2:0.751, MSE:0.01, RMSE:0.12\n",
      "0.7512625438184177\n"
     ]
    },
    {
     "name": "stderr",
     "output_type": "stream",
     "text": [
      "/anaconda3/envs/JJ/lib/python3.7/site-packages/sklearn/linear_model/_coordinate_descent.py:472: ConvergenceWarning: Objective did not converge. You might want to increase the number of iterations. Duality gap: 0.015531581182881227, tolerance: 0.001222943974593369\n",
      "  tol, rng, random, positive)\n",
      "/anaconda3/envs/JJ/lib/python3.7/site-packages/sklearn/linear_model/_coordinate_descent.py:472: ConvergenceWarning: Objective did not converge. You might want to increase the number of iterations. Duality gap: 0.006502700621086266, tolerance: 0.001526876139386429\n",
      "  tol, rng, random, positive)\n"
     ]
    },
    {
     "data": {
      "text/plain": [
       "({'MAE': (0.08475653057780995, 0.01621979598467411),\n",
       "  'R2': (0.7861123439313739, 0.04443382638072992),\n",
       "  'RMSE': (0.10959152473451159, 0.020398375625203174)},\n",
       " {'RMSE': 0.10959152473451159,\n",
       "  'R2': 0.7861123439313739,\n",
       "  'MAE': 0.08475653057780995})"
      ]
     },
     "execution_count": 150,
     "metadata": {},
     "output_type": "execute_result"
    },
    {
     "data": {
      "image/png": "[encoded data removed]",
      "text/plain": [
       "<Figure size 432x288 with 1 Axes>"
      ]
     },
     "metadata": {
      "needs_background": "light"
     },
     "output_type": "display_data"
    }
   ],
   "source": [
    " predict_JJ_f_label_i_KFold('label_activity_density')"
   ]
  },
  {
   "cell_type": "code",
   "execution_count": 136,
   "metadata": {},
   "outputs": [],
   "source": [
    "# predict_Pop_Dens_label_i_KFold('label_activity_density')"
   ]
  },
  {
   "cell_type": "code",
   "execution_count": 34,
   "metadata": {},
   "outputs": [
    {
     "name": "stdout",
     "output_type": "stream",
     "text": [
      "0.04066166237133728\n",
      "0.34895997897645814\n",
      "0.2840551992488163\n",
      "0.007058777268060812\n",
      "0.33205043045384064\n"
     ]
    },
    {
     "data": {
      "text/plain": [
       "({'MAE': (0.17008467429918797, 0.00974102961762866),\n",
       "  'R2': (0.20255720966370264, 0.14783368540472125),\n",
       "  'RMSE': (0.20893184120722835, 0.011504330356573026)},\n",
       " {'RMSE': 0.20893184120722835,\n",
       "  'R2': 0.20255720966370264,\n",
       "  'MAE': 0.17008467429918797})"
      ]
     },
     "execution_count": 34,
     "metadata": {},
     "output_type": "execute_result"
    },
    {
     "data": {
      "image/png": "[encoded data removed]",
      "text/plain": [
       "<Figure size 432x288 with 1 Axes>"
      ]
     },
     "metadata": {
      "needs_background": "light"
     },
     "output_type": "display_data"
    }
   ],
   "source": [
    "predict_baseline_Pop_Dens_label_i_KFold(label='label_activity_density')"
   ]
  },
  {
   "cell_type": "code",
   "execution_count": 142,
   "metadata": {},
   "outputs": [
    {
     "name": "stdout",
     "output_type": "stream",
     "text": [
      "0.9887280988318915\n"
     ]
    }
   ],
   "source": [
    "predict_label_i('label_activity_density')"
   ]
  },
  {
   "cell_type": "code",
   "execution_count": 143,
   "metadata": {
    "scrolled": true
   },
   "outputs": [],
   "source": [
    "kfold_SCORES = {}\n",
    "kfold_SCORES2 = {}\n",
    "for col in label_columns:\n",
    "    label = \"label_\" + col\n",
    "    res1, res2 = predict_label_i_KFold(label)\n",
    "    kfold_SCORES[label] = res1\n",
    "    kfold_SCORES2[label] = res2"
   ]
  },
  {
   "cell_type": "code",
   "execution_count": 144,
   "metadata": {
    "scrolled": false
   },
   "outputs": [
    {
     "data": {
      "text/plain": [
       "{'label_hType_mix': {'MAE': (0.17889293136717335, 0.039130040376591645),\n",
       "  'R2': (0.06393174845398279, 0.2231455657180369),\n",
       "  'RMSE': (0.22977718513480366, 0.044372714621706985)},\n",
       " 'label_num_intersect': {'MAE': (0.13080363166979422, 0.01854911606822666),\n",
       "  'R2': (0.5137391034696873, 0.08017730266327436),\n",
       "  'RMSE': (0.1707917707154985, 0.023240095807490466)},\n",
       " 'label_bld_avg_age': {'MAE': (0.17346970331832745, 0.012603925915098318),\n",
       "  'R2': (0.1853379705747223, 0.12393812444721466),\n",
       "  'RMSE': (0.21796452687727635, 0.015307226595108834)},\n",
       " 'label_emp_rat_num': {'MAE': (0.14206118478933746, 0.01195182196628203),\n",
       "  'R2': (0.30092038215434236, 0.035860605120956485),\n",
       "  'RMSE': (0.17978662559386632, 0.01346115697853015)},\n",
       " 'label_LUM5_single': {'MAE': (0.20917402599209134, 0.011610334716208448),\n",
       "  'R2': (0.006663224012698055, 0.14725042354310594),\n",
       "  'RMSE': (0.2567854666956247, 0.01116498740143294)},\n",
       " 'label_RNR_nres': {'MAE': (0.24146429326254584, 0.02256146670356747),\n",
       "  'R2': (-0.18056777548239977, 0.12957110013767012),\n",
       "  'RMSE': (0.2894026806238609, 0.026877300870757195)},\n",
       " 'label_mdist_smallparks': {'MAE': (0.18042463085433735, 0.03741417064985386),\n",
       "  'R2': (-0.34365889239687897, 1.0200438617130525),\n",
       "  'RMSE': (0.22548176037546708, 0.043290547196847766)},\n",
       " 'label_nig_rat_daily': {'MAE': (0.1827897505345143, 0.027160370617740015),\n",
       "  'R2': (-0.43585676536569745, 0.36843938298333645),\n",
       "  'RMSE': (0.23274545090239562, 0.032967852717117066)},\n",
       " 'label_nig_rat_daily3': {'MAE': (0.14703075000686605, 0.05601462032313124),\n",
       "  'R2': (-0.5810745161431904, 0.7658721913149492),\n",
       "  'RMSE': (0.21916994050356067, 0.07398224714469044)},\n",
       " 'label_mdist_nres_daily': {'MAE': (0.1589580824125574, 0.024809292923767462),\n",
       "  'R2': (0.39038129356662277, 0.10370774465195726),\n",
       "  'RMSE': (0.19592059689941327, 0.029031340624517676)},\n",
       " 'label_num_community_places': {'MAE': (0.15607524924470828,\n",
       "   0.02719796700612557),\n",
       "  'R2': (0.39253653694917623, 0.12543719241640205),\n",
       "  'RMSE': (0.19423079480176922, 0.03499747756791817)},\n",
       " 'label_num_community_places_poi': {'MAE': (0.1901855579067211,\n",
       "   0.020342443706653057),\n",
       "  'R2': (-0.18363743467231725, 0.09539211879692112),\n",
       "  'RMSE': (0.2278184677176613, 0.01822167663588451)},\n",
       " 'label_avg_block_area': {'MAE': (0.15674046553174478, 0.012297104094965032),\n",
       "  'R2': (0.22004829111913177, 0.13057476002239538),\n",
       "  'RMSE': (0.2009136787476622, 0.014804805562015015)},\n",
       " 'label_sphi': {'MAE': (0.1763138002642287, 0.031032463400564408),\n",
       "  'R2': (-0.06261570446999028, 0.3943364660298217),\n",
       "  'RMSE': (0.21647711012578624, 0.030318791563537183)},\n",
       " 'label_enterprises_empl_size': {'MAE': (0.19263139301951046,\n",
       "   0.015996615040356887),\n",
       "  'R2': (-0.00271559029601256, 0.08016748986270628),\n",
       "  'RMSE': (0.23928833252696435, 0.01624685224106446)},\n",
       " 'label_pop_rat_num': {'MAE': (0.09473350318651749, 0.02076958390748009),\n",
       "  'R2': (0.7131962169228551, 0.05435544084518997),\n",
       "  'RMSE': (0.12151381246269603, 0.026703953022076708)},\n",
       " 'label_emp_rat_pop': {'MAE': (0.17269451395465377, 0.029586174766249453),\n",
       "  'R2': (-0.1002033289242961, 0.11648634318674635),\n",
       "  'RMSE': (0.21939065691433743, 0.03701583368023102)},\n",
       " 'label_den_nres_daily': {'MAE': (0.17083078848393526, 0.018707824438116232),\n",
       "  'R2': (0.4266110129079651, 0.10992400002625519),\n",
       "  'RMSE': (0.21167623020894602, 0.026627217919899936)},\n",
       " 'label_mdist_parks': {'MAE': (0.21758662028123105, 0.01580589672122748),\n",
       "  'R2': (-0.3135183098637967, 0.13224347440165202),\n",
       "  'RMSE': (0.2620439331495569, 0.017899303133772432)},\n",
       " 'label_den_nres_non-daily': {'MAE': (0.14306543582880424,\n",
       "   0.01610518021837195),\n",
       "  'R2': (0.31853826160158294, 0.06055358314209075),\n",
       "  'RMSE': (0.19306196095430145, 0.024546100777408375)},\n",
       " 'label_mdist_railways': {'MAE': (0.20569487822403723, 0.017537718468241356),\n",
       "  'R2': (-0.11083713562125459, 0.19170051600989518),\n",
       "  'RMSE': (0.2515340866130647, 0.019108169327861243)},\n",
       " 'label_mdist_highways': {'MAE': (0.19059601643558857, 0.016870081963485186),\n",
       "  'R2': (0.016674552422895016, 0.17184653873102337),\n",
       "  'RMSE': (0.23545305488596138, 0.016348848248768776)},\n",
       " 'label_mdist_water': {'MAE': (0.21903395850375867, 0.02048541371113131),\n",
       "  'R2': (-0.31377556440247956, 0.2415406685097389),\n",
       "  'RMSE': (0.26669663128680865, 0.023035880494818962)},\n",
       " 'label_activity_density': {'MAE': (0.16439183762380588, 0.018586858014486955),\n",
       "  'R2': (0.23921833304040074, 0.047304497409892024),\n",
       "  'RMSE': (0.20599646262226842, 0.01746834481063131)}}"
      ]
     },
     "execution_count": 144,
     "metadata": {},
     "output_type": "execute_result"
    }
   ],
   "source": [
    "kfold_SCORES"
   ]
  },
  {
   "cell_type": "code",
   "execution_count": null,
   "metadata": {},
   "outputs": [],
   "source": []
  },
  {
   "cell_type": "code",
   "execution_count": 145,
   "metadata": {},
   "outputs": [],
   "source": [
    "res = pd.DataFrame(kfold_SCORES2)"
   ]
  },
  {
   "cell_type": "code",
   "execution_count": 146,
   "metadata": {},
   "outputs": [
    {
     "data": {
      "text/html": [
       "<div>\n",
       "<style scoped>\n",
       "    .dataframe tbody tr th:only-of-type {\n",
       "        vertical-align: middle;\n",
       "    }\n",
       "\n",
       "    .dataframe tbody tr th {\n",
       "        vertical-align: top;\n",
       "    }\n",
       "\n",
       "    .dataframe thead th {\n",
       "        text-align: right;\n",
       "    }\n",
       "</style>\n",
       "<table border=\"1\" class=\"dataframe\">\n",
       "  <thead>\n",
       "    <tr style=\"text-align: right;\">\n",
       "      <th></th>\n",
       "      <th>label_hType_mix</th>\n",
       "      <th>label_num_intersect</th>\n",
       "      <th>label_bld_avg_age</th>\n",
       "      <th>label_emp_rat_num</th>\n",
       "      <th>label_LUM5_single</th>\n",
       "      <th>label_RNR_nres</th>\n",
       "      <th>label_mdist_smallparks</th>\n",
       "      <th>label_nig_rat_daily</th>\n",
       "      <th>label_nig_rat_daily3</th>\n",
       "      <th>label_mdist_nres_daily</th>\n",
       "      <th>...</th>\n",
       "      <th>label_enterprises_empl_size</th>\n",
       "      <th>label_pop_rat_num</th>\n",
       "      <th>label_emp_rat_pop</th>\n",
       "      <th>label_den_nres_daily</th>\n",
       "      <th>label_mdist_parks</th>\n",
       "      <th>label_den_nres_non-daily</th>\n",
       "      <th>label_mdist_railways</th>\n",
       "      <th>label_mdist_highways</th>\n",
       "      <th>label_mdist_water</th>\n",
       "      <th>label_activity_density</th>\n",
       "    </tr>\n",
       "  </thead>\n",
       "  <tbody>\n",
       "    <tr>\n",
       "      <th>MAE</th>\n",
       "      <td>0.178893</td>\n",
       "      <td>0.130804</td>\n",
       "      <td>0.173470</td>\n",
       "      <td>0.142061</td>\n",
       "      <td>0.209174</td>\n",
       "      <td>0.241464</td>\n",
       "      <td>0.180425</td>\n",
       "      <td>0.182790</td>\n",
       "      <td>0.147031</td>\n",
       "      <td>0.158958</td>\n",
       "      <td>...</td>\n",
       "      <td>0.192631</td>\n",
       "      <td>0.094734</td>\n",
       "      <td>0.172695</td>\n",
       "      <td>0.170831</td>\n",
       "      <td>0.217587</td>\n",
       "      <td>0.143065</td>\n",
       "      <td>0.205695</td>\n",
       "      <td>0.190596</td>\n",
       "      <td>0.219034</td>\n",
       "      <td>0.164392</td>\n",
       "    </tr>\n",
       "    <tr>\n",
       "      <th>R2</th>\n",
       "      <td>0.063932</td>\n",
       "      <td>0.513739</td>\n",
       "      <td>0.185338</td>\n",
       "      <td>0.300920</td>\n",
       "      <td>0.006663</td>\n",
       "      <td>-0.180568</td>\n",
       "      <td>-0.343659</td>\n",
       "      <td>-0.435857</td>\n",
       "      <td>-0.581075</td>\n",
       "      <td>0.390381</td>\n",
       "      <td>...</td>\n",
       "      <td>-0.002716</td>\n",
       "      <td>0.713196</td>\n",
       "      <td>-0.100203</td>\n",
       "      <td>0.426611</td>\n",
       "      <td>-0.313518</td>\n",
       "      <td>0.318538</td>\n",
       "      <td>-0.110837</td>\n",
       "      <td>0.016675</td>\n",
       "      <td>-0.313776</td>\n",
       "      <td>0.239218</td>\n",
       "    </tr>\n",
       "    <tr>\n",
       "      <th>RMSE</th>\n",
       "      <td>0.229777</td>\n",
       "      <td>0.170792</td>\n",
       "      <td>0.217965</td>\n",
       "      <td>0.179787</td>\n",
       "      <td>0.256785</td>\n",
       "      <td>0.289403</td>\n",
       "      <td>0.225482</td>\n",
       "      <td>0.232745</td>\n",
       "      <td>0.219170</td>\n",
       "      <td>0.195921</td>\n",
       "      <td>...</td>\n",
       "      <td>0.239288</td>\n",
       "      <td>0.121514</td>\n",
       "      <td>0.219391</td>\n",
       "      <td>0.211676</td>\n",
       "      <td>0.262044</td>\n",
       "      <td>0.193062</td>\n",
       "      <td>0.251534</td>\n",
       "      <td>0.235453</td>\n",
       "      <td>0.266697</td>\n",
       "      <td>0.205996</td>\n",
       "    </tr>\n",
       "  </tbody>\n",
       "</table>\n",
       "<p>3 rows × 24 columns</p>\n",
       "</div>"
      ],
      "text/plain": [
       "      label_hType_mix  label_num_intersect  label_bld_avg_age  \\\n",
       "MAE          0.178893             0.130804           0.173470   \n",
       "R2           0.063932             0.513739           0.185338   \n",
       "RMSE         0.229777             0.170792           0.217965   \n",
       "\n",
       "      label_emp_rat_num  label_LUM5_single  label_RNR_nres  \\\n",
       "MAE            0.142061           0.209174        0.241464   \n",
       "R2             0.300920           0.006663       -0.180568   \n",
       "RMSE           0.179787           0.256785        0.289403   \n",
       "\n",
       "      label_mdist_smallparks  label_nig_rat_daily  label_nig_rat_daily3  \\\n",
       "MAE                 0.180425             0.182790              0.147031   \n",
       "R2                 -0.343659            -0.435857             -0.581075   \n",
       "RMSE                0.225482             0.232745              0.219170   \n",
       "\n",
       "      label_mdist_nres_daily  ...  label_enterprises_empl_size  \\\n",
       "MAE                 0.158958  ...                     0.192631   \n",
       "R2                  0.390381  ...                    -0.002716   \n",
       "RMSE                0.195921  ...                     0.239288   \n",
       "\n",
       "      label_pop_rat_num  label_emp_rat_pop  label_den_nres_daily  \\\n",
       "MAE            0.094734           0.172695              0.170831   \n",
       "R2             0.713196          -0.100203              0.426611   \n",
       "RMSE           0.121514           0.219391              0.211676   \n",
       "\n",
       "      label_mdist_parks  label_den_nres_non-daily  label_mdist_railways  \\\n",
       "MAE            0.217587                  0.143065              0.205695   \n",
       "R2            -0.313518                  0.318538             -0.110837   \n",
       "RMSE           0.262044                  0.193062              0.251534   \n",
       "\n",
       "      label_mdist_highways  label_mdist_water  label_activity_density  \n",
       "MAE               0.190596           0.219034                0.164392  \n",
       "R2                0.016675          -0.313776                0.239218  \n",
       "RMSE              0.235453           0.266697                0.205996  \n",
       "\n",
       "[3 rows x 24 columns]"
      ]
     },
     "execution_count": 146,
     "metadata": {},
     "output_type": "execute_result"
    }
   ],
   "source": [
    "res"
   ]
  },
  {
   "cell_type": "code",
   "execution_count": null,
   "metadata": {},
   "outputs": [],
   "source": []
  },
  {
   "cell_type": "code",
   "execution_count": null,
   "metadata": {},
   "outputs": [],
   "source": []
  },
  {
   "cell_type": "code",
   "execution_count": 112,
   "metadata": {},
   "outputs": [],
   "source": [
    "res_name = '../../results/districts/regression/k-fold/'\\\n",
    "    + str(PCA_components) +  '_' + 'inference.csv'\n",
    "    \n",
    "res.to_csv(res_name, float_format='%.3f')"
   ]
  },
  {
   "cell_type": "code",
   "execution_count": null,
   "metadata": {},
   "outputs": [],
   "source": []
  },
  {
   "cell_type": "code",
   "execution_count": null,
   "metadata": {},
   "outputs": [],
   "source": []
  },
  {
   "cell_type": "code",
   "execution_count": 117,
   "metadata": {
    "scrolled": false
   },
   "outputs": [
    {
     "name": "stdout",
     "output_type": "stream",
     "text": [
      "hType_mix\n",
      "num_intersect\n",
      "bld_avg_age\n",
      "emp_rat_num\n",
      "LUM5_single\n",
      "RNR_nres\n",
      "mdist_smallparks\n",
      "nig_rat_daily\n",
      "nig_rat_daily3\n",
      "mdist_nres_daily\n",
      "num_community_places\n",
      "num_community_places_poi\n",
      "avg_block_area\n",
      "sphi\n",
      "enterprises_empl_size\n",
      "pop_rat_num\n",
      "emp_rat_pop\n",
      "den_nres_daily\n",
      "mdist_parks\n",
      "den_nres_non-daily\n",
      "mdist_railways\n",
      "mdist_highways\n",
      "mdist_water\n",
      "activity_density\n"
     ]
    }
   ],
   "source": [
    "kfold_SCORES3 = {}\n",
    "kfold_SCORES4 = {}\n",
    "for col in label_columns:\n",
    "    label = \"label_\" + col\n",
    "    print (col)\n",
    "    try:\n",
    "        res1, res2 = predict_Pop_Dens_label_i_KFold(label)\n",
    "        kfold_SCORES3[label] = res1\n",
    "        kfold_SCORES4[label] = res2\n",
    "    except:\n",
    "        continue"
   ]
  },
  {
   "cell_type": "code",
   "execution_count": null,
   "metadata": {},
   "outputs": [],
   "source": []
  },
  {
   "cell_type": "code",
   "execution_count": 118,
   "metadata": {},
   "outputs": [
    {
     "data": {
      "text/plain": [
       "{'label_hType_mix': {'RMSE': 0.2279408694267379,\n",
       "  'R2': 0.07051422133629157,\n",
       "  'MAE': 0.17965797829028501},\n",
       " 'label_num_intersect': {'RMSE': 0.15842174057163844,\n",
       "  'R2': 0.5814610881877643,\n",
       "  'MAE': 0.12266114263799985},\n",
       " 'label_bld_avg_age': {'RMSE': 0.2263119522213139,\n",
       "  'R2': 0.12493259950546103,\n",
       "  'MAE': 0.1833325479429063},\n",
       " 'label_emp_rat_num': {'RMSE': 0.1803000195304037,\n",
       "  'R2': 0.2947749648765722,\n",
       "  'MAE': 0.1430904185745781},\n",
       " 'label_LUM5_single': {'RMSE': 0.24911881165039537,\n",
       "  'R2': 0.04462164704879985,\n",
       "  'MAE': 0.20199669155547686},\n",
       " 'label_RNR_nres': {'RMSE': 0.28897066689661677,\n",
       "  'R2': -0.18348239550738177,\n",
       "  'MAE': 0.234880230695338},\n",
       " 'label_mdist_smallparks': {'RMSE': 0.22152740181457045,\n",
       "  'R2': -0.27021421772457926,\n",
       "  'MAE': 0.17651944813052456},\n",
       " 'label_nig_rat_daily': {'RMSE': 0.23329026433756153,\n",
       "  'R2': -0.4119039442902115,\n",
       "  'MAE': 0.17968763783441738},\n",
       " 'label_nig_rat_daily3': {'RMSE': 0.21824987192003936,\n",
       "  'R2': -0.837768583203507,\n",
       "  'MAE': 0.1420760323386276},\n",
       " 'label_mdist_nres_daily': {'RMSE': 0.18066284843428265,\n",
       "  'R2': 0.4794169012932018,\n",
       "  'MAE': 0.14683456296902278},\n",
       " 'label_num_community_places': {'RMSE': 0.19020657369208224,\n",
       "  'R2': 0.4201189916875743,\n",
       "  'MAE': 0.15201005038054652},\n",
       " 'label_num_community_places_poi': {'RMSE': 0.2236750296835527,\n",
       "  'R2': -0.13421310487472576,\n",
       "  'MAE': 0.1829475874735728},\n",
       " 'label_avg_block_area': {'RMSE': 0.1922858094151145,\n",
       "  'R2': 0.27554187120379725,\n",
       "  'MAE': 0.15218830493868726},\n",
       " 'label_sphi': {'RMSE': 0.21784038514176043,\n",
       "  'R2': -0.06343866113662944,\n",
       "  'MAE': 0.1762574591143737},\n",
       " 'label_enterprises_empl_size': {'RMSE': 0.2346056774704551,\n",
       "  'R2': 0.03702618470809886,\n",
       "  'MAE': 0.19176713734321474},\n",
       " 'label_emp_rat_pop': {'RMSE': 0.2064739917209332,\n",
       "  'R2': 0.011273446256172992,\n",
       "  'MAE': 0.1640950395988921},\n",
       " 'label_den_nres_daily': {'RMSE': 0.20039856698882338,\n",
       "  'R2': 0.48292360220307773,\n",
       "  'MAE': 0.16242928238682722},\n",
       " 'label_mdist_parks': {'RMSE': 0.26810997908427214,\n",
       "  'R2': -0.3756014225047655,\n",
       "  'MAE': 0.22107992285436406},\n",
       " 'label_den_nres_non-daily': {'RMSE': 0.18597502866303162,\n",
       "  'R2': 0.36789937106093495,\n",
       "  'MAE': 0.13990492031165044},\n",
       " 'label_mdist_railways': {'RMSE': 0.26671809466529217,\n",
       "  'R2': -0.2477895172047475,\n",
       "  'MAE': 0.21638138632272502},\n",
       " 'label_mdist_highways': {'RMSE': 0.25188219100934073,\n",
       "  'R2': -0.1265123009449317,\n",
       "  'MAE': 0.1997674437057067},\n",
       " 'label_mdist_water': {'RMSE': 0.2701336144507345,\n",
       "  'R2': -0.3393208108784519,\n",
       "  'MAE': 0.22392473201646806},\n",
       " 'label_activity_density': {'RMSE': 0.20317695047495402,\n",
       "  'R2': 0.25801034457178534,\n",
       "  'MAE': 0.1628471059986289}}"
      ]
     },
     "execution_count": 118,
     "metadata": {},
     "output_type": "execute_result"
    }
   ],
   "source": [
    "kfold_SCORES4"
   ]
  },
  {
   "cell_type": "code",
   "execution_count": 119,
   "metadata": {},
   "outputs": [],
   "source": [
    "res = pd.DataFrame(kfold_SCORES4)"
   ]
  },
  {
   "cell_type": "code",
   "execution_count": 120,
   "metadata": {},
   "outputs": [
    {
     "data": {
      "text/html": [
       "<div>\n",
       "<style scoped>\n",
       "    .dataframe tbody tr th:only-of-type {\n",
       "        vertical-align: middle;\n",
       "    }\n",
       "\n",
       "    .dataframe tbody tr th {\n",
       "        vertical-align: top;\n",
       "    }\n",
       "\n",
       "    .dataframe thead th {\n",
       "        text-align: right;\n",
       "    }\n",
       "</style>\n",
       "<table border=\"1\" class=\"dataframe\">\n",
       "  <thead>\n",
       "    <tr style=\"text-align: right;\">\n",
       "      <th></th>\n",
       "      <th>label_hType_mix</th>\n",
       "      <th>label_num_intersect</th>\n",
       "      <th>label_bld_avg_age</th>\n",
       "      <th>label_emp_rat_num</th>\n",
       "      <th>label_LUM5_single</th>\n",
       "      <th>label_RNR_nres</th>\n",
       "      <th>label_mdist_smallparks</th>\n",
       "      <th>label_nig_rat_daily</th>\n",
       "      <th>label_nig_rat_daily3</th>\n",
       "      <th>label_mdist_nres_daily</th>\n",
       "      <th>...</th>\n",
       "      <th>label_sphi</th>\n",
       "      <th>label_enterprises_empl_size</th>\n",
       "      <th>label_emp_rat_pop</th>\n",
       "      <th>label_den_nres_daily</th>\n",
       "      <th>label_mdist_parks</th>\n",
       "      <th>label_den_nres_non-daily</th>\n",
       "      <th>label_mdist_railways</th>\n",
       "      <th>label_mdist_highways</th>\n",
       "      <th>label_mdist_water</th>\n",
       "      <th>label_activity_density</th>\n",
       "    </tr>\n",
       "  </thead>\n",
       "  <tbody>\n",
       "    <tr>\n",
       "      <th>MAE</th>\n",
       "      <td>0.179658</td>\n",
       "      <td>0.122661</td>\n",
       "      <td>0.183333</td>\n",
       "      <td>0.143090</td>\n",
       "      <td>0.201997</td>\n",
       "      <td>0.234880</td>\n",
       "      <td>0.176519</td>\n",
       "      <td>0.179688</td>\n",
       "      <td>0.142076</td>\n",
       "      <td>0.146835</td>\n",
       "      <td>...</td>\n",
       "      <td>0.176257</td>\n",
       "      <td>0.191767</td>\n",
       "      <td>0.164095</td>\n",
       "      <td>0.162429</td>\n",
       "      <td>0.221080</td>\n",
       "      <td>0.139905</td>\n",
       "      <td>0.216381</td>\n",
       "      <td>0.199767</td>\n",
       "      <td>0.223925</td>\n",
       "      <td>0.162847</td>\n",
       "    </tr>\n",
       "    <tr>\n",
       "      <th>R2</th>\n",
       "      <td>0.070514</td>\n",
       "      <td>0.581461</td>\n",
       "      <td>0.124933</td>\n",
       "      <td>0.294775</td>\n",
       "      <td>0.044622</td>\n",
       "      <td>-0.183482</td>\n",
       "      <td>-0.270214</td>\n",
       "      <td>-0.411904</td>\n",
       "      <td>-0.837769</td>\n",
       "      <td>0.479417</td>\n",
       "      <td>...</td>\n",
       "      <td>-0.063439</td>\n",
       "      <td>0.037026</td>\n",
       "      <td>0.011273</td>\n",
       "      <td>0.482924</td>\n",
       "      <td>-0.375601</td>\n",
       "      <td>0.367899</td>\n",
       "      <td>-0.247790</td>\n",
       "      <td>-0.126512</td>\n",
       "      <td>-0.339321</td>\n",
       "      <td>0.258010</td>\n",
       "    </tr>\n",
       "    <tr>\n",
       "      <th>RMSE</th>\n",
       "      <td>0.227941</td>\n",
       "      <td>0.158422</td>\n",
       "      <td>0.226312</td>\n",
       "      <td>0.180300</td>\n",
       "      <td>0.249119</td>\n",
       "      <td>0.288971</td>\n",
       "      <td>0.221527</td>\n",
       "      <td>0.233290</td>\n",
       "      <td>0.218250</td>\n",
       "      <td>0.180663</td>\n",
       "      <td>...</td>\n",
       "      <td>0.217840</td>\n",
       "      <td>0.234606</td>\n",
       "      <td>0.206474</td>\n",
       "      <td>0.200399</td>\n",
       "      <td>0.268110</td>\n",
       "      <td>0.185975</td>\n",
       "      <td>0.266718</td>\n",
       "      <td>0.251882</td>\n",
       "      <td>0.270134</td>\n",
       "      <td>0.203177</td>\n",
       "    </tr>\n",
       "  </tbody>\n",
       "</table>\n",
       "<p>3 rows × 23 columns</p>\n",
       "</div>"
      ],
      "text/plain": [
       "      label_hType_mix  label_num_intersect  label_bld_avg_age  \\\n",
       "MAE          0.179658             0.122661           0.183333   \n",
       "R2           0.070514             0.581461           0.124933   \n",
       "RMSE         0.227941             0.158422           0.226312   \n",
       "\n",
       "      label_emp_rat_num  label_LUM5_single  label_RNR_nres  \\\n",
       "MAE            0.143090           0.201997        0.234880   \n",
       "R2             0.294775           0.044622       -0.183482   \n",
       "RMSE           0.180300           0.249119        0.288971   \n",
       "\n",
       "      label_mdist_smallparks  label_nig_rat_daily  label_nig_rat_daily3  \\\n",
       "MAE                 0.176519             0.179688              0.142076   \n",
       "R2                 -0.270214            -0.411904             -0.837769   \n",
       "RMSE                0.221527             0.233290              0.218250   \n",
       "\n",
       "      label_mdist_nres_daily  ...  label_sphi  label_enterprises_empl_size  \\\n",
       "MAE                 0.146835  ...    0.176257                     0.191767   \n",
       "R2                  0.479417  ...   -0.063439                     0.037026   \n",
       "RMSE                0.180663  ...    0.217840                     0.234606   \n",
       "\n",
       "      label_emp_rat_pop  label_den_nres_daily  label_mdist_parks  \\\n",
       "MAE            0.164095              0.162429           0.221080   \n",
       "R2             0.011273              0.482924          -0.375601   \n",
       "RMSE           0.206474              0.200399           0.268110   \n",
       "\n",
       "      label_den_nres_non-daily  label_mdist_railways  label_mdist_highways  \\\n",
       "MAE                   0.139905              0.216381              0.199767   \n",
       "R2                    0.367899             -0.247790             -0.126512   \n",
       "RMSE                  0.185975              0.266718              0.251882   \n",
       "\n",
       "      label_mdist_water  label_activity_density  \n",
       "MAE            0.223925                0.162847  \n",
       "R2            -0.339321                0.258010  \n",
       "RMSE           0.270134                0.203177  \n",
       "\n",
       "[3 rows x 23 columns]"
      ]
     },
     "execution_count": 120,
     "metadata": {},
     "output_type": "execute_result"
    }
   ],
   "source": [
    "res"
   ]
  },
  {
   "cell_type": "code",
   "execution_count": null,
   "metadata": {},
   "outputs": [],
   "source": []
  },
  {
   "cell_type": "code",
   "execution_count": 121,
   "metadata": {},
   "outputs": [],
   "source": [
    "res_name = '../../results/districts/regression/unseen_city/'\\\n",
    "    + str(PCA_components) +  '_' + 'pop_dens_baseline_inference.csv'\n",
    "    \n",
    "res.to_csv(res_name, float_format='%.3f')"
   ]
  },
  {
   "cell_type": "code",
   "execution_count": null,
   "metadata": {},
   "outputs": [],
   "source": []
  },
  {
   "cell_type": "code",
   "execution_count": null,
   "metadata": {},
   "outputs": [],
   "source": []
  },
  {
   "cell_type": "code",
   "execution_count": 122,
   "metadata": {},
   "outputs": [
    {
     "name": "stdout",
     "output_type": "stream",
     "text": [
      "hType_mix\n",
      "num_intersect\n",
      "bld_avg_age\n",
      "emp_rat_num\n",
      "LUM5_single\n",
      "RNR_nres\n",
      "mdist_smallparks\n",
      "nig_rat_daily\n",
      "nig_rat_daily3\n",
      "mdist_nres_daily\n",
      "num_community_places\n",
      "num_community_places_poi\n",
      "avg_block_area\n",
      "sphi\n",
      "enterprises_empl_size\n",
      "emp_rat_pop\n",
      "den_nres_daily\n",
      "mdist_parks\n",
      "den_nres_non-daily\n",
      "mdist_railways\n",
      "mdist_highways\n",
      "mdist_water\n",
      "activity_density\n"
     ]
    }
   ],
   "source": [
    "kfold_SCORES5 = {}\n",
    "kfold_SCORES6 = {}\n",
    "for col in label_columns:\n",
    "    if col == 'pop_rat_num':\n",
    "        continue\n",
    "    label = \"label_\" + col\n",
    "    print (col)\n",
    "    try:\n",
    "        res1, res2 = predict_baselne_Pop_Dens_label_i_KFold(label)\n",
    "        kfold_SCORES5[label] = res1\n",
    "        kfold_SCORES6[label] = res2\n",
    "    except:\n",
    "        continue"
   ]
  },
  {
   "cell_type": "code",
   "execution_count": 123,
   "metadata": {},
   "outputs": [],
   "source": [
    "res = pd.DataFrame(kfold_SCORES6)"
   ]
  },
  {
   "cell_type": "code",
   "execution_count": 124,
   "metadata": {},
   "outputs": [
    {
     "data": {
      "text/html": [
       "<div>\n",
       "<style scoped>\n",
       "    .dataframe tbody tr th:only-of-type {\n",
       "        vertical-align: middle;\n",
       "    }\n",
       "\n",
       "    .dataframe tbody tr th {\n",
       "        vertical-align: top;\n",
       "    }\n",
       "\n",
       "    .dataframe thead th {\n",
       "        text-align: right;\n",
       "    }\n",
       "</style>\n",
       "<table border=\"1\" class=\"dataframe\">\n",
       "  <thead>\n",
       "    <tr style=\"text-align: right;\">\n",
       "      <th></th>\n",
       "      <th>label_hType_mix</th>\n",
       "      <th>label_num_intersect</th>\n",
       "      <th>label_bld_avg_age</th>\n",
       "      <th>label_emp_rat_num</th>\n",
       "      <th>label_LUM5_single</th>\n",
       "      <th>label_RNR_nres</th>\n",
       "      <th>label_mdist_smallparks</th>\n",
       "      <th>label_nig_rat_daily</th>\n",
       "      <th>label_nig_rat_daily3</th>\n",
       "      <th>label_mdist_nres_daily</th>\n",
       "      <th>...</th>\n",
       "      <th>label_sphi</th>\n",
       "      <th>label_enterprises_empl_size</th>\n",
       "      <th>label_emp_rat_pop</th>\n",
       "      <th>label_den_nres_daily</th>\n",
       "      <th>label_mdist_parks</th>\n",
       "      <th>label_den_nres_non-daily</th>\n",
       "      <th>label_mdist_railways</th>\n",
       "      <th>label_mdist_highways</th>\n",
       "      <th>label_mdist_water</th>\n",
       "      <th>label_activity_density</th>\n",
       "    </tr>\n",
       "  </thead>\n",
       "  <tbody>\n",
       "    <tr>\n",
       "      <th>MAE</th>\n",
       "      <td>0.195370</td>\n",
       "      <td>0.140318</td>\n",
       "      <td>0.214391</td>\n",
       "      <td>0.157059</td>\n",
       "      <td>0.200776</td>\n",
       "      <td>0.253289</td>\n",
       "      <td>0.171650</td>\n",
       "      <td>0.182385</td>\n",
       "      <td>0.145151</td>\n",
       "      <td>0.150258</td>\n",
       "      <td>...</td>\n",
       "      <td>0.183367</td>\n",
       "      <td>0.205645</td>\n",
       "      <td>0.195664</td>\n",
       "      <td>0.179851</td>\n",
       "      <td>0.222819</td>\n",
       "      <td>0.159992</td>\n",
       "      <td>0.221001</td>\n",
       "      <td>0.215280</td>\n",
       "      <td>0.214943</td>\n",
       "      <td>0.170085</td>\n",
       "    </tr>\n",
       "    <tr>\n",
       "      <th>R2</th>\n",
       "      <td>-0.164208</td>\n",
       "      <td>0.470692</td>\n",
       "      <td>-0.160960</td>\n",
       "      <td>0.063291</td>\n",
       "      <td>0.000826</td>\n",
       "      <td>-0.280834</td>\n",
       "      <td>-0.156301</td>\n",
       "      <td>-0.667219</td>\n",
       "      <td>-1.149612</td>\n",
       "      <td>0.437583</td>\n",
       "      <td>...</td>\n",
       "      <td>-0.150908</td>\n",
       "      <td>-0.185577</td>\n",
       "      <td>-0.403961</td>\n",
       "      <td>0.342671</td>\n",
       "      <td>-0.404282</td>\n",
       "      <td>0.098702</td>\n",
       "      <td>-0.251449</td>\n",
       "      <td>-0.333600</td>\n",
       "      <td>-0.247077</td>\n",
       "      <td>0.202557</td>\n",
       "    </tr>\n",
       "    <tr>\n",
       "      <th>RMSE</th>\n",
       "      <td>0.254008</td>\n",
       "      <td>0.178353</td>\n",
       "      <td>0.261128</td>\n",
       "      <td>0.206801</td>\n",
       "      <td>0.257039</td>\n",
       "      <td>0.301293</td>\n",
       "      <td>0.214097</td>\n",
       "      <td>0.241197</td>\n",
       "      <td>0.237956</td>\n",
       "      <td>0.187229</td>\n",
       "      <td>...</td>\n",
       "      <td>0.225187</td>\n",
       "      <td>0.259723</td>\n",
       "      <td>0.244770</td>\n",
       "      <td>0.226838</td>\n",
       "      <td>0.272159</td>\n",
       "      <td>0.221794</td>\n",
       "      <td>0.269486</td>\n",
       "      <td>0.273252</td>\n",
       "      <td>0.262996</td>\n",
       "      <td>0.208932</td>\n",
       "    </tr>\n",
       "  </tbody>\n",
       "</table>\n",
       "<p>3 rows × 23 columns</p>\n",
       "</div>"
      ],
      "text/plain": [
       "      label_hType_mix  label_num_intersect  label_bld_avg_age  \\\n",
       "MAE          0.195370             0.140318           0.214391   \n",
       "R2          -0.164208             0.470692          -0.160960   \n",
       "RMSE         0.254008             0.178353           0.261128   \n",
       "\n",
       "      label_emp_rat_num  label_LUM5_single  label_RNR_nres  \\\n",
       "MAE            0.157059           0.200776        0.253289   \n",
       "R2             0.063291           0.000826       -0.280834   \n",
       "RMSE           0.206801           0.257039        0.301293   \n",
       "\n",
       "      label_mdist_smallparks  label_nig_rat_daily  label_nig_rat_daily3  \\\n",
       "MAE                 0.171650             0.182385              0.145151   \n",
       "R2                 -0.156301            -0.667219             -1.149612   \n",
       "RMSE                0.214097             0.241197              0.237956   \n",
       "\n",
       "      label_mdist_nres_daily  ...  label_sphi  label_enterprises_empl_size  \\\n",
       "MAE                 0.150258  ...    0.183367                     0.205645   \n",
       "R2                  0.437583  ...   -0.150908                    -0.185577   \n",
       "RMSE                0.187229  ...    0.225187                     0.259723   \n",
       "\n",
       "      label_emp_rat_pop  label_den_nres_daily  label_mdist_parks  \\\n",
       "MAE            0.195664              0.179851           0.222819   \n",
       "R2            -0.403961              0.342671          -0.404282   \n",
       "RMSE           0.244770              0.226838           0.272159   \n",
       "\n",
       "      label_den_nres_non-daily  label_mdist_railways  label_mdist_highways  \\\n",
       "MAE                   0.159992              0.221001              0.215280   \n",
       "R2                    0.098702             -0.251449             -0.333600   \n",
       "RMSE                  0.221794              0.269486              0.273252   \n",
       "\n",
       "      label_mdist_water  label_activity_density  \n",
       "MAE            0.214943                0.170085  \n",
       "R2            -0.247077                0.202557  \n",
       "RMSE           0.262996                0.208932  \n",
       "\n",
       "[3 rows x 23 columns]"
      ]
     },
     "execution_count": 124,
     "metadata": {},
     "output_type": "execute_result"
    }
   ],
   "source": [
    "res"
   ]
  },
  {
   "cell_type": "code",
   "execution_count": null,
   "metadata": {},
   "outputs": [],
   "source": []
  },
  {
   "cell_type": "code",
   "execution_count": null,
   "metadata": {},
   "outputs": [],
   "source": []
  }
 ],
 "metadata": {
  "kernelspec": {
   "display_name": "Python 3",
   "language": "python",
   "name": "python3"
  },
  "language_info": {
   "codemirror_mode": {
    "name": "ipython",
    "version": 3
   },
   "file_extension": ".py",
   "mimetype": "text/x-python",
   "name": "python",
   "nbconvert_exporter": "python",
   "pygments_lexer": "ipython3",
   "version": "3.7.6"
  }
 },
 "nbformat": 4,
 "nbformat_minor": 2
}
