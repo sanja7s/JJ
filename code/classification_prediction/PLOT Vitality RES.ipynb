{
 "cells": [
  {
   "cell_type": "code",
   "execution_count": 224,
   "metadata": {},
   "outputs": [],
   "source": [
    "import pandas as pd\n",
    "import numpy as np\n",
    "from imblearn.under_sampling import RandomUnderSampler\n",
    "from sklearn.model_selection import StratifiedKFold\n",
    "from sklearn.preprocessing import StandardScaler\n",
    "from sklearn.metrics import accuracy_score, precision_score, recall_score, roc_auc_score\n",
    "from pathlib import Path\n",
    "\n",
    "import matplotlib as plt\n",
    "import seaborn as sns"
   ]
  },
  {
   "cell_type": "code",
   "execution_count": 225,
   "metadata": {},
   "outputs": [],
   "source": [
    "PCA_components = 64\n",
    "\n",
    "USE_GEO = \"GEO\"\n",
    "\n",
    "network_type = \"vgg16_4096\"\n",
    "\n",
    "standardize_features = True\n",
    "\n",
    "CITY = \"milano\"\n",
    "\n",
    "cities = ['milano', 'bologna', 'firenze', 'palermo', 'torino']"
   ]
  },
  {
   "cell_type": "code",
   "execution_count": 226,
   "metadata": {},
   "outputs": [],
   "source": [
    "def read_res(city):\n",
    "    if city==None:\n",
    "        res_name = '../../results/XGBoost/ALL_XGBoost' +str(PCA_components)\\\n",
    "        + '_' + network_type + '_' + USE_GEO + '_standardized7s.csv'\n",
    "    else:\n",
    "        res_name = '../../results/XGBoost/separate_cities/XGBoost'\\\n",
    "        +str(PCA_components) + '_' + city + '_' + network_type \\\n",
    "        + '_' + USE_GEO + '_standardized7s.csv'\n",
    "    \n",
    "    return pd.read_csv(res_name).rename(columns={\"Unnamed: 0\":\"metric\"})"
   ]
  },
  {
   "cell_type": "code",
   "execution_count": null,
   "metadata": {},
   "outputs": [],
   "source": []
  },
  {
   "cell_type": "code",
   "execution_count": 227,
   "metadata": {},
   "outputs": [],
   "source": [
    "def get_city_vitality_res(city):\n",
    "    tmp = read_res(city)[\"label_activity_density\"]\n",
    "    res = {}\n",
    "    res[\"P\"] = tmp.iloc[2]\n",
    "    res[\"R\"] = tmp.iloc[3]\n",
    "    res[\"AUC\"] = tmp.iloc[0]\n",
    "    return res"
   ]
  },
  {
   "cell_type": "code",
   "execution_count": 228,
   "metadata": {},
   "outputs": [],
   "source": [
    "def get_all_vitality_res():\n",
    "    all_res = {}\n",
    "    for city in cities:\n",
    "        all_res[city] = get_city_vitality_res(city)\n",
    "    all_res['all'] = get_city_vitality_res(city=None)\n",
    "    return pd.DataFrame.from_dict(all_res, orient='index')"
   ]
  },
  {
   "cell_type": "code",
   "execution_count": null,
   "metadata": {},
   "outputs": [],
   "source": []
  },
  {
   "cell_type": "code",
   "execution_count": 229,
   "metadata": {},
   "outputs": [],
   "source": [
    "def get_baseline():\n",
    "    res_name = '../../results/baseline/vitality_pop_density.csv'\n",
    "    tmp = pd.read_csv(res_name).rename(columns={\"Unnamed: 0\":\"metric\"})\n",
    "    tmp = tmp.set_index('metric')\n",
    "    return tmp.T.rename(columns={\"AUC\":\"BAUC\"}).drop(columns=[\"Accuracy\",\"Recall\",\"Precision\"])"
   ]
  },
  {
   "cell_type": "code",
   "execution_count": 230,
   "metadata": {},
   "outputs": [
    {
     "data": {
      "text/html": [
       "<div>\n",
       "<style scoped>\n",
       "    .dataframe tbody tr th:only-of-type {\n",
       "        vertical-align: middle;\n",
       "    }\n",
       "\n",
       "    .dataframe tbody tr th {\n",
       "        vertical-align: top;\n",
       "    }\n",
       "\n",
       "    .dataframe thead th {\n",
       "        text-align: right;\n",
       "    }\n",
       "</style>\n",
       "<table border=\"1\" class=\"dataframe\">\n",
       "  <thead>\n",
       "    <tr style=\"text-align: right;\">\n",
       "      <th>metric</th>\n",
       "      <th>BAUC</th>\n",
       "    </tr>\n",
       "  </thead>\n",
       "  <tbody>\n",
       "    <tr>\n",
       "      <th>milano</th>\n",
       "      <td>0.852</td>\n",
       "    </tr>\n",
       "    <tr>\n",
       "      <th>bologna</th>\n",
       "      <td>0.783</td>\n",
       "    </tr>\n",
       "    <tr>\n",
       "      <th>firenze</th>\n",
       "      <td>0.689</td>\n",
       "    </tr>\n",
       "    <tr>\n",
       "      <th>palermo</th>\n",
       "      <td>0.933</td>\n",
       "    </tr>\n",
       "    <tr>\n",
       "      <th>torino</th>\n",
       "      <td>0.893</td>\n",
       "    </tr>\n",
       "    <tr>\n",
       "      <th>all</th>\n",
       "      <td>0.827</td>\n",
       "    </tr>\n",
       "  </tbody>\n",
       "</table>\n",
       "</div>"
      ],
      "text/plain": [
       "metric    BAUC\n",
       "milano   0.852\n",
       "bologna  0.783\n",
       "firenze  0.689\n",
       "palermo  0.933\n",
       "torino   0.893\n",
       "all      0.827"
      ]
     },
     "execution_count": 230,
     "metadata": {},
     "output_type": "execute_result"
    }
   ],
   "source": [
    "get_baseline()"
   ]
  },
  {
   "cell_type": "code",
   "execution_count": 231,
   "metadata": {},
   "outputs": [
    {
     "data": {
      "text/html": [
       "<div>\n",
       "<style scoped>\n",
       "    .dataframe tbody tr th:only-of-type {\n",
       "        vertical-align: middle;\n",
       "    }\n",
       "\n",
       "    .dataframe tbody tr th {\n",
       "        vertical-align: top;\n",
       "    }\n",
       "\n",
       "    .dataframe thead th {\n",
       "        text-align: right;\n",
       "    }\n",
       "</style>\n",
       "<table border=\"1\" class=\"dataframe\">\n",
       "  <thead>\n",
       "    <tr style=\"text-align: right;\">\n",
       "      <th></th>\n",
       "      <th>P</th>\n",
       "      <th>R</th>\n",
       "      <th>AUC</th>\n",
       "    </tr>\n",
       "  </thead>\n",
       "  <tbody>\n",
       "    <tr>\n",
       "      <th>all</th>\n",
       "      <td>0.910</td>\n",
       "      <td>0.839</td>\n",
       "      <td>0.955</td>\n",
       "    </tr>\n",
       "    <tr>\n",
       "      <th>bologna</th>\n",
       "      <td>0.843</td>\n",
       "      <td>0.967</td>\n",
       "      <td>0.933</td>\n",
       "    </tr>\n",
       "    <tr>\n",
       "      <th>firenze</th>\n",
       "      <td>0.836</td>\n",
       "      <td>0.714</td>\n",
       "      <td>0.836</td>\n",
       "    </tr>\n",
       "    <tr>\n",
       "      <th>milano</th>\n",
       "      <td>0.887</td>\n",
       "      <td>0.895</td>\n",
       "      <td>0.974</td>\n",
       "    </tr>\n",
       "    <tr>\n",
       "      <th>palermo</th>\n",
       "      <td>0.808</td>\n",
       "      <td>0.871</td>\n",
       "      <td>0.911</td>\n",
       "    </tr>\n",
       "    <tr>\n",
       "      <th>torino</th>\n",
       "      <td>0.870</td>\n",
       "      <td>0.889</td>\n",
       "      <td>0.921</td>\n",
       "    </tr>\n",
       "  </tbody>\n",
       "</table>\n",
       "</div>"
      ],
      "text/plain": [
       "             P      R    AUC\n",
       "all      0.910  0.839  0.955\n",
       "bologna  0.843  0.967  0.933\n",
       "firenze  0.836  0.714  0.836\n",
       "milano   0.887  0.895  0.974\n",
       "palermo  0.808  0.871  0.911\n",
       "torino   0.870  0.889  0.921"
      ]
     },
     "execution_count": 231,
     "metadata": {},
     "output_type": "execute_result"
    }
   ],
   "source": [
    "get_all_vitality_res()"
   ]
  },
  {
   "cell_type": "code",
   "execution_count": 247,
   "metadata": {},
   "outputs": [],
   "source": [
    "def plot_res():\n",
    "    \n",
    "    fig, ax = plt.pyplot.subplots(figsize=(15,5))\n",
    "    sns.set_style(\"white\")\n",
    "    sns.set_context(\"paper\")\n",
    "\n",
    "    df = get_all_vitality_res()\n",
    "    \n",
    "    df = df.join(get_baseline())\n",
    "\n",
    "    df = df.sort_index(ascending=False)\n",
    "\n",
    "\n",
    "    colors = [\"lightskyblue\", \"cadetblue\", \"teal\", \"rosybrown\"]\n",
    "\n",
    "\n",
    "    df.plot.bar(ax=ax, edgecolor = \"white\", color=colors, alpha=0.777, capsize=3)\n",
    "\n",
    "\n",
    "    ax.set_xlabel('')\n",
    "\n",
    "    ax.set_ylim(0,1.06)\n",
    "\n",
    "    for item in ([ax.xaxis.label, ax.yaxis.label] +\n",
    "                 ax.get_yticklabels() + ax.get_xticklabels()):\n",
    "                item.set_fontsize(18)\n",
    "                item.set_weight('bold')\n",
    "                \n",
    "#     for p in ax.patches:\n",
    "#         ax.annotate(str(p.get_height()), (p.get_x() * 1.005, p.get_height() * 1.005))\n",
    "\n",
    "    x_offset = -0.08\n",
    "    y_offset = 0.015\n",
    "    for p in ax.patches:\n",
    "        b = p.get_bbox()\n",
    "        val = \"{:.2f}\".format(b.y1 + b.y0).lstrip('0')        \n",
    "        ax.annotate(val, ((b.x0 + b.x1)/2 + x_offset, b.y1 + y_offset), fontsize=15, fontweight=\"bold\")\n",
    "    \n",
    "#     plt.axhline(y=0.5, ls='--', color='red')\n",
    "\n",
    "    labels = [tick.get_text() for tick in ax.get_yticklabels()]\n",
    "\n",
    "    l = plt.pyplot.legend(bbox_to_anchor=(1.0, 1.0), prop={'size':16, 'weight':'bold'})\n",
    "#     l.draw_frame(False)\n",
    "\n",
    "    plt.pyplot.axvline(x=4.5, ls='--', color='gray')\n",
    "\n",
    "\n",
    "    plt.pyplot.tight_layout()\n",
    "\n",
    "    plt.pyplot.savefig('../../results/fig/acc_per_city.png', dpi=100)"
   ]
  },
  {
   "cell_type": "code",
   "execution_count": 248,
   "metadata": {},
   "outputs": [
    {
     "data": {
      "image/png": "[encoded data removed]",
      "text/plain": [
       "<Figure size 1080x360 with 1 Axes>"
      ]
     },
     "metadata": {},
     "output_type": "display_data"
    }
   ],
   "source": [
    "plot_res()"
   ]
  },
  {
   "cell_type": "code",
   "execution_count": null,
   "metadata": {},
   "outputs": [],
   "source": []
  },
  {
   "cell_type": "code",
   "execution_count": null,
   "metadata": {},
   "outputs": [],
   "source": []
  },
  {
   "cell_type": "code",
   "execution_count": null,
   "metadata": {},
   "outputs": [],
   "source": []
  },
  {
   "cell_type": "code",
   "execution_count": null,
   "metadata": {},
   "outputs": [],
   "source": []
  }
 ],
 "metadata": {
  "kernelspec": {
   "display_name": "Python 3",
   "language": "python",
   "name": "python3"
  },
  "language_info": {
   "codemirror_mode": {
    "name": "ipython",
    "version": 3
   },
   "file_extension": ".py",
   "mimetype": "text/x-python",
   "name": "python",
   "nbconvert_exporter": "python",
   "pygments_lexer": "ipython3",
   "version": "3.7.2"
  }
 },
 "nbformat": 4,
 "nbformat_minor": 2
}
