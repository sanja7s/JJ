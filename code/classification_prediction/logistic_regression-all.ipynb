{
 "cells": [
  {
   "cell_type": "markdown",
   "metadata": {},
   "source": [
    "# Logistic Regression"
   ]
  },
  {
   "cell_type": "code",
   "execution_count": 57,
   "metadata": {},
   "outputs": [],
   "source": [
    "import pandas as pd\n",
    "import numpy as np\n",
    "from sklearn.linear_model import LogisticRegression\n",
    "from imblearn.under_sampling import RandomUnderSampler\n",
    "from sklearn.model_selection import StratifiedKFold\n",
    "from sklearn.preprocessing import StandardScaler"
   ]
  },
  {
   "cell_type": "code",
   "execution_count": 80,
   "metadata": {},
   "outputs": [],
   "source": [
    "data_dir = \"../../preprocessed/\" \n",
    "features_dir = data_dir + \"features/features_all/\"\n",
    "labels_dir = data_dir + \"labels/\" \n",
    "\n",
    "PCA_components = 32\n",
    "features_columns = [\"PCA\"+str(i) for i in range(PCA_components)]\n",
    "\n",
    "network_type = \"resnet50\""
   ]
  },
  {
   "cell_type": "code",
   "execution_count": 81,
   "metadata": {},
   "outputs": [],
   "source": [
    "label_columns = [\"hType_mix\", \"num_intersect\", \"bld_avg_age\", \"emp_rat_num\",\\\n",
    "\t\t\t\t\"LUM5_single\",\t\"RNR_nres\", \"mdist_smallparks\", \"nig_rat_daily\",\\\n",
    "\t\t\t\t\"nig_rat_daily3\", \"mdist_nres_daily\", \"num_community_places\", \\\n",
    "\t\t\t\t\"num_community_places_poi\", \"avg_block_area\", \"sphi\", \\\n",
    "\t\t\t\t\"enterprises_empl_size\", \"pop_rat_num\",  \\\n",
    "\t\t\t\t\"emp_rat_pop\", \"den_nres_daily\",\\\n",
    "\t\t\t\t\"mdist_parks\", \"den_nres_non-daily\", \"mdist_railways\",\\\n",
    "\t\t\t\t\"mdist_highways\", \"mdist_water\", \"activity_density\"] # , \"bld_rat_area\""
   ]
  },
  {
   "cell_type": "markdown",
   "metadata": {},
   "source": [
    "## Functions"
   ]
  },
  {
   "cell_type": "code",
   "execution_count": 82,
   "metadata": {},
   "outputs": [],
   "source": [
    "def read_labels_features(city_name = None):\n",
    "    \n",
    "    if network_type == \"vgg19\":\n",
    "        df = pd.read_csv(features_dir + \"Italy_6_cities_vgg19_pca32_linear_fc_thirdlast_layer_labels_features.csv\")\n",
    "    elif network_type == \"resnet50\":\n",
    "        df = pd.read_csv(features_dir + \"Italy_6_cities_resnet_pca32_second_last_layer_labels_features.csv\")\n",
    "    \n",
    "    if city_name != None:\n",
    "        df = df[df[\"city\"] == city_name]\n",
    "\n",
    "    df[\"city_image\"] = df.\\\n",
    "        apply(lambda x: x.city + \"_\" + x.imageName, axis = 1)\n",
    "    \n",
    "    del df['imageName']\n",
    "    del df['city']\n",
    "    del df['index']\n",
    "\n",
    "    \n",
    "    return df"
   ]
  },
  {
   "cell_type": "code",
   "execution_count": 83,
   "metadata": {},
   "outputs": [],
   "source": [
    "def predict_label_i(label=\"label_hType_mix\"):\n",
    "    \n",
    "    data2 = data.copy()\n",
    "    data2 = data2[data2[label] != 1 ]\n",
    "    \n",
    "    target = data2[[\"city_image\", label]]\n",
    "    features = data2[features_columns]\n",
    "    \n",
    "    X = features.values\n",
    "    y = target[label].values\n",
    "    \n",
    "    rus = RandomUnderSampler(random_state=0)\n",
    "    X_resampled, y_resampled = rus.fit_sample(X, y)\n",
    "    \n",
    "    high = target[target[label] == 2]\n",
    "    low = target[target[label] == 0]\n",
    "    \n",
    "    clf = LogisticRegression(random_state=0,solver='lbfgs').fit(X_resampled, y_resampled)\n",
    "    print(clf.score(X, y), \"Low\", len(low), \"High\", len(high), \"NOW\", len(X_resampled)/2)"
   ]
  },
  {
   "cell_type": "code",
   "execution_count": 84,
   "metadata": {},
   "outputs": [],
   "source": [
    "def predict_label_i_KFold(label=\"label_hType_mix\"):\n",
    "    \n",
    "    kf = StratifiedKFold(n_splits=5)\n",
    "    \n",
    "    \n",
    "    data2 = data.copy()\n",
    "    data2 = data2[data2[label] != 1 ]\n",
    "    \n",
    "    target = data2[[\"city_image\", label]]\n",
    "    features = data2[features_columns]\n",
    "    \n",
    "    X = features.values\n",
    "    y = target[label].values\n",
    "    \n",
    "    rus = RandomUnderSampler(random_state=777)\n",
    "    X_resampled, y_resampled = rus.fit_sample(X, y)\n",
    "    \n",
    "    res = []\n",
    "    \n",
    "    kf.get_n_splits(X_resampled, y_resampled)\n",
    "    for train_index, test_index in kf.split(X_resampled, y_resampled):\n",
    "        \n",
    "        X_train, X_test = X_resampled[train_index], X_resampled[test_index]\n",
    "        y_train, y_test = y_resampled[train_index], y_resampled[test_index]\n",
    "    \n",
    "        clf = LogisticRegression(random_state=0,solver='lbfgs').fit(X_train, y_train)\n",
    "#         print(clf.score(X_test, y_test), \"Train\", len(X_train), \"Test\", len(X_test), \"ALL\", len(X_resampled)/2)\n",
    "        res.append(clf.score(X_test, y_test))\n",
    "        \n",
    "    return np.mean(res), np.std(res)"
   ]
  },
  {
   "cell_type": "markdown",
   "metadata": {},
   "source": [
    "## Read in Data. Chose standardized or not."
   ]
  },
  {
   "cell_type": "code",
   "execution_count": 85,
   "metadata": {},
   "outputs": [
    {
     "data": {
      "text/plain": [
       "1073"
      ]
     },
     "execution_count": 85,
     "metadata": {},
     "output_type": "execute_result"
    }
   ],
   "source": [
    "data = read_labels_features()\n",
    "len(data)"
   ]
  },
  {
   "cell_type": "code",
   "execution_count": 86,
   "metadata": {},
   "outputs": [
    {
     "data": {
      "text/html": [
       "<div>\n",
       "<style scoped>\n",
       "    .dataframe tbody tr th:only-of-type {\n",
       "        vertical-align: middle;\n",
       "    }\n",
       "\n",
       "    .dataframe tbody tr th {\n",
       "        vertical-align: top;\n",
       "    }\n",
       "\n",
       "    .dataframe thead th {\n",
       "        text-align: right;\n",
       "    }\n",
       "</style>\n",
       "<table border=\"1\" class=\"dataframe\">\n",
       "  <thead>\n",
       "    <tr style=\"text-align: right;\">\n",
       "      <th></th>\n",
       "      <th>PCA0</th>\n",
       "      <th>PCA1</th>\n",
       "      <th>PCA2</th>\n",
       "      <th>PCA3</th>\n",
       "      <th>PCA4</th>\n",
       "      <th>PCA5</th>\n",
       "      <th>PCA6</th>\n",
       "      <th>PCA7</th>\n",
       "      <th>PCA8</th>\n",
       "      <th>PCA9</th>\n",
       "      <th>...</th>\n",
       "      <th>label_emp_rat_pop</th>\n",
       "      <th>label_bld_rat_area</th>\n",
       "      <th>label_den_nres_daily</th>\n",
       "      <th>label_mdist_parks</th>\n",
       "      <th>label_den_nres_non-daily</th>\n",
       "      <th>label_mdist_railways</th>\n",
       "      <th>label_mdist_highways</th>\n",
       "      <th>label_mdist_water</th>\n",
       "      <th>label_activity_density</th>\n",
       "      <th>city_image</th>\n",
       "    </tr>\n",
       "  </thead>\n",
       "  <tbody>\n",
       "    <tr>\n",
       "      <th>0</th>\n",
       "      <td>-0.381931</td>\n",
       "      <td>-0.109740</td>\n",
       "      <td>0.968183</td>\n",
       "      <td>-0.421974</td>\n",
       "      <td>-0.226458</td>\n",
       "      <td>0.770286</td>\n",
       "      <td>-1.064367</td>\n",
       "      <td>-0.202837</td>\n",
       "      <td>-0.519910</td>\n",
       "      <td>0.436571</td>\n",
       "      <td>...</td>\n",
       "      <td>1.0</td>\n",
       "      <td>1.0</td>\n",
       "      <td>1.0</td>\n",
       "      <td>0.0</td>\n",
       "      <td>1.0</td>\n",
       "      <td>2.0</td>\n",
       "      <td>1.0</td>\n",
       "      <td>0.0</td>\n",
       "      <td>1.0</td>\n",
       "      <td>milano_S2B_MSIL2A_20181024T102059_N0209_R065_T...</td>\n",
       "    </tr>\n",
       "    <tr>\n",
       "      <th>1</th>\n",
       "      <td>-0.208971</td>\n",
       "      <td>3.186080</td>\n",
       "      <td>-1.060092</td>\n",
       "      <td>2.806268</td>\n",
       "      <td>-0.589476</td>\n",
       "      <td>2.205192</td>\n",
       "      <td>0.212444</td>\n",
       "      <td>-0.374578</td>\n",
       "      <td>1.173077</td>\n",
       "      <td>-0.866599</td>\n",
       "      <td>...</td>\n",
       "      <td>0.0</td>\n",
       "      <td>0.0</td>\n",
       "      <td>0.0</td>\n",
       "      <td>1.0</td>\n",
       "      <td>0.0</td>\n",
       "      <td>0.0</td>\n",
       "      <td>1.0</td>\n",
       "      <td>0.0</td>\n",
       "      <td>0.0</td>\n",
       "      <td>milano_S2B_MSIL2A_20181024T102059_N0209_R065_T...</td>\n",
       "    </tr>\n",
       "    <tr>\n",
       "      <th>2</th>\n",
       "      <td>-0.811480</td>\n",
       "      <td>0.160779</td>\n",
       "      <td>-0.639456</td>\n",
       "      <td>-0.999870</td>\n",
       "      <td>-0.231792</td>\n",
       "      <td>-0.076675</td>\n",
       "      <td>-0.140094</td>\n",
       "      <td>1.003483</td>\n",
       "      <td>-0.495559</td>\n",
       "      <td>-0.355126</td>\n",
       "      <td>...</td>\n",
       "      <td>0.0</td>\n",
       "      <td>2.0</td>\n",
       "      <td>2.0</td>\n",
       "      <td>0.0</td>\n",
       "      <td>2.0</td>\n",
       "      <td>1.0</td>\n",
       "      <td>1.0</td>\n",
       "      <td>2.0</td>\n",
       "      <td>2.0</td>\n",
       "      <td>milano_S2B_MSIL2A_20181024T102059_N0209_R065_T...</td>\n",
       "    </tr>\n",
       "    <tr>\n",
       "      <th>3</th>\n",
       "      <td>1.093120</td>\n",
       "      <td>-0.551000</td>\n",
       "      <td>1.219836</td>\n",
       "      <td>-0.359877</td>\n",
       "      <td>-0.724334</td>\n",
       "      <td>-0.959216</td>\n",
       "      <td>0.094147</td>\n",
       "      <td>0.723556</td>\n",
       "      <td>1.278228</td>\n",
       "      <td>-0.761471</td>\n",
       "      <td>...</td>\n",
       "      <td>1.0</td>\n",
       "      <td>0.0</td>\n",
       "      <td>0.0</td>\n",
       "      <td>1.0</td>\n",
       "      <td>0.0</td>\n",
       "      <td>0.0</td>\n",
       "      <td>2.0</td>\n",
       "      <td>2.0</td>\n",
       "      <td>0.0</td>\n",
       "      <td>milano_S2B_MSIL2A_20181024T102059_N0209_R065_T...</td>\n",
       "    </tr>\n",
       "    <tr>\n",
       "      <th>4</th>\n",
       "      <td>1.737391</td>\n",
       "      <td>-2.177757</td>\n",
       "      <td>1.527760</td>\n",
       "      <td>-0.936889</td>\n",
       "      <td>-1.160909</td>\n",
       "      <td>-0.359742</td>\n",
       "      <td>-0.102321</td>\n",
       "      <td>-1.317503</td>\n",
       "      <td>-1.770631</td>\n",
       "      <td>-0.618591</td>\n",
       "      <td>...</td>\n",
       "      <td>0.0</td>\n",
       "      <td>2.0</td>\n",
       "      <td>1.0</td>\n",
       "      <td>1.0</td>\n",
       "      <td>2.0</td>\n",
       "      <td>1.0</td>\n",
       "      <td>0.0</td>\n",
       "      <td>1.0</td>\n",
       "      <td>2.0</td>\n",
       "      <td>milano_S2B_MSIL2A_20181024T102059_N0209_R065_T...</td>\n",
       "    </tr>\n",
       "  </tbody>\n",
       "</table>\n",
       "<p>5 rows × 58 columns</p>\n",
       "</div>"
      ],
      "text/plain": [
       "       PCA0      PCA1      PCA2      PCA3      PCA4      PCA5      PCA6  \\\n",
       "0 -0.381931 -0.109740  0.968183 -0.421974 -0.226458  0.770286 -1.064367   \n",
       "1 -0.208971  3.186080 -1.060092  2.806268 -0.589476  2.205192  0.212444   \n",
       "2 -0.811480  0.160779 -0.639456 -0.999870 -0.231792 -0.076675 -0.140094   \n",
       "3  1.093120 -0.551000  1.219836 -0.359877 -0.724334 -0.959216  0.094147   \n",
       "4  1.737391 -2.177757  1.527760 -0.936889 -1.160909 -0.359742 -0.102321   \n",
       "\n",
       "       PCA7      PCA8      PCA9  ...  label_emp_rat_pop  label_bld_rat_area  \\\n",
       "0 -0.202837 -0.519910  0.436571  ...                1.0                 1.0   \n",
       "1 -0.374578  1.173077 -0.866599  ...                0.0                 0.0   \n",
       "2  1.003483 -0.495559 -0.355126  ...                0.0                 2.0   \n",
       "3  0.723556  1.278228 -0.761471  ...                1.0                 0.0   \n",
       "4 -1.317503 -1.770631 -0.618591  ...                0.0                 2.0   \n",
       "\n",
       "   label_den_nres_daily  label_mdist_parks  label_den_nres_non-daily  \\\n",
       "0                   1.0                0.0                       1.0   \n",
       "1                   0.0                1.0                       0.0   \n",
       "2                   2.0                0.0                       2.0   \n",
       "3                   0.0                1.0                       0.0   \n",
       "4                   1.0                1.0                       2.0   \n",
       "\n",
       "   label_mdist_railways  label_mdist_highways  label_mdist_water  \\\n",
       "0                   2.0                   1.0                0.0   \n",
       "1                   0.0                   1.0                0.0   \n",
       "2                   1.0                   1.0                2.0   \n",
       "3                   0.0                   2.0                2.0   \n",
       "4                   1.0                   0.0                1.0   \n",
       "\n",
       "   label_activity_density                                         city_image  \n",
       "0                     1.0  milano_S2B_MSIL2A_20181024T102059_N0209_R065_T...  \n",
       "1                     0.0  milano_S2B_MSIL2A_20181024T102059_N0209_R065_T...  \n",
       "2                     2.0  milano_S2B_MSIL2A_20181024T102059_N0209_R065_T...  \n",
       "3                     0.0  milano_S2B_MSIL2A_20181024T102059_N0209_R065_T...  \n",
       "4                     2.0  milano_S2B_MSIL2A_20181024T102059_N0209_R065_T...  \n",
       "\n",
       "[5 rows x 58 columns]"
      ]
     },
     "execution_count": 86,
     "metadata": {},
     "output_type": "execute_result"
    }
   ],
   "source": [
    "data.head()"
   ]
  },
  {
   "cell_type": "markdown",
   "metadata": {},
   "source": [
    "## Predict on Train"
   ]
  },
  {
   "cell_type": "code",
   "execution_count": 87,
   "metadata": {},
   "outputs": [
    {
     "name": "stdout",
     "output_type": "stream",
     "text": [
      "0.7069199457259159 Low 247 High 490 NOW 247.0\n"
     ]
    }
   ],
   "source": [
    "predict_label_i()"
   ]
  },
  {
   "cell_type": "code",
   "execution_count": 88,
   "metadata": {
    "scrolled": false
   },
   "outputs": [
    {
     "name": "stdout",
     "output_type": "stream",
     "text": [
      "label_hType_mix\n",
      "0.7069199457259159 Low 247 High 490 NOW 247.0\n",
      "label_num_intersect\n",
      "0.8473282442748091 Low 592 High 194 NOW 194.0\n",
      "label_bld_avg_age\n",
      "0.7645390070921986 Low 466 High 239 NOW 239.0\n",
      "label_emp_rat_num\n",
      "0.8083109919571045 Low 529 High 217 NOW 217.0\n",
      "label_LUM5_single\n",
      "0.6602475928473177 Low 319 High 408 NOW 319.0\n",
      "label_RNR_nres\n",
      "0.6413612565445026 Low 362 High 402 NOW 362.0\n",
      "label_mdist_smallparks\n",
      "0.6950261780104712 Low 533 High 231 NOW 231.0\n",
      "label_nig_rat_daily\n",
      "0.6706989247311828 Low 357 High 387 NOW 357.0\n",
      "label_nig_rat_daily3\n",
      "0.7971830985915493 Low 496 High 214 NOW 214.0\n",
      "label_mdist_nres_daily\n",
      "0.8145859085290482 Low 611 High 198 NOW 198.0\n",
      "label_num_community_places\n",
      "0.820480404551201 Low 592 High 199 NOW 199.0\n",
      "label_num_community_places_poi\n",
      "0.6019417475728155 Low 410 High 311 NOW 311.0\n",
      "label_avg_block_area\n",
      "0.8128205128205128 Low 213 High 567 NOW 213.0\n",
      "label_sphi\n",
      "0.7182910547396528 Low 503 High 246 NOW 246.0\n",
      "label_enterprises_empl_size\n",
      "0.6830530401034929 Low 306 High 467 NOW 306.0\n",
      "label_pop_rat_num\n",
      "0.8147208121827412 Low 639 High 149 NOW 149.0\n",
      "label_emp_rat_pop\n",
      "0.6769456681350955 Low 395 High 286 NOW 286.0\n",
      "label_den_nres_daily\n",
      "0.8412903225806452 Low 585 High 190 NOW 190.0\n",
      "label_mdist_parks\n",
      "0.6094839609483961 Low 372 High 345 NOW 345.0\n",
      "label_den_nres_non-daily\n",
      "0.7926208651399491 Low 579 High 207 NOW 207.0\n",
      "label_mdist_railways\n",
      "0.6734972677595629 Low 429 High 303 NOW 303.0\n",
      "label_mdist_highways\n",
      "0.72870249017038 Low 318 High 445 NOW 318.0\n",
      "label_mdist_water\n",
      "0.6352288488210819 Low 323 High 398 NOW 323.0\n",
      "label_activity_density\n",
      "0.7667934093789607 Low 572 High 217 NOW 217.0\n"
     ]
    }
   ],
   "source": [
    "for col in label_columns:\n",
    "    label = \"label_\" + col\n",
    "    print (label)\n",
    "    predict_label_i(label)"
   ]
  },
  {
   "cell_type": "markdown",
   "metadata": {},
   "source": [
    "## Predict K-Fold"
   ]
  },
  {
   "cell_type": "code",
   "execution_count": 89,
   "metadata": {},
   "outputs": [
    {
     "data": {
      "text/plain": [
       "(0.6780045351473923, 0.04731942062430861)"
      ]
     },
     "execution_count": 89,
     "metadata": {},
     "output_type": "execute_result"
    }
   ],
   "source": [
    "predict_label_i_KFold(label=\"label_hType_mix\")"
   ]
  },
  {
   "cell_type": "code",
   "execution_count": 90,
   "metadata": {
    "scrolled": false
   },
   "outputs": [],
   "source": [
    "kfold_SCORES = {}\n",
    "for col in label_columns:\n",
    "    label = \"label_\" + col\n",
    "    kfold_SCORES[label] = predict_label_i_KFold(label)"
   ]
  },
  {
   "cell_type": "code",
   "execution_count": 91,
   "metadata": {
    "scrolled": false
   },
   "outputs": [
    {
     "data": {
      "text/plain": [
       "{'label_hType_mix': (0.6780045351473923, 0.04731942062430861),\n",
       " 'label_num_intersect': (0.8119214119214119, 0.03652523378055328),\n",
       " 'label_bld_avg_age': (0.7176315789473684, 0.041270648040203535),\n",
       " 'label_emp_rat_num': (0.7626035819299652, 0.04065162878274789),\n",
       " 'label_LUM5_single': (0.5783956692913386, 0.07482352999211316),\n",
       " 'label_RNR_nres': (0.5912931034482758, 0.06827259657812657),\n",
       " 'label_mdist_smallparks': (0.6538569424964937, 0.05174227979880904),\n",
       " 'label_nig_rat_daily': (0.6203880626415839, 0.040274406853132376),\n",
       " 'label_nig_rat_daily3': (0.7263474692202463, 0.06350443899416124),\n",
       " 'label_mdist_nres_daily': (0.7503164556962025, 0.06916131819612653),\n",
       " 'label_num_community_places': (0.7837974683544304, 0.034731585733860856),\n",
       " 'label_num_community_places_poi': (0.5531483870967742, 0.04165553005524169),\n",
       " 'label_avg_block_area': (0.7818057455540355, 0.036793158588860786),\n",
       " 'label_sphi': (0.6584827870542156, 0.04785262116841759),\n",
       " 'label_enterprises_empl_size': (0.6242303078768493, 0.025068919778418783),\n",
       " 'label_pop_rat_num': (0.8183050847457627, 0.08440730908402327),\n",
       " 'label_emp_rat_pop': (0.6084820747520976, 0.036279735553669035),\n",
       " 'label_den_nres_daily': (0.8026315789473685, 0.048523918196278354),\n",
       " 'label_mdist_parks': (0.5246376811594203, 0.019765480720269363),\n",
       " 'label_den_nres_non-daily': (0.7559212459594477, 0.049115539431898836),\n",
       " 'label_mdist_railways': (0.6204172876304025, 0.045897784235237285),\n",
       " 'label_mdist_highways': (0.6871432086614174, 0.03499116975013368),\n",
       " 'label_mdist_water': (0.585175909361956, 0.01314279777237763),\n",
       " 'label_activity_density': (0.7026730820636193, 0.031288491211246064)}"
      ]
     },
     "execution_count": 91,
     "metadata": {},
     "output_type": "execute_result"
    }
   ],
   "source": [
    "kfold_SCORES"
   ]
  },
  {
   "cell_type": "code",
   "execution_count": null,
   "metadata": {},
   "outputs": [],
   "source": []
  },
  {
   "cell_type": "code",
   "execution_count": 92,
   "metadata": {},
   "outputs": [],
   "source": [
    "STANDARDIZED_res = kfold_SCORES"
   ]
  },
  {
   "cell_type": "code",
   "execution_count": 93,
   "metadata": {},
   "outputs": [
    {
     "data": {
      "text/plain": [
       "{'label_hType_mix': (0.6780045351473923, 0.04731942062430861),\n",
       " 'label_num_intersect': (0.8119214119214119, 0.03652523378055328),\n",
       " 'label_bld_avg_age': (0.7176315789473684, 0.041270648040203535),\n",
       " 'label_emp_rat_num': (0.7626035819299652, 0.04065162878274789),\n",
       " 'label_LUM5_single': (0.5783956692913386, 0.07482352999211316),\n",
       " 'label_RNR_nres': (0.5912931034482758, 0.06827259657812657),\n",
       " 'label_mdist_smallparks': (0.6538569424964937, 0.05174227979880904),\n",
       " 'label_nig_rat_daily': (0.6203880626415839, 0.040274406853132376),\n",
       " 'label_nig_rat_daily3': (0.7263474692202463, 0.06350443899416124),\n",
       " 'label_mdist_nres_daily': (0.7503164556962025, 0.06916131819612653),\n",
       " 'label_num_community_places': (0.7837974683544304, 0.034731585733860856),\n",
       " 'label_num_community_places_poi': (0.5531483870967742, 0.04165553005524169),\n",
       " 'label_avg_block_area': (0.7818057455540355, 0.036793158588860786),\n",
       " 'label_sphi': (0.6584827870542156, 0.04785262116841759),\n",
       " 'label_enterprises_empl_size': (0.6242303078768493, 0.025068919778418783),\n",
       " 'label_pop_rat_num': (0.8183050847457627, 0.08440730908402327),\n",
       " 'label_emp_rat_pop': (0.6084820747520976, 0.036279735553669035),\n",
       " 'label_den_nres_daily': (0.8026315789473685, 0.048523918196278354),\n",
       " 'label_mdist_parks': (0.5246376811594203, 0.019765480720269363),\n",
       " 'label_den_nres_non-daily': (0.7559212459594477, 0.049115539431898836),\n",
       " 'label_mdist_railways': (0.6204172876304025, 0.045897784235237285),\n",
       " 'label_mdist_highways': (0.6871432086614174, 0.03499116975013368),\n",
       " 'label_mdist_water': (0.585175909361956, 0.01314279777237763),\n",
       " 'label_activity_density': (0.7026730820636193, 0.031288491211246064)}"
      ]
     },
     "execution_count": 93,
     "metadata": {},
     "output_type": "execute_result"
    }
   ],
   "source": [
    "STANDARDIZED_res"
   ]
  },
  {
   "cell_type": "code",
   "execution_count": null,
   "metadata": {},
   "outputs": [],
   "source": []
  },
  {
   "cell_type": "code",
   "execution_count": null,
   "metadata": {},
   "outputs": [],
   "source": []
  },
  {
   "cell_type": "code",
   "execution_count": null,
   "metadata": {},
   "outputs": [],
   "source": []
  },
  {
   "cell_type": "code",
   "execution_count": null,
   "metadata": {},
   "outputs": [],
   "source": []
  }
 ],
 "metadata": {
  "kernelspec": {
   "display_name": "Python 3",
   "language": "python",
   "name": "python3"
  },
  "language_info": {
   "codemirror_mode": {
    "name": "ipython",
    "version": 3
   },
   "file_extension": ".py",
   "mimetype": "text/x-python",
   "name": "python",
   "nbconvert_exporter": "python",
   "pygments_lexer": "ipython3",
   "version": "3.7.2"
  }
 },
 "nbformat": 4,
 "nbformat_minor": 2
}
