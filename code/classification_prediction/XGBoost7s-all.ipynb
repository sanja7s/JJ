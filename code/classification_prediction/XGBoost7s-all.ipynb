{
 "cells": [
  {
   "cell_type": "markdown",
   "metadata": {},
   "source": [
    "# XGBoost ALL"
   ]
  },
  {
   "cell_type": "code",
   "execution_count": 1,
   "metadata": {},
   "outputs": [],
   "source": [
    "import pandas as pd\n",
    "import numpy as np\n",
    "from imblearn.under_sampling import RandomUnderSampler\n",
    "from sklearn.model_selection import StratifiedKFold\n",
    "from sklearn.preprocessing import StandardScaler\n",
    "from sklearn.metrics import accuracy_score, precision_score, recall_score, roc_auc_score\n",
    "from pathlib import Path\n",
    "import xgboost as xgb"
   ]
  },
  {
   "cell_type": "code",
   "execution_count": 2,
   "metadata": {},
   "outputs": [],
   "source": [
    "data_dir = \"../../preprocessed/\" \n",
    "features_dir = data_dir + \"features/features_all/\"\n",
    "labels_dir = data_dir + \"labels/\" \n",
    "\n",
    "standardize_features = True\n",
    "\n",
    "PCA_components = 64\n",
    "\n",
    "USE_GEO = \"GEO\"\n",
    "\n",
    "if USE_GEO == \"GEO\":\n",
    "    features_columns = [\"PCA\"+str(i) for i in range(PCA_components)] + \\\n",
    "                        [\"centroid_x\", \"centroid_y\"]\n",
    "else:\n",
    "    features_columns = [\"PCA\"+str(i) for i in range(PCA_components)]\n",
    "        \n",
    "\n",
    "\n",
    "network_type = \"vgg16_4096\"\n",
    "\n",
    "\n",
    "\n",
    "standardize_features = True\n",
    "\n",
    "# feature_size = 2048"
   ]
  },
  {
   "cell_type": "code",
   "execution_count": 3,
   "metadata": {},
   "outputs": [],
   "source": [
    "label_columns = [\"hType_mix\", \"num_intersect\", \"bld_avg_age\", \"emp_rat_num\",\\\n",
    "\t\t\t\t\"LUM5_single\",\t\"RNR_nres\", \"mdist_smallparks\", \"nig_rat_daily\",\\\n",
    "\t\t\t\t\"nig_rat_daily3\", \"mdist_nres_daily\", \"num_community_places\", \\\n",
    "\t\t\t\t\"num_community_places_poi\", \"avg_block_area\", \"sphi\", \\\n",
    "\t\t\t\t\"enterprises_empl_size\", \"pop_rat_num\",  \\\n",
    "\t\t\t\t\"emp_rat_pop\", \"den_nres_daily\",\\\n",
    "\t\t\t\t\"mdist_parks\", \"den_nres_non-daily\", \"mdist_railways\",\\\n",
    "\t\t\t\t\"mdist_highways\", \"mdist_water\", \"activity_density\"] # \"bld_rat_area\", "
   ]
  },
  {
   "cell_type": "code",
   "execution_count": 4,
   "metadata": {},
   "outputs": [],
   "source": [
    "land_use = [\n",
    "\"LUM5_single\",\"RNR_nres\",\"mdist_smallparks\",\n",
    "\"hType_mix\", \"nig_rat_daily\", \"mdist_nres_daily\",\n",
    "\"num_community_places\", \"num_community_places_poi\"]\n",
    "\n",
    "\n",
    "small_blocks = [\n",
    "\"avg_block_area\",\"num_intersect\", \"sphi\"]\n",
    "\n",
    "\n",
    "age_buildings = [\n",
    "\"bld_avg_age\",\"enterprises_empl_size\"]\n",
    "\n",
    "concentration = [\n",
    "\"pop_rat_num\",\"emp_rat_num\",\"emp_rat_pop\"\n",
    "    ,\"den_nres_daily\",\"den_nres_non-daily\"]\n",
    "\n",
    "vacuums = [\n",
    "\"mdist_parks\", \"mdist_railways\",\n",
    "\"mdist_highways\", \"mdist_water\"]\n",
    "\n"
   ]
  },
  {
   "cell_type": "markdown",
   "metadata": {},
   "source": [
    "## Functions"
   ]
  },
  {
   "cell_type": "code",
   "execution_count": 5,
   "metadata": {},
   "outputs": [],
   "source": [
    "def get_normalized_labels_features():\n",
    "    if network_type == \"vgg19\":\n",
    "        df = pd.read_csv(features_dir + \"Italy_6_cities_vgg19_pca\"+str(PCA_components)+\"_linear_fc_thirdlast_layer_labels_features.csv\")\n",
    "    elif network_type == \"resnet50\":\n",
    "        df = pd.read_csv(features_dir + \"Italy_6_cities_resnet_pca\"+str(PCA_components)+\"_second_last_layer_labels_features.csv\")\n",
    "    elif network_type == \"vgg16_4096\":\n",
    "        df = pd.read_csv(features_dir + \"Italy_6_cities_resnet_pca\" + str(PCA_components) + \"_vgg16_4096_labels_features.csv\")\n",
    "\n",
    "    df[\"city_image\"] = df.\\\n",
    "        apply(lambda x: x.city + \"_\" + x.imageName, axis = 1)\n",
    "    \n",
    "    del df['imageName']\n",
    "    del df['city']\n",
    "    del df['index']\n",
    "    return df"
   ]
  },
  {
   "cell_type": "code",
   "execution_count": 6,
   "metadata": {},
   "outputs": [],
   "source": [
    "def predict_label_i(label=\"label_hType_mix\"):\n",
    "    \n",
    "    data2 = data.copy()\n",
    "    data2 = data2[data2[label] != 1 ]\n",
    "    \n",
    "    target = data2[[\"city_image\", label]]\n",
    "    target[label] = target[label].apply(lambda x: int(x) if x == 0 else 1)\n",
    "    \n",
    "    features = data2[features_columns]\n",
    "    \n",
    "    X = features.values\n",
    "    y = target[label].values\n",
    "    \n",
    "    rus = RandomUnderSampler(random_state=0)\n",
    "    X_resampled, y_resampled = rus.fit_sample(X, y)\n",
    "    \n",
    "    high = target[target[label] == 2]\n",
    "    low = target[target[label] == 0]\n",
    "    \n",
    "    clf = xgb.XGBClassifier().fit(X_resampled, y_resampled)\n",
    "    \n",
    "    print(clf.score(X_resampled, y_resampled), \"Low\", len(low), \"High\", len(high), \"NOW\", len(X_resampled)/2)"
   ]
  },
  {
   "cell_type": "code",
   "execution_count": 7,
   "metadata": {},
   "outputs": [],
   "source": [
    "def predict_label_i_KFold(label=\"label_hType_mix\"):\n",
    "    \n",
    "    kf = StratifiedKFold(n_splits=5)\n",
    "    \n",
    "    \n",
    "    data2 = data.copy()\n",
    "    data3 = data2[data2[label] != 1 ].copy()\n",
    "    \n",
    "\n",
    "    target = data3[label].apply(lambda x: int(x) if x == 0 else 1)\n",
    "    \n",
    "    \n",
    "    features = data3[features_columns]\n",
    "    \n",
    "    X = features.values\n",
    "    y = target\n",
    "    \n",
    "    rus = RandomUnderSampler(random_state=1)\n",
    "    X_resampled, y_resampled = rus.fit_sample(X, y)\n",
    "    \n",
    "    acc = []\n",
    "    auc = []\n",
    "    P = []\n",
    "    R = []\n",
    "    \n",
    "#     print (y_resampled)\n",
    "#     print (sum(y_resampled),len(y_resampled))\n",
    "    \n",
    "\n",
    "    kf.get_n_splits(X_resampled, y_resampled)\n",
    "    for train_index, test_index in kf.split(X_resampled, y_resampled):\n",
    "        \n",
    "        X_train, X_test = X_resampled[train_index], X_resampled[test_index]\n",
    "        y_train, y_test = y_resampled[train_index], y_resampled[test_index]\n",
    "    \n",
    "        param_dist = {'objective':'binary:logistic', 'n_estimators':16}\n",
    "        clf = xgb.XGBModel(**param_dist)\n",
    "        \n",
    "        clf.fit(X_train, y_train,\n",
    "#                 eval_metric='auc',\n",
    "                verbose=False)\n",
    "        \n",
    "        predictions = clf.predict(X_test)\n",
    "        accuracy = accuracy_score(y_test, predictions.round())\n",
    "        precision=precision_score(y_test, predictions.round())\n",
    "        recall=recall_score(y_test, predictions.round())\n",
    "        roc=roc_auc_score(y_test,predictions)\n",
    "        \n",
    "#         print (predictions)\n",
    "#         print (predictions.round())\n",
    "#         print (y_test)\n",
    "#         print (sum(y_test), len(y_test))\n",
    "        \n",
    "        acc.append(accuracy)\n",
    "        auc.append(roc)\n",
    "        P.append(precision)\n",
    "        R.append(recall)\n",
    "        \n",
    "    return  ( {\"Accuracy\": (np.mean(acc), np.std(acc)),\n",
    "            \"Precision\" : (np.mean(P), np.std(P)),\n",
    "            \"Recall\": (np.mean(R), np.std(R)),\n",
    "            \"AUC\": (np.mean(auc), np.std(auc))  },\n",
    "            {\"Accuracy\": np.mean(acc),\n",
    "            \"Precision\" : np.mean(P),\n",
    "            \"Recall\": np.mean(R),\n",
    "            \"AUC\": np.mean(auc) })"
   ]
  },
  {
   "cell_type": "markdown",
   "metadata": {},
   "source": [
    "## Read in Data. Chose standardized or not."
   ]
  },
  {
   "cell_type": "code",
   "execution_count": 8,
   "metadata": {},
   "outputs": [],
   "source": [
    "data = get_normalized_labels_features()"
   ]
  },
  {
   "cell_type": "markdown",
   "metadata": {},
   "source": [
    "## Predict K-Fold"
   ]
  },
  {
   "cell_type": "code",
   "execution_count": 9,
   "metadata": {},
   "outputs": [
    {
     "data": {
      "text/plain": [
       "({'Accuracy': (0.688126159554731, 0.03768520729574099),\n",
       "  'Precision': (0.6788409361637113, 0.04917816525830776),\n",
       "  'Recall': (0.7290612244897959, 0.0705432717285811),\n",
       "  'AUC': (0.7396151603498542, 0.05626567283763688)},\n",
       " {'Accuracy': 0.688126159554731,\n",
       "  'Precision': 0.6788409361637113,\n",
       "  'Recall': 0.7290612244897959,\n",
       "  'AUC': 0.7396151603498542})"
      ]
     },
     "execution_count": 9,
     "metadata": {},
     "output_type": "execute_result"
    }
   ],
   "source": [
    "predict_label_i_KFold(label=\"label_hType_mix\")"
   ]
  },
  {
   "cell_type": "code",
   "execution_count": 10,
   "metadata": {
    "scrolled": true
   },
   "outputs": [],
   "source": [
    "kfold_SCORES = {}\n",
    "kfold_SCORES2 = {}\n",
    "for col in label_columns:\n",
    "    label = \"label_\" + col\n",
    "    (res1, res2) = predict_label_i_KFold(label)\n",
    "    kfold_SCORES[label] = res1\n",
    "    kfold_SCORES2[label] = res2"
   ]
  },
  {
   "cell_type": "code",
   "execution_count": 11,
   "metadata": {
    "scrolled": false
   },
   "outputs": [
    {
     "data": {
      "text/plain": [
       "{'label_hType_mix': {'Accuracy': 0.688126159554731,\n",
       "  'Precision': 0.6788409361637113,\n",
       "  'Recall': 0.7290612244897959,\n",
       "  'AUC': 0.7396151603498542},\n",
       " 'label_num_intersect': {'Accuracy': 0.8631701631701633,\n",
       "  'Precision': 0.8760989010989011,\n",
       "  'Recall': 0.8448043184885291,\n",
       "  'AUC': 0.9393231599709331},\n",
       " 'label_bld_avg_age': {'Accuracy': 0.8219298245614036,\n",
       "  'Precision': 0.8269358974358975,\n",
       "  'Recall': 0.8078014184397164,\n",
       "  'AUC': 0.8795970005910165},\n",
       " 'label_emp_rat_num': {'Accuracy': 0.8663458968190323,\n",
       "  'Precision': 0.8928442971756926,\n",
       "  'Recall': 0.8345665961945032,\n",
       "  'AUC': 0.9386769261025616},\n",
       " 'label_LUM5_single': {'Accuracy': 0.5861589566929133,\n",
       "  'Precision': 0.5804067687133644,\n",
       "  'Recall': 0.6393353174603175,\n",
       "  'AUC': 0.6272716703869048},\n",
       " 'label_RNR_nres': {'Accuracy': 0.6160153256704981,\n",
       "  'Precision': 0.6112233700084333,\n",
       "  'Recall': 0.6821537290715373,\n",
       "  'AUC': 0.6645421106037543},\n",
       " 'label_mdist_smallparks': {'Accuracy': 0.681790556334736,\n",
       "  'Precision': 0.6806577480490524,\n",
       "  'Recall': 0.6885291396854764,\n",
       "  'AUC': 0.7557977717894059},\n",
       " 'label_nig_rat_daily': {'Accuracy': 0.6610164483403921,\n",
       "  'Precision': 0.6683796128971102,\n",
       "  'Recall': 0.661150234741784,\n",
       "  'AUC': 0.7142068372677379},\n",
       " 'label_nig_rat_daily3': {'Accuracy': 0.9040218878248973,\n",
       "  'Precision': 0.9134877009295614,\n",
       "  'Recall': 0.8918050941306754,\n",
       "  'AUC': 0.9481727574750829},\n",
       " 'label_mdist_nres_daily': {'Accuracy': 0.8309493670886076,\n",
       "  'Precision': 0.856672625619994,\n",
       "  'Recall': 0.7984615384615384,\n",
       "  'AUC': 0.9214102564102564},\n",
       " 'label_num_community_places': {'Accuracy': 0.8540506329113924,\n",
       "  'Precision': 0.8648446307269838,\n",
       "  'Recall': 0.8383333333333333,\n",
       "  'AUC': 0.9330480769230769},\n",
       " 'label_num_community_places_poi': {'Accuracy': 0.6204774193548388,\n",
       "  'Precision': 0.6364063750734898,\n",
       "  'Recall': 0.5525857654889913,\n",
       "  'AUC': 0.6831070478833225},\n",
       " 'label_avg_block_area': {'Accuracy': 0.8356497948016415,\n",
       "  'Precision': 0.8126777531570681,\n",
       "  'Recall': 0.8732004429678847,\n",
       "  'AUC': 0.8896572149681938},\n",
       " 'label_sphi': {'Accuracy': 0.7134817563388991,\n",
       "  'Precision': 0.7248025795714582,\n",
       "  'Recall': 0.6866938775510205,\n",
       "  'AUC': 0.7865972511453562},\n",
       " 'label_enterprises_empl_size': {'Accuracy': 0.6469945355191258,\n",
       "  'Precision': 0.6455489252420884,\n",
       "  'Recall': 0.6700687466948704,\n",
       "  'AUC': 0.7070012396944978},\n",
       " 'label_pop_rat_num': {'Accuracy': 0.761412429378531,\n",
       "  'Precision': 0.7753337977475908,\n",
       "  'Recall': 0.7381609195402299,\n",
       "  'AUC': 0.8417164750957854},\n",
       " 'label_emp_rat_pop': {'Accuracy': 0.6450038138825325,\n",
       "  'Precision': 0.6687825459275417,\n",
       "  'Recall': 0.5802782819116757,\n",
       "  'AUC': 0.7147451205145351},\n",
       " 'label_den_nres_daily': {'Accuracy': 0.8526315789473683,\n",
       "  'Precision': 0.8634388480264604,\n",
       "  'Recall': 0.8368421052631578,\n",
       "  'AUC': 0.9137119113573406},\n",
       " 'label_mdist_parks': {'Accuracy': 0.5507246376811594,\n",
       "  'Precision': 0.5548963430108318,\n",
       "  'Recall': 0.5246376811594203,\n",
       "  'AUC': 0.5709724847721066},\n",
       " 'label_den_nres_non-daily': {'Accuracy': 0.8744930943285338,\n",
       "  'Precision': 0.8766959064327485,\n",
       "  'Recall': 0.8797909407665505,\n",
       "  'AUC': 0.9345372652332795},\n",
       " 'label_mdist_railways': {'Accuracy': 0.6634195908413494,\n",
       "  'Precision': 0.6737805168239126,\n",
       "  'Recall': 0.6373770491803279,\n",
       "  'AUC': 0.7277040222162501},\n",
       " 'label_mdist_highways': {'Accuracy': 0.7185531496062992,\n",
       "  'Precision': 0.6958741929591796,\n",
       "  'Recall': 0.782986111111111,\n",
       "  'AUC': 0.787895275297619},\n",
       " 'label_mdist_water': {'Accuracy': 0.6671794871794872,\n",
       "  'Precision': 0.6695749003611906,\n",
       "  'Recall': 0.6717788461538461,\n",
       "  'AUC': 0.7474208579881656},\n",
       " 'label_activity_density': {'Accuracy': 0.8778668805132318,\n",
       "  'Precision': 0.9102861907739956,\n",
       "  'Recall': 0.8391120507399578,\n",
       "  'AUC': 0.9548158709867742}}"
      ]
     },
     "execution_count": 11,
     "metadata": {},
     "output_type": "execute_result"
    }
   ],
   "source": [
    "kfold_SCORES2"
   ]
  },
  {
   "cell_type": "code",
   "execution_count": null,
   "metadata": {},
   "outputs": [],
   "source": []
  },
  {
   "cell_type": "code",
   "execution_count": 12,
   "metadata": {},
   "outputs": [],
   "source": [
    "res = pd.DataFrame(kfold_SCORES2)"
   ]
  },
  {
   "cell_type": "code",
   "execution_count": 13,
   "metadata": {},
   "outputs": [
    {
     "data": {
      "text/html": [
       "<div>\n",
       "<style scoped>\n",
       "    .dataframe tbody tr th:only-of-type {\n",
       "        vertical-align: middle;\n",
       "    }\n",
       "\n",
       "    .dataframe tbody tr th {\n",
       "        vertical-align: top;\n",
       "    }\n",
       "\n",
       "    .dataframe thead th {\n",
       "        text-align: right;\n",
       "    }\n",
       "</style>\n",
       "<table border=\"1\" class=\"dataframe\">\n",
       "  <thead>\n",
       "    <tr style=\"text-align: right;\">\n",
       "      <th></th>\n",
       "      <th>label_hType_mix</th>\n",
       "      <th>label_num_intersect</th>\n",
       "      <th>label_bld_avg_age</th>\n",
       "      <th>label_emp_rat_num</th>\n",
       "      <th>label_LUM5_single</th>\n",
       "      <th>label_RNR_nres</th>\n",
       "      <th>label_mdist_smallparks</th>\n",
       "      <th>label_nig_rat_daily</th>\n",
       "      <th>label_nig_rat_daily3</th>\n",
       "      <th>label_mdist_nres_daily</th>\n",
       "      <th>...</th>\n",
       "      <th>label_enterprises_empl_size</th>\n",
       "      <th>label_pop_rat_num</th>\n",
       "      <th>label_emp_rat_pop</th>\n",
       "      <th>label_den_nres_daily</th>\n",
       "      <th>label_mdist_parks</th>\n",
       "      <th>label_den_nres_non-daily</th>\n",
       "      <th>label_mdist_railways</th>\n",
       "      <th>label_mdist_highways</th>\n",
       "      <th>label_mdist_water</th>\n",
       "      <th>label_activity_density</th>\n",
       "    </tr>\n",
       "  </thead>\n",
       "  <tbody>\n",
       "    <tr>\n",
       "      <th>AUC</th>\n",
       "      <td>0.739615</td>\n",
       "      <td>0.939323</td>\n",
       "      <td>0.879597</td>\n",
       "      <td>0.938677</td>\n",
       "      <td>0.627272</td>\n",
       "      <td>0.664542</td>\n",
       "      <td>0.755798</td>\n",
       "      <td>0.714207</td>\n",
       "      <td>0.948173</td>\n",
       "      <td>0.921410</td>\n",
       "      <td>...</td>\n",
       "      <td>0.707001</td>\n",
       "      <td>0.841716</td>\n",
       "      <td>0.714745</td>\n",
       "      <td>0.913712</td>\n",
       "      <td>0.570972</td>\n",
       "      <td>0.934537</td>\n",
       "      <td>0.727704</td>\n",
       "      <td>0.787895</td>\n",
       "      <td>0.747421</td>\n",
       "      <td>0.954816</td>\n",
       "    </tr>\n",
       "    <tr>\n",
       "      <th>Accuracy</th>\n",
       "      <td>0.688126</td>\n",
       "      <td>0.863170</td>\n",
       "      <td>0.821930</td>\n",
       "      <td>0.866346</td>\n",
       "      <td>0.586159</td>\n",
       "      <td>0.616015</td>\n",
       "      <td>0.681791</td>\n",
       "      <td>0.661016</td>\n",
       "      <td>0.904022</td>\n",
       "      <td>0.830949</td>\n",
       "      <td>...</td>\n",
       "      <td>0.646995</td>\n",
       "      <td>0.761412</td>\n",
       "      <td>0.645004</td>\n",
       "      <td>0.852632</td>\n",
       "      <td>0.550725</td>\n",
       "      <td>0.874493</td>\n",
       "      <td>0.663420</td>\n",
       "      <td>0.718553</td>\n",
       "      <td>0.667179</td>\n",
       "      <td>0.877867</td>\n",
       "    </tr>\n",
       "    <tr>\n",
       "      <th>Precision</th>\n",
       "      <td>0.678841</td>\n",
       "      <td>0.876099</td>\n",
       "      <td>0.826936</td>\n",
       "      <td>0.892844</td>\n",
       "      <td>0.580407</td>\n",
       "      <td>0.611223</td>\n",
       "      <td>0.680658</td>\n",
       "      <td>0.668380</td>\n",
       "      <td>0.913488</td>\n",
       "      <td>0.856673</td>\n",
       "      <td>...</td>\n",
       "      <td>0.645549</td>\n",
       "      <td>0.775334</td>\n",
       "      <td>0.668783</td>\n",
       "      <td>0.863439</td>\n",
       "      <td>0.554896</td>\n",
       "      <td>0.876696</td>\n",
       "      <td>0.673781</td>\n",
       "      <td>0.695874</td>\n",
       "      <td>0.669575</td>\n",
       "      <td>0.910286</td>\n",
       "    </tr>\n",
       "    <tr>\n",
       "      <th>Recall</th>\n",
       "      <td>0.729061</td>\n",
       "      <td>0.844804</td>\n",
       "      <td>0.807801</td>\n",
       "      <td>0.834567</td>\n",
       "      <td>0.639335</td>\n",
       "      <td>0.682154</td>\n",
       "      <td>0.688529</td>\n",
       "      <td>0.661150</td>\n",
       "      <td>0.891805</td>\n",
       "      <td>0.798462</td>\n",
       "      <td>...</td>\n",
       "      <td>0.670069</td>\n",
       "      <td>0.738161</td>\n",
       "      <td>0.580278</td>\n",
       "      <td>0.836842</td>\n",
       "      <td>0.524638</td>\n",
       "      <td>0.879791</td>\n",
       "      <td>0.637377</td>\n",
       "      <td>0.782986</td>\n",
       "      <td>0.671779</td>\n",
       "      <td>0.839112</td>\n",
       "    </tr>\n",
       "  </tbody>\n",
       "</table>\n",
       "<p>4 rows × 24 columns</p>\n",
       "</div>"
      ],
      "text/plain": [
       "           label_hType_mix  label_num_intersect  label_bld_avg_age  \\\n",
       "AUC               0.739615             0.939323           0.879597   \n",
       "Accuracy          0.688126             0.863170           0.821930   \n",
       "Precision         0.678841             0.876099           0.826936   \n",
       "Recall            0.729061             0.844804           0.807801   \n",
       "\n",
       "           label_emp_rat_num  label_LUM5_single  label_RNR_nres  \\\n",
       "AUC                 0.938677           0.627272        0.664542   \n",
       "Accuracy            0.866346           0.586159        0.616015   \n",
       "Precision           0.892844           0.580407        0.611223   \n",
       "Recall              0.834567           0.639335        0.682154   \n",
       "\n",
       "           label_mdist_smallparks  label_nig_rat_daily  label_nig_rat_daily3  \\\n",
       "AUC                      0.755798             0.714207              0.948173   \n",
       "Accuracy                 0.681791             0.661016              0.904022   \n",
       "Precision                0.680658             0.668380              0.913488   \n",
       "Recall                   0.688529             0.661150              0.891805   \n",
       "\n",
       "           label_mdist_nres_daily  ...  label_enterprises_empl_size  \\\n",
       "AUC                      0.921410  ...                     0.707001   \n",
       "Accuracy                 0.830949  ...                     0.646995   \n",
       "Precision                0.856673  ...                     0.645549   \n",
       "Recall                   0.798462  ...                     0.670069   \n",
       "\n",
       "           label_pop_rat_num  label_emp_rat_pop  label_den_nres_daily  \\\n",
       "AUC                 0.841716           0.714745              0.913712   \n",
       "Accuracy            0.761412           0.645004              0.852632   \n",
       "Precision           0.775334           0.668783              0.863439   \n",
       "Recall              0.738161           0.580278              0.836842   \n",
       "\n",
       "           label_mdist_parks  label_den_nres_non-daily  label_mdist_railways  \\\n",
       "AUC                 0.570972                  0.934537              0.727704   \n",
       "Accuracy            0.550725                  0.874493              0.663420   \n",
       "Precision           0.554896                  0.876696              0.673781   \n",
       "Recall              0.524638                  0.879791              0.637377   \n",
       "\n",
       "           label_mdist_highways  label_mdist_water  label_activity_density  \n",
       "AUC                    0.787895           0.747421                0.954816  \n",
       "Accuracy               0.718553           0.667179                0.877867  \n",
       "Precision              0.695874           0.669575                0.910286  \n",
       "Recall                 0.782986           0.671779                0.839112  \n",
       "\n",
       "[4 rows x 24 columns]"
      ]
     },
     "execution_count": 13,
     "metadata": {},
     "output_type": "execute_result"
    }
   ],
   "source": [
    "res"
   ]
  },
  {
   "cell_type": "code",
   "execution_count": null,
   "metadata": {},
   "outputs": [],
   "source": []
  },
  {
   "cell_type": "code",
   "execution_count": 14,
   "metadata": {},
   "outputs": [],
   "source": [
    "if standardize_features:\n",
    "    out_name = '../../results/XGBoost/ALL_XGBoost' +str(PCA_components)\\\n",
    "            + '_' + network_type + '_' + USE_GEO + '_standardized7s.csv'\n",
    "else:\n",
    "    out_name = '../../results/XGBoost/ALL_XGBoost' +str(PCA_components)\\\n",
    "       + '_' + network_type + '_' + USE_GEO +   '7s.csv'\n",
    "res.to_csv(out_name, float_format='%.3f')"
   ]
  },
  {
   "cell_type": "code",
   "execution_count": null,
   "metadata": {},
   "outputs": [],
   "source": []
  },
  {
   "cell_type": "code",
   "execution_count": 15,
   "metadata": {},
   "outputs": [],
   "source": [
    "res_dir = '../../results/XGBoost/ALL_' + network_type + '_' + USE_GEO +\"_\" + str(PCA_components)\n",
    "Path(res_dir).mkdir(parents=True, exist_ok=True)"
   ]
  },
  {
   "cell_type": "code",
   "execution_count": null,
   "metadata": {},
   "outputs": [],
   "source": []
  },
  {
   "cell_type": "code",
   "execution_count": 16,
   "metadata": {},
   "outputs": [],
   "source": [
    "land_use_cols = [\"label_\"+l for l in land_use]\n",
    "res_land_use = res[land_use_cols]"
   ]
  },
  {
   "cell_type": "code",
   "execution_count": 17,
   "metadata": {},
   "outputs": [],
   "source": [
    "small_blocks_cols = [\"label_\"+l for l in small_blocks]\n",
    "res_small_blocks = res[small_blocks_cols]"
   ]
  },
  {
   "cell_type": "code",
   "execution_count": 18,
   "metadata": {},
   "outputs": [],
   "source": [
    "age_buildings_cols = [\"label_\"+l for l in age_buildings]\n",
    "res_age_buildings = res[age_buildings_cols]"
   ]
  },
  {
   "cell_type": "code",
   "execution_count": 19,
   "metadata": {},
   "outputs": [],
   "source": [
    "concentration_cols = [\"label_\"+l for l in concentration]\n",
    "res_concentration = res[concentration_cols]"
   ]
  },
  {
   "cell_type": "code",
   "execution_count": 20,
   "metadata": {},
   "outputs": [],
   "source": [
    "vacuums_cols = [\"label_\"+l for l in vacuums]\n",
    "res_vacuums = res[vacuums_cols]"
   ]
  },
  {
   "cell_type": "code",
   "execution_count": null,
   "metadata": {},
   "outputs": [],
   "source": []
  },
  {
   "cell_type": "code",
   "execution_count": 21,
   "metadata": {
    "scrolled": true
   },
   "outputs": [],
   "source": [
    "for out_cat_name in [\"land_use\", \"small_blocks\", \\\n",
    "                     \"age_buildings\", \"concentration\",\n",
    "                    \"vacuums\"]:\n",
    "    eval(\"res_\" + out_cat_name).to_csv(res_dir + \"/res_\" + out_cat_name+\\\n",
    "                                       \".csv\", float_format='%.3f')"
   ]
  },
  {
   "cell_type": "code",
   "execution_count": null,
   "metadata": {},
   "outputs": [],
   "source": []
  },
  {
   "cell_type": "code",
   "execution_count": null,
   "metadata": {},
   "outputs": [],
   "source": []
  },
  {
   "cell_type": "code",
   "execution_count": null,
   "metadata": {},
   "outputs": [],
   "source": []
  },
  {
   "cell_type": "code",
   "execution_count": null,
   "metadata": {},
   "outputs": [],
   "source": []
  },
  {
   "cell_type": "code",
   "execution_count": null,
   "metadata": {},
   "outputs": [],
   "source": []
  }
 ],
 "metadata": {
  "kernelspec": {
   "display_name": "Python 3",
   "language": "python",
   "name": "python3"
  },
  "language_info": {
   "codemirror_mode": {
    "name": "ipython",
    "version": 3
   },
   "file_extension": ".py",
   "mimetype": "text/x-python",
   "name": "python",
   "nbconvert_exporter": "python",
   "pygments_lexer": "ipython3",
   "version": "3.7.2"
  }
 },
 "nbformat": 4,
 "nbformat_minor": 2
}
